{
 "cells": [
  {
   "cell_type": "code",
   "execution_count": 1,
   "metadata": {},
   "outputs": [],
   "source": [
    "# TODO: 家族の生存の相関\n",
    "# https://www.mirandora.com/?p=1804"
   ]
  },
  {
   "cell_type": "code",
   "execution_count": 75,
   "metadata": {},
   "outputs": [],
   "source": [
    "import re\n",
    "import numpy as np\n",
    "import pandas as pd\n",
    "import seaborn as sns\n",
    "from sklearn import tree\n",
    "from sklearn import ensemble\n",
    "import lightgbm as lgb\n",
    "from sklearn.model_selection import train_test_split\n",
    "from sklearn.metrics import accuracy_score\n",
    "from sklearn.metrics import mean_squared_error\n",
    "from sklearn.metrics import r2_score"
   ]
  },
  {
   "cell_type": "code",
   "execution_count": 3,
   "metadata": {},
   "outputs": [
    {
     "data": {
      "text/html": [
       "<div>\n",
       "<style scoped>\n",
       "    .dataframe tbody tr th:only-of-type {\n",
       "        vertical-align: middle;\n",
       "    }\n",
       "\n",
       "    .dataframe tbody tr th {\n",
       "        vertical-align: top;\n",
       "    }\n",
       "\n",
       "    .dataframe thead th {\n",
       "        text-align: right;\n",
       "    }\n",
       "</style>\n",
       "<table border=\"1\" class=\"dataframe\">\n",
       "  <thead>\n",
       "    <tr style=\"text-align: right;\">\n",
       "      <th></th>\n",
       "      <th>PassengerId</th>\n",
       "      <th>Survived</th>\n",
       "      <th>Pclass</th>\n",
       "      <th>Name</th>\n",
       "      <th>Sex</th>\n",
       "      <th>Age</th>\n",
       "      <th>SibSp</th>\n",
       "      <th>Parch</th>\n",
       "      <th>Ticket</th>\n",
       "      <th>Fare</th>\n",
       "      <th>Cabin</th>\n",
       "      <th>Embarked</th>\n",
       "    </tr>\n",
       "  </thead>\n",
       "  <tbody>\n",
       "    <tr>\n",
       "      <th>301</th>\n",
       "      <td>302</td>\n",
       "      <td>1</td>\n",
       "      <td>3</td>\n",
       "      <td>McCoy, Mr. Bernard</td>\n",
       "      <td>male</td>\n",
       "      <td>NaN</td>\n",
       "      <td>2</td>\n",
       "      <td>0</td>\n",
       "      <td>367226</td>\n",
       "      <td>23.2500</td>\n",
       "      <td>NaN</td>\n",
       "      <td>Q</td>\n",
       "    </tr>\n",
       "    <tr>\n",
       "      <th>309</th>\n",
       "      <td>310</td>\n",
       "      <td>1</td>\n",
       "      <td>1</td>\n",
       "      <td>Francatelli, Miss. Laura Mabel</td>\n",
       "      <td>female</td>\n",
       "      <td>30.0</td>\n",
       "      <td>0</td>\n",
       "      <td>0</td>\n",
       "      <td>PC 17485</td>\n",
       "      <td>56.9292</td>\n",
       "      <td>E36</td>\n",
       "      <td>C</td>\n",
       "    </tr>\n",
       "    <tr>\n",
       "      <th>516</th>\n",
       "      <td>517</td>\n",
       "      <td>1</td>\n",
       "      <td>2</td>\n",
       "      <td>Lemore, Mrs. (Amelia Milley)</td>\n",
       "      <td>female</td>\n",
       "      <td>34.0</td>\n",
       "      <td>0</td>\n",
       "      <td>0</td>\n",
       "      <td>C.A. 34260</td>\n",
       "      <td>10.5000</td>\n",
       "      <td>F33</td>\n",
       "      <td>S</td>\n",
       "    </tr>\n",
       "    <tr>\n",
       "      <th>120</th>\n",
       "      <td>121</td>\n",
       "      <td>0</td>\n",
       "      <td>2</td>\n",
       "      <td>Hickman, Mr. Stanley George</td>\n",
       "      <td>male</td>\n",
       "      <td>21.0</td>\n",
       "      <td>2</td>\n",
       "      <td>0</td>\n",
       "      <td>S.O.C. 14879</td>\n",
       "      <td>73.5000</td>\n",
       "      <td>NaN</td>\n",
       "      <td>S</td>\n",
       "    </tr>\n",
       "    <tr>\n",
       "      <th>570</th>\n",
       "      <td>571</td>\n",
       "      <td>1</td>\n",
       "      <td>2</td>\n",
       "      <td>Harris, Mr. George</td>\n",
       "      <td>male</td>\n",
       "      <td>62.0</td>\n",
       "      <td>0</td>\n",
       "      <td>0</td>\n",
       "      <td>S.W./PP 752</td>\n",
       "      <td>10.5000</td>\n",
       "      <td>NaN</td>\n",
       "      <td>S</td>\n",
       "    </tr>\n",
       "  </tbody>\n",
       "</table>\n",
       "</div>"
      ],
      "text/plain": [
       "     PassengerId  Survived  Pclass                            Name     Sex  \\\n",
       "301          302         1       3              McCoy, Mr. Bernard    male   \n",
       "309          310         1       1  Francatelli, Miss. Laura Mabel  female   \n",
       "516          517         1       2    Lemore, Mrs. (Amelia Milley)  female   \n",
       "120          121         0       2     Hickman, Mr. Stanley George    male   \n",
       "570          571         1       2              Harris, Mr. George    male   \n",
       "\n",
       "      Age  SibSp  Parch        Ticket     Fare Cabin Embarked  \n",
       "301   NaN      2      0        367226  23.2500   NaN        Q  \n",
       "309  30.0      0      0      PC 17485  56.9292   E36        C  \n",
       "516  34.0      0      0    C.A. 34260  10.5000   F33        S  \n",
       "120  21.0      2      0  S.O.C. 14879  73.5000   NaN        S  \n",
       "570  62.0      0      0   S.W./PP 752  10.5000   NaN        S  "
      ]
     },
     "execution_count": 3,
     "metadata": {},
     "output_type": "execute_result"
    }
   ],
   "source": [
    "data = pd.read_csv('../data/train.csv')\n",
    "df, df_test = train_test_split(data, test_size = 0.2, random_state = 1)\n",
    "\n",
    "# SettingWithCopyWarning を抑制\n",
    "# https://github.com/mmiyahara/docs/issues/6\n",
    "df = df.copy()\n",
    "df_test = df_test.copy()\n",
    "df.head()"
   ]
  },
  {
   "cell_type": "code",
   "execution_count": 4,
   "metadata": {},
   "outputs": [
    {
     "data": {
      "text/plain": [
       "PassengerId      0\n",
       "Survived         0\n",
       "Pclass           0\n",
       "Name             0\n",
       "Sex              0\n",
       "Age            144\n",
       "SibSp            0\n",
       "Parch            0\n",
       "Ticket           0\n",
       "Fare             0\n",
       "Cabin          547\n",
       "Embarked         2\n",
       "dtype: int64"
      ]
     },
     "execution_count": 4,
     "metadata": {},
     "output_type": "execute_result"
    }
   ],
   "source": [
    "df.isnull().sum()"
   ]
  },
  {
   "cell_type": "code",
   "execution_count": 5,
   "metadata": {},
   "outputs": [],
   "source": [
    "# 欠損値が多い Cabin を除外\n",
    "df = df.drop('Cabin', axis=1)"
   ]
  },
  {
   "cell_type": "code",
   "execution_count": 6,
   "metadata": {},
   "outputs": [
    {
     "data": {
      "text/plain": [
       "PassengerId    712\n",
       "Survived         2\n",
       "Pclass           3\n",
       "Name           712\n",
       "Sex              2\n",
       "Age             86\n",
       "SibSp            7\n",
       "Parch            7\n",
       "Ticket         569\n",
       "Fare           228\n",
       "Embarked         3\n",
       "dtype: int64"
      ]
     },
     "execution_count": 6,
     "metadata": {},
     "output_type": "execute_result"
    }
   ],
   "source": [
    "# カテゴリデータを確認\n",
    "df.nunique()"
   ]
  },
  {
   "cell_type": "markdown",
   "metadata": {},
   "source": [
    "`Pclass`、`Sex`、`SibSp`、`Parch`、`Embarked` はカテゴリデータっぽい。確認してみる。"
   ]
  },
  {
   "cell_type": "code",
   "execution_count": 7,
   "metadata": {},
   "outputs": [
    {
     "data": {
      "text/html": [
       "<div>\n",
       "<style scoped>\n",
       "    .dataframe tbody tr th:only-of-type {\n",
       "        vertical-align: middle;\n",
       "    }\n",
       "\n",
       "    .dataframe tbody tr th {\n",
       "        vertical-align: top;\n",
       "    }\n",
       "\n",
       "    .dataframe thead th {\n",
       "        text-align: right;\n",
       "    }\n",
       "</style>\n",
       "<table border=\"1\" class=\"dataframe\">\n",
       "  <thead>\n",
       "    <tr style=\"text-align: right;\">\n",
       "      <th></th>\n",
       "      <th>Pclass</th>\n",
       "      <th>Sex</th>\n",
       "      <th>SibSp</th>\n",
       "      <th>Parch</th>\n",
       "      <th>Embarked</th>\n",
       "    </tr>\n",
       "  </thead>\n",
       "  <tbody>\n",
       "    <tr>\n",
       "      <th>301</th>\n",
       "      <td>3</td>\n",
       "      <td>male</td>\n",
       "      <td>2</td>\n",
       "      <td>0</td>\n",
       "      <td>Q</td>\n",
       "    </tr>\n",
       "    <tr>\n",
       "      <th>309</th>\n",
       "      <td>1</td>\n",
       "      <td>female</td>\n",
       "      <td>0</td>\n",
       "      <td>0</td>\n",
       "      <td>C</td>\n",
       "    </tr>\n",
       "    <tr>\n",
       "      <th>516</th>\n",
       "      <td>2</td>\n",
       "      <td>female</td>\n",
       "      <td>0</td>\n",
       "      <td>0</td>\n",
       "      <td>S</td>\n",
       "    </tr>\n",
       "    <tr>\n",
       "      <th>120</th>\n",
       "      <td>2</td>\n",
       "      <td>male</td>\n",
       "      <td>2</td>\n",
       "      <td>0</td>\n",
       "      <td>S</td>\n",
       "    </tr>\n",
       "    <tr>\n",
       "      <th>570</th>\n",
       "      <td>2</td>\n",
       "      <td>male</td>\n",
       "      <td>0</td>\n",
       "      <td>0</td>\n",
       "      <td>S</td>\n",
       "    </tr>\n",
       "  </tbody>\n",
       "</table>\n",
       "</div>"
      ],
      "text/plain": [
       "     Pclass     Sex  SibSp  Parch Embarked\n",
       "301       3    male      2      0        Q\n",
       "309       1  female      0      0        C\n",
       "516       2  female      0      0        S\n",
       "120       2    male      2      0        S\n",
       "570       2    male      0      0        S"
      ]
     },
     "execution_count": 7,
     "metadata": {},
     "output_type": "execute_result"
    }
   ],
   "source": [
    "df[['Pclass', 'Sex', 'SibSp', 'Parch', 'Embarked']].head()"
   ]
  },
  {
   "cell_type": "code",
   "execution_count": 8,
   "metadata": {},
   "outputs": [
    {
     "data": {
      "text/html": [
       "<div>\n",
       "<style scoped>\n",
       "    .dataframe tbody tr th:only-of-type {\n",
       "        vertical-align: middle;\n",
       "    }\n",
       "\n",
       "    .dataframe tbody tr th {\n",
       "        vertical-align: top;\n",
       "    }\n",
       "\n",
       "    .dataframe thead th {\n",
       "        text-align: right;\n",
       "    }\n",
       "</style>\n",
       "<table border=\"1\" class=\"dataframe\">\n",
       "  <thead>\n",
       "    <tr style=\"text-align: right;\">\n",
       "      <th></th>\n",
       "      <th>Pclass</th>\n",
       "      <th>Male</th>\n",
       "      <th>SibSp</th>\n",
       "      <th>Parch</th>\n",
       "      <th>Embarked</th>\n",
       "    </tr>\n",
       "  </thead>\n",
       "  <tbody>\n",
       "    <tr>\n",
       "      <th>301</th>\n",
       "      <td>3</td>\n",
       "      <td>1</td>\n",
       "      <td>2</td>\n",
       "      <td>0</td>\n",
       "      <td>2.0</td>\n",
       "    </tr>\n",
       "    <tr>\n",
       "      <th>309</th>\n",
       "      <td>1</td>\n",
       "      <td>0</td>\n",
       "      <td>0</td>\n",
       "      <td>0</td>\n",
       "      <td>1.0</td>\n",
       "    </tr>\n",
       "    <tr>\n",
       "      <th>516</th>\n",
       "      <td>2</td>\n",
       "      <td>0</td>\n",
       "      <td>0</td>\n",
       "      <td>0</td>\n",
       "      <td>3.0</td>\n",
       "    </tr>\n",
       "    <tr>\n",
       "      <th>120</th>\n",
       "      <td>2</td>\n",
       "      <td>1</td>\n",
       "      <td>2</td>\n",
       "      <td>0</td>\n",
       "      <td>3.0</td>\n",
       "    </tr>\n",
       "    <tr>\n",
       "      <th>570</th>\n",
       "      <td>2</td>\n",
       "      <td>1</td>\n",
       "      <td>0</td>\n",
       "      <td>0</td>\n",
       "      <td>3.0</td>\n",
       "    </tr>\n",
       "  </tbody>\n",
       "</table>\n",
       "</div>"
      ],
      "text/plain": [
       "     Pclass  Male  SibSp  Parch  Embarked\n",
       "301       3     1      2      0       2.0\n",
       "309       1     0      0      0       1.0\n",
       "516       2     0      0      0       3.0\n",
       "120       2     1      2      0       3.0\n",
       "570       2     1      0      0       3.0"
      ]
     },
     "execution_count": 8,
     "metadata": {},
     "output_type": "execute_result"
    }
   ],
   "source": [
    "# Sex, Embarked を数値データに変換する\n",
    "df['Male'] = df['Sex'].map({'female': 0, 'male': 1})\n",
    "df['Embarked'] = df['Embarked'].map({'C': 1, 'Q': 2, 'S': 3})\n",
    "df[['Pclass', 'Male', 'SibSp', 'Parch', 'Embarked']].head()"
   ]
  },
  {
   "cell_type": "code",
   "execution_count": 9,
   "metadata": {},
   "outputs": [
    {
     "data": {
      "text/plain": [
       "Survived    0\n",
       "Pclass      0\n",
       "Sex         0\n",
       "Age         0\n",
       "SibSp       0\n",
       "Parch       0\n",
       "Fare        0\n",
       "Embarked    0\n",
       "Male        0\n",
       "dtype: int64"
      ]
     },
     "execution_count": 9,
     "metadata": {},
     "output_type": "execute_result"
    }
   ],
   "source": [
    "# Age の欠損が多いが、欠損データを除いた場合、\n",
    "# Survived と他の項目の相関がどうなるか見てみる\n",
    "df_dn = df.dropna()\n",
    "df_dn = df_dn.drop('Name', axis=1)\n",
    "df_dn = df_dn.drop('Ticket', axis=1)\n",
    "df_dn = df_dn.drop('PassengerId', axis=1)\n",
    "\n",
    "df_dn.isnull().sum()"
   ]
  },
  {
   "cell_type": "code",
   "execution_count": 10,
   "metadata": {},
   "outputs": [
    {
     "data": {
      "text/plain": [
       "<AxesSubplot:>"
      ]
     },
     "execution_count": 10,
     "metadata": {},
     "output_type": "execute_result"
    },
    {
     "data": {
      "image/png": "[encoded data removed]",
      "text/plain": [
       "<Figure size 432x288 with 2 Axes>"
      ]
     },
     "metadata": {
      "needs_background": "light"
     },
     "output_type": "display_data"
    }
   ],
   "source": [
    "sns.heatmap(df_dn.corr(), annot=True)"
   ]
  },
  {
   "cell_type": "markdown",
   "metadata": {},
   "source": [
    "`Male`、`Pclass`、`Fare` あたりの相関が大きい。  \n",
    "年齢の相関は高くないが、子どもや高齢者の生存率は高そう。調べてみる。"
   ]
  },
  {
   "cell_type": "code",
   "execution_count": 11,
   "metadata": {},
   "outputs": [
    {
     "data": {
      "image/png": "[encoded data removed]",
      "text/plain": [
       "<Figure size 427.375x360 with 1 Axes>"
      ]
     },
     "metadata": {
      "needs_background": "light"
     },
     "output_type": "display_data"
    }
   ],
   "source": [
    "# 年齢バケツを算出する関数\n",
    "def getBucketAge(row):\n",
    "    age = row['Age']\n",
    "    return (age // 10) * 10\n",
    "\n",
    "df_dn['AgeBucket'] = df_dn.apply(getBucketAge, axis=1)\n",
    "g = sns.catplot(x=\"AgeBucket\", y=\"Survived\", hue=\"Sex\", data=df_dn, kind=\"bar\")"
   ]
  },
  {
   "cell_type": "markdown",
   "metadata": {},
   "source": [
    "0-10 歳、80-90 歳の生存率が高い。予測に使えそうなので、敬称から年齢の欠損値を補完しておく。"
   ]
  },
  {
   "cell_type": "code",
   "execution_count": 12,
   "metadata": {},
   "outputs": [
    {
     "data": {
      "text/html": [
       "<div>\n",
       "<style scoped>\n",
       "    .dataframe tbody tr th:only-of-type {\n",
       "        vertical-align: middle;\n",
       "    }\n",
       "\n",
       "    .dataframe tbody tr th {\n",
       "        vertical-align: top;\n",
       "    }\n",
       "\n",
       "    .dataframe thead th {\n",
       "        text-align: right;\n",
       "    }\n",
       "</style>\n",
       "<table border=\"1\" class=\"dataframe\">\n",
       "  <thead>\n",
       "    <tr style=\"text-align: right;\">\n",
       "      <th></th>\n",
       "      <th>Name</th>\n",
       "      <th>Title</th>\n",
       "    </tr>\n",
       "  </thead>\n",
       "  <tbody>\n",
       "    <tr>\n",
       "      <th>301</th>\n",
       "      <td>McCoy, Mr. Bernard</td>\n",
       "      <td>Mr</td>\n",
       "    </tr>\n",
       "    <tr>\n",
       "      <th>309</th>\n",
       "      <td>Francatelli, Miss. Laura Mabel</td>\n",
       "      <td>Miss</td>\n",
       "    </tr>\n",
       "    <tr>\n",
       "      <th>516</th>\n",
       "      <td>Lemore, Mrs. (Amelia Milley)</td>\n",
       "      <td>Mrs</td>\n",
       "    </tr>\n",
       "    <tr>\n",
       "      <th>120</th>\n",
       "      <td>Hickman, Mr. Stanley George</td>\n",
       "      <td>Mr</td>\n",
       "    </tr>\n",
       "    <tr>\n",
       "      <th>570</th>\n",
       "      <td>Harris, Mr. George</td>\n",
       "      <td>Mr</td>\n",
       "    </tr>\n",
       "    <tr>\n",
       "      <th>...</th>\n",
       "      <td>...</td>\n",
       "      <td>...</td>\n",
       "    </tr>\n",
       "    <tr>\n",
       "      <th>715</th>\n",
       "      <td>Soholt, Mr. Peter Andreas Lauritz Andersen</td>\n",
       "      <td>Mr</td>\n",
       "    </tr>\n",
       "    <tr>\n",
       "      <th>767</th>\n",
       "      <td>Mangan, Miss. Mary</td>\n",
       "      <td>Miss</td>\n",
       "    </tr>\n",
       "    <tr>\n",
       "      <th>72</th>\n",
       "      <td>Hood, Mr. Ambrose Jr</td>\n",
       "      <td>Mr</td>\n",
       "    </tr>\n",
       "    <tr>\n",
       "      <th>235</th>\n",
       "      <td>Harknett, Miss. Alice Phoebe</td>\n",
       "      <td>Miss</td>\n",
       "    </tr>\n",
       "    <tr>\n",
       "      <th>37</th>\n",
       "      <td>Cann, Mr. Ernest Charles</td>\n",
       "      <td>Mr</td>\n",
       "    </tr>\n",
       "  </tbody>\n",
       "</table>\n",
       "<p>712 rows × 2 columns</p>\n",
       "</div>"
      ],
      "text/plain": [
       "                                           Name Title\n",
       "301                          McCoy, Mr. Bernard    Mr\n",
       "309              Francatelli, Miss. Laura Mabel  Miss\n",
       "516                Lemore, Mrs. (Amelia Milley)   Mrs\n",
       "120                 Hickman, Mr. Stanley George    Mr\n",
       "570                          Harris, Mr. George    Mr\n",
       "..                                          ...   ...\n",
       "715  Soholt, Mr. Peter Andreas Lauritz Andersen    Mr\n",
       "767                          Mangan, Miss. Mary  Miss\n",
       "72                         Hood, Mr. Ambrose Jr    Mr\n",
       "235                Harknett, Miss. Alice Phoebe  Miss\n",
       "37                     Cann, Mr. Ernest Charles    Mr\n",
       "\n",
       "[712 rows x 2 columns]"
      ]
     },
     "execution_count": 12,
     "metadata": {},
     "output_type": "execute_result"
    }
   ],
   "source": [
    "# 敬称を抽出する関数\n",
    "def getTitle(row):\n",
    "    name = row['Name']\n",
    "    p = re.compile('.*\\ (.*)\\.\\ .*')\n",
    "    surname = p.search(name)\n",
    "    return surname.group(1)\n",
    "\n",
    "df['Title'] = df.apply(getTitle, axis=1)\n",
    "df[['Name', 'Title']]"
   ]
  },
  {
   "cell_type": "code",
   "execution_count": 13,
   "metadata": {},
   "outputs": [
    {
     "data": {
      "text/plain": [
       "Title\n",
       "Capt        70.0\n",
       "Col         58.0\n",
       "Countess    33.0\n",
       "Don         40.0\n",
       "Dr          44.0\n",
       "L           54.0\n",
       "Lady        48.0\n",
       "Major       48.5\n",
       "Master       3.5\n",
       "Miss        22.0\n",
       "Mlle        24.0\n",
       "Mme         24.0\n",
       "Mr          30.0\n",
       "Mrs         36.0\n",
       "Rev         51.0\n",
       "Name: Age, dtype: float64"
      ]
     },
     "execution_count": 13,
     "metadata": {},
     "output_type": "execute_result"
    }
   ],
   "source": [
    "# 敬称ごとの年齢の中央値を求める\n",
    "title_ages = df.groupby('Title').median()['Age']\n",
    "title_ages"
   ]
  },
  {
   "cell_type": "code",
   "execution_count": 14,
   "metadata": {},
   "outputs": [
    {
     "data": {
      "text/plain": [
       "PassengerId    0\n",
       "Survived       0\n",
       "Pclass         0\n",
       "Name           0\n",
       "Sex            0\n",
       "Age            0\n",
       "SibSp          0\n",
       "Parch          0\n",
       "Ticket         0\n",
       "Fare           0\n",
       "Embarked       2\n",
       "Male           0\n",
       "Title          0\n",
       "dtype: int64"
      ]
     },
     "execution_count": 14,
     "metadata": {},
     "output_type": "execute_result"
    }
   ],
   "source": [
    "# 敬称ごとの年齢の中央値を取得する\n",
    "def getAgeByTitle(title):\n",
    "    return title_ages[title]\n",
    "\n",
    "# Age の欠損値を敬称ごとの中央値で補完する\n",
    "def fillNaByTitle(row):\n",
    "    if pd.isna(row['Age']):\n",
    "        return getAgeByTitle(row['Title'])\n",
    "    else:\n",
    "        return row['Age']\n",
    "    \n",
    "df['Age'] = df.apply(fillNaByTitle, axis=1)\n",
    "df.isnull().sum()"
   ]
  },
  {
   "cell_type": "code",
   "execution_count": 15,
   "metadata": {},
   "outputs": [
    {
     "data": {
      "text/plain": [
       "PassengerId    0\n",
       "Survived       0\n",
       "Pclass         0\n",
       "Name           0\n",
       "Sex            0\n",
       "Age            0\n",
       "SibSp          0\n",
       "Parch          0\n",
       "Ticket         0\n",
       "Fare           0\n",
       "Embarked       0\n",
       "Male           0\n",
       "Title          0\n",
       "dtype: int64"
      ]
     },
     "execution_count": 15,
     "metadata": {},
     "output_type": "execute_result"
    }
   ],
   "source": [
    "# 欠損値を含む行を削除\n",
    "df = df.dropna()\n",
    "df.isnull().sum()"
   ]
  },
  {
   "cell_type": "code",
   "execution_count": 16,
   "metadata": {},
   "outputs": [],
   "source": [
    "# モデルに不要なデータを削除 (決定木に string を渡すとエラーになる)\n",
    "df = df.drop('PassengerId', axis=1)\n",
    "df = df.drop('Name', axis=1)\n",
    "df = df.drop('Sex', axis=1)\n",
    "df = df.drop('Ticket', axis=1)\n",
    "df = df.drop('Title', axis=1)"
   ]
  },
  {
   "cell_type": "markdown",
   "metadata": {},
   "source": [
    "## 決定木でモデル作成"
   ]
  },
  {
   "cell_type": "code",
   "execution_count": 33,
   "metadata": {},
   "outputs": [],
   "source": [
    "X_train = df.drop('Survived', axis=1)\n",
    "y_train = df.iloc[:, 0]"
   ]
  },
  {
   "cell_type": "code",
   "execution_count": 18,
   "metadata": {},
   "outputs": [],
   "source": [
    "# テストデータに、訓練データと同じ加工を行う\n",
    "df_test['Male'] = df_test['Sex'].map({'female': 0, 'male': 1})\n",
    "df_test['Embarked'] = df_test['Embarked'].map({'C': 1, 'Q': 2, 'S': 3})\n",
    "df_test['Title'] = df_test.apply(getTitle, axis=1)"
   ]
  },
  {
   "cell_type": "code",
   "execution_count": 19,
   "metadata": {},
   "outputs": [],
   "source": [
    "# 敬称ごとの年齢の中央値を取得する\n",
    "def getAgeByTitleTest(title):\n",
    "    return df_test.groupby('Title').median()['Age'][title]\n",
    "\n",
    "# Age の欠損値を敬称ごとの中央値で補完する\n",
    "def fillNaByTitleTest(row):\n",
    "    if pd.isna(row['Age']):\n",
    "        return getAgeByTitleTest(row['Title'])\n",
    "    else:\n",
    "        return row['Age']\n",
    "    \n",
    "df_test['Age'] = df_test.apply(fillNaByTitleTest, axis=1)\n",
    "df_test = df_test.drop('PassengerId', axis=1)\n",
    "df_test = df_test.drop('Name', axis=1)\n",
    "df_test = df_test.drop('Title', axis=1)\n",
    "df_test = df_test.drop('Sex', axis=1)\n",
    "df_test = df_test.drop('Ticket', axis=1)\n",
    "df_test = df_test.drop('Cabin', axis=1)\n",
    "df_test = df_test.dropna()\n",
    "\n",
    "X_test = df_test.drop('Survived', axis=1)\n",
    "y_test = df_test.iloc[:, 0]"
   ]
  },
  {
   "cell_type": "code",
   "execution_count": 20,
   "metadata": {},
   "outputs": [
    {
     "data": {
      "text/plain": [
       "Text(0.5, 0.98, 'Accuracy per each depth')"
      ]
     },
     "execution_count": 20,
     "metadata": {},
     "output_type": "execute_result"
    },
    {
     "data": {
      "image/png": "[encoded data removed]",
      "text/plain": [
       "<Figure size 360x360 with 1 Axes>"
      ]
     },
     "metadata": {
      "needs_background": "light"
     },
     "output_type": "display_data"
    }
   ],
   "source": [
    "accuracies = []\n",
    "r2_scores = []\n",
    "dec_max_acc_depth = 0\n",
    "dec_max_acc = 0\n",
    "for i in range(20):\n",
    "    clf = tree.DecisionTreeClassifier(max_depth=i+1)\n",
    "    model = clf.fit(X_train, y_train)\n",
    "    predicted = model.predict(X_test)\n",
    "    dec_acc = accuracy_score(y_test, predicted)\n",
    "    accuracies.append((i + 1, dec_acc)) \n",
    "    R2 = r2_score(y_test.to_list(), predicted)\n",
    "    r2_scores.append((i + 1, R2))\n",
    "    if dec_max_acc < dec_acc:\n",
    "        dec_max_acc_depth = i + 1\n",
    "        dec_max_acc = dec_acc\n",
    "    \n",
    "df_ac = pd.DataFrame(accuracies, columns=['depth', 'accuracy'])\n",
    "g = sns.catplot(x='depth', y='accuracy', data=df_ac)\n",
    "g.fig.suptitle('Accuracy per each depth')"
   ]
  },
  {
   "cell_type": "code",
   "execution_count": 22,
   "metadata": {},
   "outputs": [
    {
     "name": "stdout",
     "output_type": "stream",
     "text": [
      "Depth: 3, Accuracy: 0.8100558659217877\n"
     ]
    }
   ],
   "source": [
    "print('Depth: {}, Accuracy: {}'.format(dec_max_acc_depth, dec_max_acc))"
   ]
  },
  {
   "cell_type": "markdown",
   "metadata": {},
   "source": [
    "`max_depth=3` で一番精度が良い。`0.810`。"
   ]
  },
  {
   "cell_type": "markdown",
   "metadata": {},
   "source": [
    "## ランダムフォレストでモデル作成"
   ]
  },
  {
   "cell_type": "code",
   "execution_count": 23,
   "metadata": {},
   "outputs": [
    {
     "data": {
      "text/plain": [
       "Text(0.5, 0.98, 'Accuracy per each depth')"
      ]
     },
     "execution_count": 23,
     "metadata": {},
     "output_type": "execute_result"
    },
    {
     "data": {
      "image/png": "[encoded data removed]",
      "text/plain": [
       "<Figure size 360x360 with 1 Axes>"
      ]
     },
     "metadata": {
      "needs_background": "light"
     },
     "output_type": "display_data"
    }
   ],
   "source": [
    "rf_accuracies = []\n",
    "rf_r2_scores = []\n",
    "for i in range(20):\n",
    "    rf_clf = ensemble.RandomForestClassifier(n_estimators=i+1)\n",
    "    rf_model = rf_clf.fit(X_train, y_train)\n",
    "    rf_predicted = rf_model.predict(X_test)\n",
    "    rf_accuracies.append((i + 1, accuracy_score(y_test, rf_predicted))) \n",
    "    rf_R2 = r2_score(y_test.to_list(), rf_predicted)\n",
    "    rf_r2_scores.append((i + 1, rf_R2))\n",
    "\n",
    "rf_max_acc_depth = 0\n",
    "rf_max_acc = 0\n",
    "for each_acc in rf_accuracies:\n",
    "    depth, acc = each_acc\n",
    "    if acc > rf_max_acc:\n",
    "        rf_max_acc_depth = depth\n",
    "        rf_max_acc = acc\n",
    "\n",
    "df_rf_ac = pd.DataFrame(rf_accuracies, columns=['depth', 'accuracy'])\n",
    "g = sns.catplot(x='depth', y='accuracy', data=df_rf_ac)\n",
    "g.fig.suptitle('Accuracy per each depth')"
   ]
  },
  {
   "cell_type": "code",
   "execution_count": 24,
   "metadata": {},
   "outputs": [
    {
     "data": {
      "text/plain": [
       "Text(0.5, 0.98, 'Score per each depth')"
      ]
     },
     "execution_count": 24,
     "metadata": {},
     "output_type": "execute_result"
    },
    {
     "data": {
      "image/png": "[encoded data removed]",
      "text/plain": [
       "<Figure size 360x360 with 1 Axes>"
      ]
     },
     "metadata": {
      "needs_background": "light"
     },
     "output_type": "display_data"
    }
   ],
   "source": [
    "df_rf_r2 = pd.DataFrame(rf_r2_scores, columns=['depth', 'score'])\n",
    "g = sns.catplot(x='depth', y='score', data=df_rf_r2)\n",
    "g.fig.suptitle('Score per each depth')"
   ]
  },
  {
   "cell_type": "code",
   "execution_count": 25,
   "metadata": {},
   "outputs": [
    {
     "name": "stdout",
     "output_type": "stream",
     "text": [
      "Depth: 16, Accuracy: 0.7821229050279329\n"
     ]
    }
   ],
   "source": [
    "print('Depth: {}, Accuracy: {}'.format(rf_max_acc_depth, rf_max_acc))"
   ]
  },
  {
   "cell_type": "code",
   "execution_count": 26,
   "metadata": {},
   "outputs": [
    {
     "data": {
      "text/plain": [
       "<AxesSubplot:xlabel='importances', ylabel='features'>"
      ]
     },
     "execution_count": 26,
     "metadata": {},
     "output_type": "execute_result"
    },
    {
     "data": {
      "image/png": "[encoded data removed]",
      "text/plain": [
       "<Figure size 432x288 with 1 Axes>"
      ]
     },
     "metadata": {
      "needs_background": "light"
     },
     "output_type": "display_data"
    }
   ],
   "source": [
    "# 特徴量を算出\n",
    "rf_clf_13 = ensemble.RandomForestClassifier(n_estimators=rf_max_acc_depth)\n",
    "rf_model_13 = rf_clf.fit(X_train, y_train)\n",
    "feature_importances = pd.DataFrame([X_train.columns, rf_model_13.feature_importances_]).T\n",
    "feature_importances.columns = ['features', 'importances']\n",
    "sns.barplot(\n",
    "    x=feature_importances['importances'],\n",
    "    y=feature_importances['features'],\n",
    "    data=feature_importances\n",
    ")"
   ]
  },
  {
   "cell_type": "markdown",
   "metadata": {},
   "source": [
    "`Fare`、`Age`、`Male` が分類に効果的だったっぽい。"
   ]
  },
  {
   "cell_type": "markdown",
   "metadata": {},
   "source": [
    "## LightGBMでモデル作成"
   ]
  },
  {
   "cell_type": "code",
   "execution_count": 110,
   "metadata": {
    "collapsed": true,
    "jupyter": {
     "outputs_hidden": true
    },
    "tags": []
   },
   "outputs": [
    {
     "name": "stdout",
     "output_type": "stream",
     "text": [
      "[LightGBM] [Warning] Accuracy may be bad since you didn't explicitly set num_leaves OR 2^max_depth > num_leaves. (num_leaves=31).\n",
      "[LightGBM] [Warning] Accuracy may be bad since you didn't explicitly set num_leaves OR 2^max_depth > num_leaves. (num_leaves=31).\n",
      "[LightGBM] [Warning] Accuracy may be bad since you didn't explicitly set num_leaves OR 2^max_depth > num_leaves. (num_leaves=31).\n",
      "[LightGBM] [Warning] Accuracy may be bad since you didn't explicitly set num_leaves OR 2^max_depth > num_leaves. (num_leaves=31).\n",
      "[LightGBM] [Warning] Accuracy may be bad since you didn't explicitly set num_leaves OR 2^max_depth > num_leaves. (num_leaves=31).\n",
      "[LightGBM] [Warning] Accuracy may be bad since you didn't explicitly set num_leaves OR 2^max_depth > num_leaves. (num_leaves=31).\n",
      "[LightGBM] [Warning] Accuracy may be bad since you didn't explicitly set num_leaves OR 2^max_depth > num_leaves. (num_leaves=31).\n",
      "[LightGBM] [Warning] Accuracy may be bad since you didn't explicitly set num_leaves OR 2^max_depth > num_leaves. (num_leaves=31).\n",
      "[LightGBM] [Warning] Accuracy may be bad since you didn't explicitly set num_leaves OR 2^max_depth > num_leaves. (num_leaves=31).\n",
      "[LightGBM] [Warning] Accuracy may be bad since you didn't explicitly set num_leaves OR 2^max_depth > num_leaves. (num_leaves=31).\n",
      "[LightGBM] [Warning] Accuracy may be bad since you didn't explicitly set num_leaves OR 2^max_depth > num_leaves. (num_leaves=31).\n",
      "[LightGBM] [Warning] Accuracy may be bad since you didn't explicitly set num_leaves OR 2^max_depth > num_leaves. (num_leaves=31).\n",
      "[LightGBM] [Warning] Accuracy may be bad since you didn't explicitly set num_leaves OR 2^max_depth > num_leaves. (num_leaves=31).\n",
      "[LightGBM] [Warning] Accuracy may be bad since you didn't explicitly set num_leaves OR 2^max_depth > num_leaves. (num_leaves=31).\n",
      "[LightGBM] [Warning] Accuracy may be bad since you didn't explicitly set num_leaves OR 2^max_depth > num_leaves. (num_leaves=31).\n",
      "[LightGBM] [Warning] Accuracy may be bad since you didn't explicitly set num_leaves OR 2^max_depth > num_leaves. (num_leaves=31).\n"
     ]
    }
   ],
   "source": [
    "lgb_accuracies = []\n",
    "RMSEs = []\n",
    "gbm_max_acc_depth = 0\n",
    "gbm_max_acc = 0\n",
    "for i in range(20):\n",
    "    gbm = lgb.LGBMClassifier(\n",
    "        objective='binary',\n",
    "        max_depth= i + 1,\n",
    "    )\n",
    "    gbm.fit(\n",
    "        X_train,\n",
    "        y_train,\n",
    "        eval_set = [(X_test, y_test)],\n",
    "        early_stopping_rounds=50,\n",
    "        verbose=False,\n",
    "    )\n",
    "    lgb_predicted = gbm.predict(X_test, num_iteration=gbm.best_iteration_)\n",
    "    gbm_acc = accuracy_score(y_test, lgb_predicted)\n",
    "    RMSE = np.sqrt(mean_squared_error(lgb_predicted, y_test))\n",
    "    RMSEs.append((i + 1, RMSE))\n",
    "    if gbm_max_acc < gbm_acc:\n",
    "        gbm_max_acc_depth = i + 1\n",
    "        gbm_max_acc = gbm_acc"
   ]
  },
  {
   "cell_type": "code",
   "execution_count": 111,
   "metadata": {},
   "outputs": [
    {
     "name": "stdout",
     "output_type": "stream",
     "text": [
      "Depth: 3, Accuracy: 0.7877094972067039\n"
     ]
    }
   ],
   "source": [
    "print('Depth: {}, Accuracy: {}'.format(gbm_max_acc_depth, gbm_max_acc))"
   ]
  },
  {
   "cell_type": "code",
   "execution_count": 109,
   "metadata": {},
   "outputs": [
    {
     "name": "stdout",
     "output_type": "stream",
     "text": [
      "Accuracy: 1\n"
     ]
    }
   ],
   "source": [
    "print('Accuracy: {}'.format(gbm_max_acc_depth, gbm_max_acc))"
   ]
  },
  {
   "cell_type": "code",
   "execution_count": 103,
   "metadata": {
    "collapsed": true,
    "jupyter": {
     "outputs_hidden": true
    },
    "tags": []
   },
   "outputs": [
    {
     "name": "stdout",
     "output_type": "stream",
     "text": [
      "[LightGBM] [Info] Number of positive: 267, number of negative: 443\n",
      "[LightGBM] [Warning] Auto-choosing row-wise multi-threading, the overhead of testing was 0.000903 seconds.\n",
      "You can set `force_row_wise=true` to remove the overhead.\n",
      "And if memory is not enough, you can set `force_col_wise=true`.\n",
      "[LightGBM] [Info] Total Bins 203\n",
      "[LightGBM] [Info] Number of data points in the train set: 710, number of used features: 7\n"
     ]
    },
    {
     "name": "stderr",
     "output_type": "stream",
     "text": [
      "/Users/m000732/opt/anaconda3/lib/python3.8/site-packages/lightgbm/basic.py:1551: UserWarning: Using categorical_feature in Dataset.\n",
      "  warnings.warn('Using categorical_feature in Dataset.')\n",
      "/Users/m000732/opt/anaconda3/lib/python3.8/site-packages/lightgbm/basic.py:1286: UserWarning: Overriding the parameters from Reference Dataset.\n",
      "  warnings.warn('Overriding the parameters from Reference Dataset.')\n",
      "/Users/m000732/opt/anaconda3/lib/python3.8/site-packages/lightgbm/basic.py:1098: UserWarning: categorical_column in param dict is overridden.\n",
      "  warnings.warn('{} in param dict is overridden.'.format(cat_alias))\n"
     ]
    },
    {
     "name": "stdout",
     "output_type": "stream",
     "text": [
      "[LightGBM] [Info] [binary:BoostFromScore]: pavg=0.376056 -> initscore=-0.506321\n",
      "[LightGBM] [Info] Start training from score -0.506321\n",
      "[LightGBM] [Warning] No further splits with positive gain, best gain: -inf\n",
      "Training until validation scores don't improve for 10 rounds\n",
      "[LightGBM] [Warning] No further splits with positive gain, best gain: -inf\n",
      "[LightGBM] [Warning] No further splits with positive gain, best gain: -inf\n",
      "[LightGBM] [Warning] No further splits with positive gain, best gain: -inf\n",
      "[LightGBM] [Warning] No further splits with positive gain, best gain: -inf\n",
      "[LightGBM] [Warning] No further splits with positive gain, best gain: -inf\n",
      "[LightGBM] [Warning] No further splits with positive gain, best gain: -inf\n",
      "[LightGBM] [Warning] No further splits with positive gain, best gain: -inf\n",
      "[LightGBM] [Warning] No further splits with positive gain, best gain: -inf\n",
      "[LightGBM] [Warning] No further splits with positive gain, best gain: -inf\n",
      "[10]\ttraining's binary_logloss: 0.411919\tvalid_1's binary_logloss: 0.512755\n",
      "[LightGBM] [Warning] No further splits with positive gain, best gain: -inf\n",
      "[LightGBM] [Warning] No further splits with positive gain, best gain: -inf\n",
      "[LightGBM] [Warning] No further splits with positive gain, best gain: -inf\n",
      "[LightGBM] [Warning] No further splits with positive gain, best gain: -inf\n",
      "[LightGBM] [Warning] No further splits with positive gain, best gain: -inf\n",
      "[LightGBM] [Warning] No further splits with positive gain, best gain: -inf\n",
      "[LightGBM] [Warning] No further splits with positive gain, best gain: -inf\n",
      "[LightGBM] [Warning] No further splits with positive gain, best gain: -inf\n",
      "[LightGBM] [Warning] No further splits with positive gain, best gain: -inf\n",
      "[LightGBM] [Warning] No further splits with positive gain, best gain: -inf\n",
      "[20]\ttraining's binary_logloss: 0.331795\tvalid_1's binary_logloss: 0.481997\n",
      "[LightGBM] [Warning] No further splits with positive gain, best gain: -inf\n",
      "[LightGBM] [Warning] No further splits with positive gain, best gain: -inf\n",
      "[LightGBM] [Warning] No further splits with positive gain, best gain: -inf\n",
      "[LightGBM] [Warning] No further splits with positive gain, best gain: -inf\n",
      "[LightGBM] [Warning] No further splits with positive gain, best gain: -inf\n",
      "[LightGBM] [Warning] No further splits with positive gain, best gain: -inf\n",
      "[LightGBM] [Warning] No further splits with positive gain, best gain: -inf\n",
      "[LightGBM] [Warning] No further splits with positive gain, best gain: -inf\n",
      "[LightGBM] [Warning] No further splits with positive gain, best gain: -inf\n",
      "[LightGBM] [Warning] No further splits with positive gain, best gain: -inf\n",
      "[30]\ttraining's binary_logloss: 0.290327\tvalid_1's binary_logloss: 0.480907\n",
      "[LightGBM] [Warning] No further splits with positive gain, best gain: -inf\n",
      "[LightGBM] [Warning] No further splits with positive gain, best gain: -inf\n",
      "[LightGBM] [Warning] No further splits with positive gain, best gain: -inf\n",
      "[LightGBM] [Warning] No further splits with positive gain, best gain: -inf\n",
      "[LightGBM] [Warning] No further splits with positive gain, best gain: -inf\n",
      "[LightGBM] [Warning] No further splits with positive gain, best gain: -inf\n",
      "[LightGBM] [Warning] No further splits with positive gain, best gain: -inf\n",
      "[LightGBM] [Warning] No further splits with positive gain, best gain: -inf\n",
      "Early stopping, best iteration is:\n",
      "[28]\ttraining's binary_logloss: 0.298692\tvalid_1's binary_logloss: 0.478694\n"
     ]
    }
   ],
   "source": [
    "# カテゴリーデータを指定して再実施\n",
    "categorical_features=['Pclass', 'Parch', 'Embarked', 'Male']\n",
    "lgb_train = lgb.Dataset(X_train, y_train, categorical_feature=categorical_features)\n",
    "lgb_eval = lgb.Dataset(X_test, y_test, reference=lgb_train, categorical_feature=categorical_features)\n",
    "\n",
    "params = {\n",
    "    'objective': 'binary'\n",
    "}\n",
    "\n",
    "model = lgb.train(params, lgb_train,\n",
    "                  valid_sets=[lgb_train, lgb_eval],\n",
    "                  verbose_eval=10,\n",
    "                  num_boost_round=1000,\n",
    "                  early_stopping_rounds=10)\n",
    "\n",
    "y_pred = model.predict(X_test, num_iteration=model.best_iteration)"
   ]
  },
  {
   "cell_type": "code",
   "execution_count": 80,
   "metadata": {},
   "outputs": [
    {
     "data": {
      "text/plain": [
       "array([0.84103773, 0.09638494, 0.87008054, 0.755779  , 0.8750722 ,\n",
       "       0.12194574, 0.0634451 , 0.96272822, 0.37670231, 0.64108337])"
      ]
     },
     "execution_count": 80,
     "metadata": {},
     "output_type": "execute_result"
    }
   ],
   "source": [
    "y_pred[:10]"
   ]
  },
  {
   "cell_type": "code",
   "execution_count": 84,
   "metadata": {},
   "outputs": [
    {
     "data": {
      "text/plain": [
       "0.7821229050279329"
      ]
     },
     "execution_count": 84,
     "metadata": {},
     "output_type": "execute_result"
    }
   ],
   "source": [
    "y_pred = (y_pred > 0.5).astype(int)\n",
    "accuracy_score(y_test, y_pred)"
   ]
  },
  {
   "cell_type": "code",
   "execution_count": 92,
   "metadata": {},
   "outputs": [],
   "source": [
    "# パフォーマンスチューニング\n",
    "import optuna\n",
    "from sklearn.metrics import log_loss\n",
    "\n",
    "def objective(trial):\n",
    "    params = {\n",
    "        'objective': 'binary',\n",
    "        'verbose': -1,\n",
    "        'max_bin': trial.suggest_int('max_bin', 255, 500),\n",
    "        'learning_rate': 0.05,\n",
    "        'num_leaves': trial.suggest_int('num_leaves', 32, 128),\n",
    "    }\n",
    "\n",
    "    lgb_train = lgb.Dataset(X_train, y_train,\n",
    "                            categorical_feature=categorical_features)\n",
    "    lgb_eval = lgb.Dataset(X_test, y_test,\n",
    "                           reference=lgb_train,\n",
    "                           categorical_feature=categorical_features)\n",
    "\n",
    "    model = lgb.train(params, lgb_train,\n",
    "                      valid_sets=[lgb_train, lgb_eval],\n",
    "                      verbose_eval=10,\n",
    "                      num_boost_round=1000,\n",
    "                      early_stopping_rounds=10)\n",
    "\n",
    "    y_pred_valid = model.predict(X_test, num_iteration=model.best_iteration)\n",
    "    score = log_loss(y_test, y_pred_valid)\n",
    "    return score"
   ]
  },
  {
   "cell_type": "code",
   "execution_count": 95,
   "metadata": {
    "collapsed": true,
    "jupyter": {
     "outputs_hidden": true
    },
    "tags": []
   },
   "outputs": [
    {
     "name": "stderr",
     "output_type": "stream",
     "text": [
      "\u001b[32m[I 2021-04-20 00:04:49,490]\u001b[0m A new study created in memory with name: no-name-018c127e-bd83-48c2-bc33-9907ffde008f\u001b[0m\n",
      "/Users/m000732/opt/anaconda3/lib/python3.8/site-packages/lightgbm/basic.py:1551: UserWarning: Using categorical_feature in Dataset.\n",
      "  warnings.warn('Using categorical_feature in Dataset.')\n",
      "/Users/m000732/opt/anaconda3/lib/python3.8/site-packages/lightgbm/basic.py:1286: UserWarning: Overriding the parameters from Reference Dataset.\n",
      "  warnings.warn('Overriding the parameters from Reference Dataset.')\n",
      "/Users/m000732/opt/anaconda3/lib/python3.8/site-packages/lightgbm/basic.py:1098: UserWarning: categorical_column in param dict is overridden.\n",
      "  warnings.warn('{} in param dict is overridden.'.format(cat_alias))\n",
      "\u001b[32m[I 2021-04-20 00:04:49,694]\u001b[0m Trial 0 finished with value: 0.47724023356704565 and parameters: {'max_bin': 390, 'num_leaves': 101}. Best is trial 0 with value: 0.47724023356704565.\u001b[0m\n",
      "/Users/m000732/opt/anaconda3/lib/python3.8/site-packages/lightgbm/basic.py:1551: UserWarning: Using categorical_feature in Dataset.\n",
      "  warnings.warn('Using categorical_feature in Dataset.')\n"
     ]
    },
    {
     "name": "stdout",
     "output_type": "stream",
     "text": [
      "Training until validation scores don't improve for 10 rounds\n",
      "[10]\ttraining's binary_logloss: 0.494743\tvalid_1's binary_logloss: 0.557074\n",
      "[20]\ttraining's binary_logloss: 0.415693\tvalid_1's binary_logloss: 0.511373\n",
      "[30]\ttraining's binary_logloss: 0.365135\tvalid_1's binary_logloss: 0.485715\n",
      "[40]\ttraining's binary_logloss: 0.332246\tvalid_1's binary_logloss: 0.47724\n",
      "[50]\ttraining's binary_logloss: 0.309433\tvalid_1's binary_logloss: 0.480312\n",
      "Early stopping, best iteration is:\n",
      "[40]\ttraining's binary_logloss: 0.332246\tvalid_1's binary_logloss: 0.47724\n"
     ]
    },
    {
     "name": "stderr",
     "output_type": "stream",
     "text": [
      "/Users/m000732/opt/anaconda3/lib/python3.8/site-packages/lightgbm/basic.py:1286: UserWarning: Overriding the parameters from Reference Dataset.\n",
      "  warnings.warn('Overriding the parameters from Reference Dataset.')\n",
      "/Users/m000732/opt/anaconda3/lib/python3.8/site-packages/lightgbm/basic.py:1098: UserWarning: categorical_column in param dict is overridden.\n",
      "  warnings.warn('{} in param dict is overridden.'.format(cat_alias))\n"
     ]
    },
    {
     "name": "stdout",
     "output_type": "stream",
     "text": [
      "Training until validation scores don't improve for 10 rounds\n",
      "[10]\ttraining's binary_logloss: 0.494743\tvalid_1's binary_logloss: 0.557074\n",
      "[20]\ttraining's binary_logloss: 0.415693\tvalid_1's binary_logloss: 0.511373\n",
      "[30]\ttraining's binary_logloss: 0.365135\tvalid_1's binary_logloss: 0.485715\n",
      "[40]\ttraining's binary_logloss: 0.332246\tvalid_1's binary_logloss: 0.47724\n"
     ]
    },
    {
     "name": "stderr",
     "output_type": "stream",
     "text": [
      "\u001b[32m[I 2021-04-20 00:04:49,977]\u001b[0m Trial 1 finished with value: 0.47724023356704565 and parameters: {'max_bin': 403, 'num_leaves': 84}. Best is trial 0 with value: 0.47724023356704565.\u001b[0m\n"
     ]
    },
    {
     "name": "stdout",
     "output_type": "stream",
     "text": [
      "[50]\ttraining's binary_logloss: 0.309433\tvalid_1's binary_logloss: 0.480312\n",
      "Early stopping, best iteration is:\n",
      "[40]\ttraining's binary_logloss: 0.332246\tvalid_1's binary_logloss: 0.47724\n",
      "Training until validation scores don't improve for 10 rounds\n",
      "[10]\ttraining's binary_logloss: 0.494743\tvalid_1's binary_logloss: 0.557074\n",
      "[20]\ttraining's binary_logloss: 0.415693\tvalid_1's binary_logloss: 0.511373\n",
      "[30]\ttraining's binary_logloss: 0.365135\tvalid_1's binary_logloss: 0.485715\n",
      "[40]\ttraining's binary_logloss: 0.332246\tvalid_1's binary_logloss: 0.47724\n"
     ]
    },
    {
     "name": "stderr",
     "output_type": "stream",
     "text": [
      "/Users/m000732/opt/anaconda3/lib/python3.8/site-packages/lightgbm/basic.py:1551: UserWarning: Using categorical_feature in Dataset.\n",
      "  warnings.warn('Using categorical_feature in Dataset.')\n",
      "/Users/m000732/opt/anaconda3/lib/python3.8/site-packages/lightgbm/basic.py:1286: UserWarning: Overriding the parameters from Reference Dataset.\n",
      "  warnings.warn('Overriding the parameters from Reference Dataset.')\n",
      "/Users/m000732/opt/anaconda3/lib/python3.8/site-packages/lightgbm/basic.py:1098: UserWarning: categorical_column in param dict is overridden.\n",
      "  warnings.warn('{} in param dict is overridden.'.format(cat_alias))\n",
      "\u001b[32m[I 2021-04-20 00:04:50,190]\u001b[0m Trial 2 finished with value: 0.47724023356704565 and parameters: {'max_bin': 359, 'num_leaves': 94}. Best is trial 0 with value: 0.47724023356704565.\u001b[0m\n",
      "/Users/m000732/opt/anaconda3/lib/python3.8/site-packages/lightgbm/basic.py:1551: UserWarning: Using categorical_feature in Dataset.\n",
      "  warnings.warn('Using categorical_feature in Dataset.')\n",
      "/Users/m000732/opt/anaconda3/lib/python3.8/site-packages/lightgbm/basic.py:1286: UserWarning: Overriding the parameters from Reference Dataset.\n",
      "  warnings.warn('Overriding the parameters from Reference Dataset.')\n",
      "/Users/m000732/opt/anaconda3/lib/python3.8/site-packages/lightgbm/basic.py:1098: UserWarning: categorical_column in param dict is overridden.\n",
      "  warnings.warn('{} in param dict is overridden.'.format(cat_alias))\n",
      "\u001b[32m[I 2021-04-20 00:04:50,333]\u001b[0m Trial 3 finished with value: 0.47724023356704565 and parameters: {'max_bin': 362, 'num_leaves': 118}. Best is trial 0 with value: 0.47724023356704565.\u001b[0m\n"
     ]
    },
    {
     "name": "stdout",
     "output_type": "stream",
     "text": [
      "[50]\ttraining's binary_logloss: 0.309433\tvalid_1's binary_logloss: 0.480312\n",
      "Early stopping, best iteration is:\n",
      "[40]\ttraining's binary_logloss: 0.332246\tvalid_1's binary_logloss: 0.47724\n",
      "Training until validation scores don't improve for 10 rounds\n",
      "[10]\ttraining's binary_logloss: 0.494743\tvalid_1's binary_logloss: 0.557074\n",
      "[20]\ttraining's binary_logloss: 0.415693\tvalid_1's binary_logloss: 0.511373\n",
      "[30]\ttraining's binary_logloss: 0.365135\tvalid_1's binary_logloss: 0.485715\n",
      "[40]\ttraining's binary_logloss: 0.332246\tvalid_1's binary_logloss: 0.47724\n",
      "[50]\ttraining's binary_logloss: 0.309433\tvalid_1's binary_logloss: 0.480312\n",
      "Early stopping, best iteration is:\n",
      "[40]\ttraining's binary_logloss: 0.332246\tvalid_1's binary_logloss: 0.47724\n",
      "Training until validation scores don't improve for 10 rounds\n",
      "[10]\ttraining's binary_logloss: 0.494743\tvalid_1's binary_logloss: 0.557074\n",
      "[20]\ttraining's binary_logloss: 0.415693\tvalid_1's binary_logloss: 0.511373\n",
      "[30]\ttraining's binary_logloss: 0.365135\tvalid_1's binary_logloss: 0.485715\n",
      "[40]\ttraining's binary_logloss: 0.332246\tvalid_1's binary_logloss: 0.47724\n"
     ]
    },
    {
     "name": "stderr",
     "output_type": "stream",
     "text": [
      "/Users/m000732/opt/anaconda3/lib/python3.8/site-packages/lightgbm/basic.py:1551: UserWarning: Using categorical_feature in Dataset.\n",
      "  warnings.warn('Using categorical_feature in Dataset.')\n",
      "/Users/m000732/opt/anaconda3/lib/python3.8/site-packages/lightgbm/basic.py:1286: UserWarning: Overriding the parameters from Reference Dataset.\n",
      "  warnings.warn('Overriding the parameters from Reference Dataset.')\n",
      "/Users/m000732/opt/anaconda3/lib/python3.8/site-packages/lightgbm/basic.py:1098: UserWarning: categorical_column in param dict is overridden.\n",
      "  warnings.warn('{} in param dict is overridden.'.format(cat_alias))\n",
      "\u001b[32m[I 2021-04-20 00:04:50,399]\u001b[0m Trial 4 finished with value: 0.47724023356704565 and parameters: {'max_bin': 492, 'num_leaves': 69}. Best is trial 0 with value: 0.47724023356704565.\u001b[0m\n",
      "/Users/m000732/opt/anaconda3/lib/python3.8/site-packages/lightgbm/basic.py:1551: UserWarning: Using categorical_feature in Dataset.\n",
      "  warnings.warn('Using categorical_feature in Dataset.')\n",
      "/Users/m000732/opt/anaconda3/lib/python3.8/site-packages/lightgbm/basic.py:1286: UserWarning: Overriding the parameters from Reference Dataset.\n",
      "  warnings.warn('Overriding the parameters from Reference Dataset.')\n",
      "/Users/m000732/opt/anaconda3/lib/python3.8/site-packages/lightgbm/basic.py:1098: UserWarning: categorical_column in param dict is overridden.\n",
      "  warnings.warn('{} in param dict is overridden.'.format(cat_alias))\n",
      "\u001b[32m[I 2021-04-20 00:04:50,484]\u001b[0m Trial 5 finished with value: 0.47724023356704565 and parameters: {'max_bin': 449, 'num_leaves': 83}. Best is trial 0 with value: 0.47724023356704565.\u001b[0m\n",
      "/Users/m000732/opt/anaconda3/lib/python3.8/site-packages/lightgbm/basic.py:1551: UserWarning: Using categorical_feature in Dataset.\n",
      "  warnings.warn('Using categorical_feature in Dataset.')\n",
      "/Users/m000732/opt/anaconda3/lib/python3.8/site-packages/lightgbm/basic.py:1286: UserWarning: Overriding the parameters from Reference Dataset.\n",
      "  warnings.warn('Overriding the parameters from Reference Dataset.')\n",
      "/Users/m000732/opt/anaconda3/lib/python3.8/site-packages/lightgbm/basic.py:1098: UserWarning: categorical_column in param dict is overridden.\n",
      "  warnings.warn('{} in param dict is overridden.'.format(cat_alias))\n",
      "\u001b[32m[I 2021-04-20 00:04:50,551]\u001b[0m Trial 6 finished with value: 0.47724023356704565 and parameters: {'max_bin': 394, 'num_leaves': 121}. Best is trial 0 with value: 0.47724023356704565.\u001b[0m\n"
     ]
    },
    {
     "name": "stdout",
     "output_type": "stream",
     "text": [
      "[50]\ttraining's binary_logloss: 0.309433\tvalid_1's binary_logloss: 0.480312\n",
      "Early stopping, best iteration is:\n",
      "[40]\ttraining's binary_logloss: 0.332246\tvalid_1's binary_logloss: 0.47724\n",
      "Training until validation scores don't improve for 10 rounds\n",
      "[10]\ttraining's binary_logloss: 0.494743\tvalid_1's binary_logloss: 0.557074\n",
      "[20]\ttraining's binary_logloss: 0.415693\tvalid_1's binary_logloss: 0.511373\n",
      "[30]\ttraining's binary_logloss: 0.365135\tvalid_1's binary_logloss: 0.485715\n",
      "[40]\ttraining's binary_logloss: 0.332246\tvalid_1's binary_logloss: 0.47724\n",
      "[50]\ttraining's binary_logloss: 0.309433\tvalid_1's binary_logloss: 0.480312\n",
      "Early stopping, best iteration is:\n",
      "[40]\ttraining's binary_logloss: 0.332246\tvalid_1's binary_logloss: 0.47724\n",
      "Training until validation scores don't improve for 10 rounds\n",
      "[10]\ttraining's binary_logloss: 0.494743\tvalid_1's binary_logloss: 0.557074\n",
      "[20]\ttraining's binary_logloss: 0.415693\tvalid_1's binary_logloss: 0.511373\n",
      "[30]\ttraining's binary_logloss: 0.365135\tvalid_1's binary_logloss: 0.485715\n",
      "[40]\ttraining's binary_logloss: 0.332246\tvalid_1's binary_logloss: 0.47724\n",
      "[50]\ttraining's binary_logloss: 0.309433\tvalid_1's binary_logloss: 0.480312\n",
      "Early stopping, best iteration is:\n",
      "[40]\ttraining's binary_logloss: 0.332246\tvalid_1's binary_logloss: 0.47724\n",
      "Training until validation scores don't improve for 10 rounds\n"
     ]
    },
    {
     "name": "stderr",
     "output_type": "stream",
     "text": [
      "/Users/m000732/opt/anaconda3/lib/python3.8/site-packages/lightgbm/basic.py:1551: UserWarning: Using categorical_feature in Dataset.\n",
      "  warnings.warn('Using categorical_feature in Dataset.')\n",
      "/Users/m000732/opt/anaconda3/lib/python3.8/site-packages/lightgbm/basic.py:1286: UserWarning: Overriding the parameters from Reference Dataset.\n",
      "  warnings.warn('Overriding the parameters from Reference Dataset.')\n",
      "/Users/m000732/opt/anaconda3/lib/python3.8/site-packages/lightgbm/basic.py:1098: UserWarning: categorical_column in param dict is overridden.\n",
      "  warnings.warn('{} in param dict is overridden.'.format(cat_alias))\n",
      "\u001b[32m[I 2021-04-20 00:04:50,641]\u001b[0m Trial 7 finished with value: 0.47724023356704565 and parameters: {'max_bin': 272, 'num_leaves': 40}. Best is trial 0 with value: 0.47724023356704565.\u001b[0m\n",
      "/Users/m000732/opt/anaconda3/lib/python3.8/site-packages/lightgbm/basic.py:1551: UserWarning: Using categorical_feature in Dataset.\n",
      "  warnings.warn('Using categorical_feature in Dataset.')\n",
      "/Users/m000732/opt/anaconda3/lib/python3.8/site-packages/lightgbm/basic.py:1286: UserWarning: Overriding the parameters from Reference Dataset.\n",
      "  warnings.warn('Overriding the parameters from Reference Dataset.')\n",
      "/Users/m000732/opt/anaconda3/lib/python3.8/site-packages/lightgbm/basic.py:1098: UserWarning: categorical_column in param dict is overridden.\n",
      "  warnings.warn('{} in param dict is overridden.'.format(cat_alias))\n",
      "\u001b[32m[I 2021-04-20 00:04:50,685]\u001b[0m Trial 8 finished with value: 0.47724023356704565 and parameters: {'max_bin': 259, 'num_leaves': 112}. Best is trial 0 with value: 0.47724023356704565.\u001b[0m\n",
      "/Users/m000732/opt/anaconda3/lib/python3.8/site-packages/lightgbm/basic.py:1551: UserWarning: Using categorical_feature in Dataset.\n",
      "  warnings.warn('Using categorical_feature in Dataset.')\n",
      "/Users/m000732/opt/anaconda3/lib/python3.8/site-packages/lightgbm/basic.py:1286: UserWarning: Overriding the parameters from Reference Dataset.\n",
      "  warnings.warn('Overriding the parameters from Reference Dataset.')\n",
      "/Users/m000732/opt/anaconda3/lib/python3.8/site-packages/lightgbm/basic.py:1098: UserWarning: categorical_column in param dict is overridden.\n",
      "  warnings.warn('{} in param dict is overridden.'.format(cat_alias))\n",
      "\u001b[32m[I 2021-04-20 00:04:50,736]\u001b[0m Trial 9 finished with value: 0.47724023356704565 and parameters: {'max_bin': 446, 'num_leaves': 116}. Best is trial 0 with value: 0.47724023356704565.\u001b[0m\n",
      "/Users/m000732/opt/anaconda3/lib/python3.8/site-packages/lightgbm/basic.py:1551: UserWarning: Using categorical_feature in Dataset.\n",
      "  warnings.warn('Using categorical_feature in Dataset.')\n",
      "/Users/m000732/opt/anaconda3/lib/python3.8/site-packages/lightgbm/basic.py:1286: UserWarning: Overriding the parameters from Reference Dataset.\n",
      "  warnings.warn('Overriding the parameters from Reference Dataset.')\n",
      "/Users/m000732/opt/anaconda3/lib/python3.8/site-packages/lightgbm/basic.py:1098: UserWarning: categorical_column in param dict is overridden.\n",
      "  warnings.warn('{} in param dict is overridden.'.format(cat_alias))\n"
     ]
    },
    {
     "name": "stdout",
     "output_type": "stream",
     "text": [
      "[10]\ttraining's binary_logloss: 0.494743\tvalid_1's binary_logloss: 0.557074\n",
      "[20]\ttraining's binary_logloss: 0.415693\tvalid_1's binary_logloss: 0.511373\n",
      "[30]\ttraining's binary_logloss: 0.365135\tvalid_1's binary_logloss: 0.485715\n",
      "[40]\ttraining's binary_logloss: 0.332246\tvalid_1's binary_logloss: 0.47724\n",
      "[50]\ttraining's binary_logloss: 0.309433\tvalid_1's binary_logloss: 0.480312\n",
      "Early stopping, best iteration is:\n",
      "[40]\ttraining's binary_logloss: 0.332246\tvalid_1's binary_logloss: 0.47724\n",
      "Training until validation scores don't improve for 10 rounds\n",
      "[10]\ttraining's binary_logloss: 0.494743\tvalid_1's binary_logloss: 0.557074\n",
      "[20]\ttraining's binary_logloss: 0.415693\tvalid_1's binary_logloss: 0.511373\n",
      "[30]\ttraining's binary_logloss: 0.365135\tvalid_1's binary_logloss: 0.485715\n",
      "[40]\ttraining's binary_logloss: 0.332246\tvalid_1's binary_logloss: 0.47724\n",
      "[50]\ttraining's binary_logloss: 0.309433\tvalid_1's binary_logloss: 0.480312\n",
      "Early stopping, best iteration is:\n",
      "[40]\ttraining's binary_logloss: 0.332246\tvalid_1's binary_logloss: 0.47724\n",
      "Training until validation scores don't improve for 10 rounds\n",
      "[10]\ttraining's binary_logloss: 0.494743\tvalid_1's binary_logloss: 0.557074\n",
      "[20]\ttraining's binary_logloss: 0.415693\tvalid_1's binary_logloss: 0.511373\n",
      "[30]\ttraining's binary_logloss: 0.365135\tvalid_1's binary_logloss: 0.485715\n",
      "[40]\ttraining's binary_logloss: 0.332246\tvalid_1's binary_logloss: 0.47724\n",
      "[50]\ttraining's binary_logloss: 0.309433\tvalid_1's binary_logloss: 0.480312\n",
      "Early stopping, best iteration is:\n",
      "[40]\ttraining's binary_logloss: 0.332246\tvalid_1's binary_logloss: 0.47724\n",
      "Training until validation scores don't improve for 10 rounds\n",
      "[10]\ttraining's binary_logloss: 0.494743\tvalid_1's binary_logloss: 0.557074\n",
      "[20]\ttraining's binary_logloss: 0.415693\tvalid_1's binary_logloss: 0.511373\n",
      "[30]\ttraining's binary_logloss: 0.365135\tvalid_1's binary_logloss: 0.485715\n",
      "[40]\ttraining's binary_logloss: 0.332246\tvalid_1's binary_logloss: 0.47724\n",
      "[50]\ttraining's binary_logloss: 0.309433\tvalid_1's binary_logloss: 0.480312\n",
      "Early stopping, best iteration is:\n",
      "[40]\ttraining's binary_logloss: 0.332246\tvalid_1's binary_logloss: 0.47724\n"
     ]
    },
    {
     "name": "stderr",
     "output_type": "stream",
     "text": [
      "\u001b[32m[I 2021-04-20 00:04:50,805]\u001b[0m Trial 10 finished with value: 0.47724023356704565 and parameters: {'max_bin': 495, 'num_leaves': 109}. Best is trial 0 with value: 0.47724023356704565.\u001b[0m\n",
      "/Users/m000732/opt/anaconda3/lib/python3.8/site-packages/lightgbm/basic.py:1551: UserWarning: Using categorical_feature in Dataset.\n",
      "  warnings.warn('Using categorical_feature in Dataset.')\n",
      "/Users/m000732/opt/anaconda3/lib/python3.8/site-packages/lightgbm/basic.py:1286: UserWarning: Overriding the parameters from Reference Dataset.\n",
      "  warnings.warn('Overriding the parameters from Reference Dataset.')\n",
      "/Users/m000732/opt/anaconda3/lib/python3.8/site-packages/lightgbm/basic.py:1098: UserWarning: categorical_column in param dict is overridden.\n",
      "  warnings.warn('{} in param dict is overridden.'.format(cat_alias))\n",
      "\u001b[32m[I 2021-04-20 00:04:50,874]\u001b[0m Trial 11 finished with value: 0.47724023356704565 and parameters: {'max_bin': 368, 'num_leaves': 107}. Best is trial 0 with value: 0.47724023356704565.\u001b[0m\n",
      "/Users/m000732/opt/anaconda3/lib/python3.8/site-packages/lightgbm/basic.py:1551: UserWarning: Using categorical_feature in Dataset.\n",
      "  warnings.warn('Using categorical_feature in Dataset.')\n",
      "/Users/m000732/opt/anaconda3/lib/python3.8/site-packages/lightgbm/basic.py:1286: UserWarning: Overriding the parameters from Reference Dataset.\n",
      "  warnings.warn('Overriding the parameters from Reference Dataset.')\n",
      "/Users/m000732/opt/anaconda3/lib/python3.8/site-packages/lightgbm/basic.py:1098: UserWarning: categorical_column in param dict is overridden.\n",
      "  warnings.warn('{} in param dict is overridden.'.format(cat_alias))\n",
      "\u001b[32m[I 2021-04-20 00:04:50,948]\u001b[0m Trial 12 finished with value: 0.47724023356704565 and parameters: {'max_bin': 284, 'num_leaves': 94}. Best is trial 0 with value: 0.47724023356704565.\u001b[0m\n",
      "/Users/m000732/opt/anaconda3/lib/python3.8/site-packages/lightgbm/basic.py:1551: UserWarning: Using categorical_feature in Dataset.\n",
      "  warnings.warn('Using categorical_feature in Dataset.')\n",
      "/Users/m000732/opt/anaconda3/lib/python3.8/site-packages/lightgbm/basic.py:1286: UserWarning: Overriding the parameters from Reference Dataset.\n",
      "  warnings.warn('Overriding the parameters from Reference Dataset.')\n",
      "/Users/m000732/opt/anaconda3/lib/python3.8/site-packages/lightgbm/basic.py:1098: UserWarning: categorical_column in param dict is overridden.\n",
      "  warnings.warn('{} in param dict is overridden.'.format(cat_alias))\n"
     ]
    },
    {
     "name": "stdout",
     "output_type": "stream",
     "text": [
      "Training until validation scores don't improve for 10 rounds\n",
      "[10]\ttraining's binary_logloss: 0.494743\tvalid_1's binary_logloss: 0.557074\n",
      "[20]\ttraining's binary_logloss: 0.415693\tvalid_1's binary_logloss: 0.511373\n",
      "[30]\ttraining's binary_logloss: 0.365135\tvalid_1's binary_logloss: 0.485715\n",
      "[40]\ttraining's binary_logloss: 0.332246\tvalid_1's binary_logloss: 0.47724\n",
      "[50]\ttraining's binary_logloss: 0.309433\tvalid_1's binary_logloss: 0.480312\n",
      "Early stopping, best iteration is:\n",
      "[40]\ttraining's binary_logloss: 0.332246\tvalid_1's binary_logloss: 0.47724\n",
      "Training until validation scores don't improve for 10 rounds\n",
      "[10]\ttraining's binary_logloss: 0.494743\tvalid_1's binary_logloss: 0.557074\n",
      "[20]\ttraining's binary_logloss: 0.415693\tvalid_1's binary_logloss: 0.511373\n",
      "[30]\ttraining's binary_logloss: 0.365135\tvalid_1's binary_logloss: 0.485715\n",
      "[40]\ttraining's binary_logloss: 0.332246\tvalid_1's binary_logloss: 0.47724\n",
      "[50]\ttraining's binary_logloss: 0.309433\tvalid_1's binary_logloss: 0.480312\n",
      "Early stopping, best iteration is:\n",
      "[40]\ttraining's binary_logloss: 0.332246\tvalid_1's binary_logloss: 0.47724\n",
      "Training until validation scores don't improve for 10 rounds\n",
      "[10]\ttraining's binary_logloss: 0.494743\tvalid_1's binary_logloss: 0.557074\n",
      "[20]\ttraining's binary_logloss: 0.415693\tvalid_1's binary_logloss: 0.511373\n",
      "[30]\ttraining's binary_logloss: 0.365135\tvalid_1's binary_logloss: 0.485715\n",
      "[40]\ttraining's binary_logloss: 0.332246\tvalid_1's binary_logloss: 0.47724\n",
      "[50]\ttraining's binary_logloss: 0.309433\tvalid_1's binary_logloss: 0.480312\n",
      "Early stopping, best iteration is:\n",
      "[40]\ttraining's binary_logloss: 0.332246\tvalid_1's binary_logloss: 0.47724\n"
     ]
    },
    {
     "name": "stderr",
     "output_type": "stream",
     "text": [
      "\u001b[32m[I 2021-04-20 00:04:51,030]\u001b[0m Trial 13 finished with value: 0.47724023356704565 and parameters: {'max_bin': 290, 'num_leaves': 123}. Best is trial 0 with value: 0.47724023356704565.\u001b[0m\n",
      "/Users/m000732/opt/anaconda3/lib/python3.8/site-packages/lightgbm/basic.py:1551: UserWarning: Using categorical_feature in Dataset.\n",
      "  warnings.warn('Using categorical_feature in Dataset.')\n",
      "/Users/m000732/opt/anaconda3/lib/python3.8/site-packages/lightgbm/basic.py:1286: UserWarning: Overriding the parameters from Reference Dataset.\n",
      "  warnings.warn('Overriding the parameters from Reference Dataset.')\n",
      "/Users/m000732/opt/anaconda3/lib/python3.8/site-packages/lightgbm/basic.py:1098: UserWarning: categorical_column in param dict is overridden.\n",
      "  warnings.warn('{} in param dict is overridden.'.format(cat_alias))\n",
      "\u001b[32m[I 2021-04-20 00:04:51,131]\u001b[0m Trial 14 finished with value: 0.47724023356704565 and parameters: {'max_bin': 383, 'num_leaves': 72}. Best is trial 0 with value: 0.47724023356704565.\u001b[0m\n",
      "/Users/m000732/opt/anaconda3/lib/python3.8/site-packages/lightgbm/basic.py:1551: UserWarning: Using categorical_feature in Dataset.\n",
      "  warnings.warn('Using categorical_feature in Dataset.')\n",
      "/Users/m000732/opt/anaconda3/lib/python3.8/site-packages/lightgbm/basic.py:1286: UserWarning: Overriding the parameters from Reference Dataset.\n",
      "  warnings.warn('Overriding the parameters from Reference Dataset.')\n",
      "/Users/m000732/opt/anaconda3/lib/python3.8/site-packages/lightgbm/basic.py:1098: UserWarning: categorical_column in param dict is overridden.\n",
      "  warnings.warn('{} in param dict is overridden.'.format(cat_alias))\n",
      "\u001b[32m[I 2021-04-20 00:04:51,193]\u001b[0m Trial 15 finished with value: 0.47724023356704565 and parameters: {'max_bin': 320, 'num_leaves': 107}. Best is trial 0 with value: 0.47724023356704565.\u001b[0m\n",
      "/Users/m000732/opt/anaconda3/lib/python3.8/site-packages/lightgbm/basic.py:1551: UserWarning: Using categorical_feature in Dataset.\n",
      "  warnings.warn('Using categorical_feature in Dataset.')\n",
      "/Users/m000732/opt/anaconda3/lib/python3.8/site-packages/lightgbm/basic.py:1286: UserWarning: Overriding the parameters from Reference Dataset.\n",
      "  warnings.warn('Overriding the parameters from Reference Dataset.')\n",
      "/Users/m000732/opt/anaconda3/lib/python3.8/site-packages/lightgbm/basic.py:1098: UserWarning: categorical_column in param dict is overridden.\n",
      "  warnings.warn('{} in param dict is overridden.'.format(cat_alias))\n"
     ]
    },
    {
     "name": "stdout",
     "output_type": "stream",
     "text": [
      "Training until validation scores don't improve for 10 rounds\n",
      "[10]\ttraining's binary_logloss: 0.494743\tvalid_1's binary_logloss: 0.557074\n",
      "[20]\ttraining's binary_logloss: 0.415693\tvalid_1's binary_logloss: 0.511373\n",
      "[30]\ttraining's binary_logloss: 0.365135\tvalid_1's binary_logloss: 0.485715\n",
      "[40]\ttraining's binary_logloss: 0.332246\tvalid_1's binary_logloss: 0.47724\n",
      "[50]\ttraining's binary_logloss: 0.309433\tvalid_1's binary_logloss: 0.480312\n",
      "Early stopping, best iteration is:\n",
      "[40]\ttraining's binary_logloss: 0.332246\tvalid_1's binary_logloss: 0.47724\n",
      "Training until validation scores don't improve for 10 rounds\n",
      "[10]\ttraining's binary_logloss: 0.494743\tvalid_1's binary_logloss: 0.557074\n",
      "[20]\ttraining's binary_logloss: 0.415693\tvalid_1's binary_logloss: 0.511373\n",
      "[30]\ttraining's binary_logloss: 0.365135\tvalid_1's binary_logloss: 0.485715\n",
      "[40]\ttraining's binary_logloss: 0.332246\tvalid_1's binary_logloss: 0.47724\n",
      "[50]\ttraining's binary_logloss: 0.309433\tvalid_1's binary_logloss: 0.480312\n",
      "Early stopping, best iteration is:\n",
      "[40]\ttraining's binary_logloss: 0.332246\tvalid_1's binary_logloss: 0.47724\n",
      "Training until validation scores don't improve for 10 rounds\n",
      "[10]\ttraining's binary_logloss: 0.494743\tvalid_1's binary_logloss: 0.557074\n",
      "[20]\ttraining's binary_logloss: 0.415693\tvalid_1's binary_logloss: 0.511373\n",
      "[30]\ttraining's binary_logloss: 0.365135\tvalid_1's binary_logloss: 0.485715\n",
      "[40]\ttraining's binary_logloss: 0.332246\tvalid_1's binary_logloss: 0.47724\n"
     ]
    },
    {
     "name": "stderr",
     "output_type": "stream",
     "text": [
      "\u001b[32m[I 2021-04-20 00:04:51,259]\u001b[0m Trial 16 finished with value: 0.47724023356704565 and parameters: {'max_bin': 367, 'num_leaves': 87}. Best is trial 0 with value: 0.47724023356704565.\u001b[0m\n",
      "/Users/m000732/opt/anaconda3/lib/python3.8/site-packages/lightgbm/basic.py:1551: UserWarning: Using categorical_feature in Dataset.\n",
      "  warnings.warn('Using categorical_feature in Dataset.')\n",
      "/Users/m000732/opt/anaconda3/lib/python3.8/site-packages/lightgbm/basic.py:1286: UserWarning: Overriding the parameters from Reference Dataset.\n",
      "  warnings.warn('Overriding the parameters from Reference Dataset.')\n",
      "/Users/m000732/opt/anaconda3/lib/python3.8/site-packages/lightgbm/basic.py:1098: UserWarning: categorical_column in param dict is overridden.\n",
      "  warnings.warn('{} in param dict is overridden.'.format(cat_alias))\n",
      "\u001b[32m[I 2021-04-20 00:04:51,314]\u001b[0m Trial 17 finished with value: 0.47724023356704565 and parameters: {'max_bin': 259, 'num_leaves': 91}. Best is trial 0 with value: 0.47724023356704565.\u001b[0m\n",
      "/Users/m000732/opt/anaconda3/lib/python3.8/site-packages/lightgbm/basic.py:1551: UserWarning: Using categorical_feature in Dataset.\n",
      "  warnings.warn('Using categorical_feature in Dataset.')\n",
      "/Users/m000732/opt/anaconda3/lib/python3.8/site-packages/lightgbm/basic.py:1286: UserWarning: Overriding the parameters from Reference Dataset.\n",
      "  warnings.warn('Overriding the parameters from Reference Dataset.')\n",
      "/Users/m000732/opt/anaconda3/lib/python3.8/site-packages/lightgbm/basic.py:1098: UserWarning: categorical_column in param dict is overridden.\n",
      "  warnings.warn('{} in param dict is overridden.'.format(cat_alias))\n",
      "\u001b[32m[I 2021-04-20 00:04:51,375]\u001b[0m Trial 18 finished with value: 0.47724023356704565 and parameters: {'max_bin': 405, 'num_leaves': 91}. Best is trial 0 with value: 0.47724023356704565.\u001b[0m\n",
      "/Users/m000732/opt/anaconda3/lib/python3.8/site-packages/lightgbm/basic.py:1551: UserWarning: Using categorical_feature in Dataset.\n",
      "  warnings.warn('Using categorical_feature in Dataset.')\n",
      "/Users/m000732/opt/anaconda3/lib/python3.8/site-packages/lightgbm/basic.py:1286: UserWarning: Overriding the parameters from Reference Dataset.\n",
      "  warnings.warn('Overriding the parameters from Reference Dataset.')\n",
      "/Users/m000732/opt/anaconda3/lib/python3.8/site-packages/lightgbm/basic.py:1098: UserWarning: categorical_column in param dict is overridden.\n",
      "  warnings.warn('{} in param dict is overridden.'.format(cat_alias))\n",
      "\u001b[32m[I 2021-04-20 00:04:51,440]\u001b[0m Trial 19 finished with value: 0.47724023356704565 and parameters: {'max_bin': 487, 'num_leaves': 98}. Best is trial 0 with value: 0.47724023356704565.\u001b[0m\n"
     ]
    },
    {
     "name": "stdout",
     "output_type": "stream",
     "text": [
      "[50]\ttraining's binary_logloss: 0.309433\tvalid_1's binary_logloss: 0.480312\n",
      "Early stopping, best iteration is:\n",
      "[40]\ttraining's binary_logloss: 0.332246\tvalid_1's binary_logloss: 0.47724\n",
      "Training until validation scores don't improve for 10 rounds\n",
      "[10]\ttraining's binary_logloss: 0.494743\tvalid_1's binary_logloss: 0.557074\n",
      "[20]\ttraining's binary_logloss: 0.415693\tvalid_1's binary_logloss: 0.511373\n",
      "[30]\ttraining's binary_logloss: 0.365135\tvalid_1's binary_logloss: 0.485715\n",
      "[40]\ttraining's binary_logloss: 0.332246\tvalid_1's binary_logloss: 0.47724\n",
      "[50]\ttraining's binary_logloss: 0.309433\tvalid_1's binary_logloss: 0.480312\n",
      "Early stopping, best iteration is:\n",
      "[40]\ttraining's binary_logloss: 0.332246\tvalid_1's binary_logloss: 0.47724\n",
      "Training until validation scores don't improve for 10 rounds\n",
      "[10]\ttraining's binary_logloss: 0.494743\tvalid_1's binary_logloss: 0.557074\n",
      "[20]\ttraining's binary_logloss: 0.415693\tvalid_1's binary_logloss: 0.511373\n",
      "[30]\ttraining's binary_logloss: 0.365135\tvalid_1's binary_logloss: 0.485715\n",
      "[40]\ttraining's binary_logloss: 0.332246\tvalid_1's binary_logloss: 0.47724\n",
      "[50]\ttraining's binary_logloss: 0.309433\tvalid_1's binary_logloss: 0.480312\n",
      "Early stopping, best iteration is:\n",
      "[40]\ttraining's binary_logloss: 0.332246\tvalid_1's binary_logloss: 0.47724\n",
      "Training until validation scores don't improve for 10 rounds\n",
      "[10]\ttraining's binary_logloss: 0.494743\tvalid_1's binary_logloss: 0.557074\n",
      "[20]\ttraining's binary_logloss: 0.415693\tvalid_1's binary_logloss: 0.511373\n",
      "[30]\ttraining's binary_logloss: 0.365135\tvalid_1's binary_logloss: 0.485715\n",
      "[40]\ttraining's binary_logloss: 0.332246\tvalid_1's binary_logloss: 0.47724\n",
      "[50]\ttraining's binary_logloss: 0.309433\tvalid_1's binary_logloss: 0.480312\n",
      "Early stopping, best iteration is:\n",
      "[40]\ttraining's binary_logloss: 0.332246\tvalid_1's binary_logloss: 0.47724\n",
      "Training until validation scores don't improve for 10 rounds\n",
      "[10]\ttraining's binary_logloss: 0.494743\tvalid_1's binary_logloss: 0.557074\n"
     ]
    },
    {
     "name": "stderr",
     "output_type": "stream",
     "text": [
      "/Users/m000732/opt/anaconda3/lib/python3.8/site-packages/lightgbm/basic.py:1551: UserWarning: Using categorical_feature in Dataset.\n",
      "  warnings.warn('Using categorical_feature in Dataset.')\n",
      "/Users/m000732/opt/anaconda3/lib/python3.8/site-packages/lightgbm/basic.py:1286: UserWarning: Overriding the parameters from Reference Dataset.\n",
      "  warnings.warn('Overriding the parameters from Reference Dataset.')\n",
      "/Users/m000732/opt/anaconda3/lib/python3.8/site-packages/lightgbm/basic.py:1098: UserWarning: categorical_column in param dict is overridden.\n",
      "  warnings.warn('{} in param dict is overridden.'.format(cat_alias))\n",
      "\u001b[32m[I 2021-04-20 00:04:51,504]\u001b[0m Trial 20 finished with value: 0.47724023356704565 and parameters: {'max_bin': 343, 'num_leaves': 74}. Best is trial 0 with value: 0.47724023356704565.\u001b[0m\n",
      "/Users/m000732/opt/anaconda3/lib/python3.8/site-packages/lightgbm/basic.py:1551: UserWarning: Using categorical_feature in Dataset.\n",
      "  warnings.warn('Using categorical_feature in Dataset.')\n",
      "/Users/m000732/opt/anaconda3/lib/python3.8/site-packages/lightgbm/basic.py:1286: UserWarning: Overriding the parameters from Reference Dataset.\n",
      "  warnings.warn('Overriding the parameters from Reference Dataset.')\n",
      "/Users/m000732/opt/anaconda3/lib/python3.8/site-packages/lightgbm/basic.py:1098: UserWarning: categorical_column in param dict is overridden.\n",
      "  warnings.warn('{} in param dict is overridden.'.format(cat_alias))\n",
      "\u001b[32m[I 2021-04-20 00:04:51,554]\u001b[0m Trial 21 finished with value: 0.47724023356704565 and parameters: {'max_bin': 426, 'num_leaves': 37}. Best is trial 0 with value: 0.47724023356704565.\u001b[0m\n",
      "/Users/m000732/opt/anaconda3/lib/python3.8/site-packages/lightgbm/basic.py:1551: UserWarning: Using categorical_feature in Dataset.\n",
      "  warnings.warn('Using categorical_feature in Dataset.')\n",
      "/Users/m000732/opt/anaconda3/lib/python3.8/site-packages/lightgbm/basic.py:1286: UserWarning: Overriding the parameters from Reference Dataset.\n",
      "  warnings.warn('Overriding the parameters from Reference Dataset.')\n",
      "/Users/m000732/opt/anaconda3/lib/python3.8/site-packages/lightgbm/basic.py:1098: UserWarning: categorical_column in param dict is overridden.\n",
      "  warnings.warn('{} in param dict is overridden.'.format(cat_alias))\n",
      "\u001b[32m[I 2021-04-20 00:04:51,615]\u001b[0m Trial 22 finished with value: 0.47724023356704565 and parameters: {'max_bin': 419, 'num_leaves': 97}. Best is trial 0 with value: 0.47724023356704565.\u001b[0m\n",
      "/Users/m000732/opt/anaconda3/lib/python3.8/site-packages/lightgbm/basic.py:1551: UserWarning: Using categorical_feature in Dataset.\n",
      "  warnings.warn('Using categorical_feature in Dataset.')\n",
      "/Users/m000732/opt/anaconda3/lib/python3.8/site-packages/lightgbm/basic.py:1286: UserWarning: Overriding the parameters from Reference Dataset.\n",
      "  warnings.warn('Overriding the parameters from Reference Dataset.')\n",
      "/Users/m000732/opt/anaconda3/lib/python3.8/site-packages/lightgbm/basic.py:1098: UserWarning: categorical_column in param dict is overridden.\n",
      "  warnings.warn('{} in param dict is overridden.'.format(cat_alias))\n",
      "\u001b[32m[I 2021-04-20 00:04:51,685]\u001b[0m Trial 23 finished with value: 0.47724023356704565 and parameters: {'max_bin': 306, 'num_leaves': 44}. Best is trial 0 with value: 0.47724023356704565.\u001b[0m\n"
     ]
    },
    {
     "name": "stdout",
     "output_type": "stream",
     "text": [
      "[20]\ttraining's binary_logloss: 0.415693\tvalid_1's binary_logloss: 0.511373\n",
      "[30]\ttraining's binary_logloss: 0.365135\tvalid_1's binary_logloss: 0.485715\n",
      "[40]\ttraining's binary_logloss: 0.332246\tvalid_1's binary_logloss: 0.47724\n",
      "[50]\ttraining's binary_logloss: 0.309433\tvalid_1's binary_logloss: 0.480312\n",
      "Early stopping, best iteration is:\n",
      "[40]\ttraining's binary_logloss: 0.332246\tvalid_1's binary_logloss: 0.47724\n",
      "Training until validation scores don't improve for 10 rounds\n",
      "[10]\ttraining's binary_logloss: 0.494743\tvalid_1's binary_logloss: 0.557074\n",
      "[20]\ttraining's binary_logloss: 0.415693\tvalid_1's binary_logloss: 0.511373\n",
      "[30]\ttraining's binary_logloss: 0.365135\tvalid_1's binary_logloss: 0.485715\n",
      "[40]\ttraining's binary_logloss: 0.332246\tvalid_1's binary_logloss: 0.47724\n",
      "[50]\ttraining's binary_logloss: 0.309433\tvalid_1's binary_logloss: 0.480312\n",
      "Early stopping, best iteration is:\n",
      "[40]\ttraining's binary_logloss: 0.332246\tvalid_1's binary_logloss: 0.47724\n",
      "Training until validation scores don't improve for 10 rounds\n",
      "[10]\ttraining's binary_logloss: 0.494743\tvalid_1's binary_logloss: 0.557074\n",
      "[20]\ttraining's binary_logloss: 0.415693\tvalid_1's binary_logloss: 0.511373\n",
      "[30]\ttraining's binary_logloss: 0.365135\tvalid_1's binary_logloss: 0.485715\n",
      "[40]\ttraining's binary_logloss: 0.332246\tvalid_1's binary_logloss: 0.47724\n",
      "[50]\ttraining's binary_logloss: 0.309433\tvalid_1's binary_logloss: 0.480312\n",
      "Early stopping, best iteration is:\n",
      "[40]\ttraining's binary_logloss: 0.332246\tvalid_1's binary_logloss: 0.47724\n",
      "Training until validation scores don't improve for 10 rounds\n",
      "[10]\ttraining's binary_logloss: 0.494743\tvalid_1's binary_logloss: 0.557074\n",
      "[20]\ttraining's binary_logloss: 0.415693\tvalid_1's binary_logloss: 0.511373\n",
      "[30]\ttraining's binary_logloss: 0.365135\tvalid_1's binary_logloss: 0.485715\n",
      "[40]\ttraining's binary_logloss: 0.332246\tvalid_1's binary_logloss: 0.47724\n",
      "[50]\ttraining's binary_logloss: 0.309433\tvalid_1's binary_logloss: 0.480312\n",
      "Early stopping, best iteration is:\n",
      "[40]\ttraining's binary_logloss: 0.332246\tvalid_1's binary_logloss: 0.47724\n"
     ]
    },
    {
     "name": "stderr",
     "output_type": "stream",
     "text": [
      "/Users/m000732/opt/anaconda3/lib/python3.8/site-packages/lightgbm/basic.py:1551: UserWarning: Using categorical_feature in Dataset.\n",
      "  warnings.warn('Using categorical_feature in Dataset.')\n",
      "/Users/m000732/opt/anaconda3/lib/python3.8/site-packages/lightgbm/basic.py:1286: UserWarning: Overriding the parameters from Reference Dataset.\n",
      "  warnings.warn('Overriding the parameters from Reference Dataset.')\n",
      "/Users/m000732/opt/anaconda3/lib/python3.8/site-packages/lightgbm/basic.py:1098: UserWarning: categorical_column in param dict is overridden.\n",
      "  warnings.warn('{} in param dict is overridden.'.format(cat_alias))\n",
      "\u001b[32m[I 2021-04-20 00:04:51,764]\u001b[0m Trial 24 finished with value: 0.47724023356704565 and parameters: {'max_bin': 332, 'num_leaves': 67}. Best is trial 0 with value: 0.47724023356704565.\u001b[0m\n",
      "/Users/m000732/opt/anaconda3/lib/python3.8/site-packages/lightgbm/basic.py:1551: UserWarning: Using categorical_feature in Dataset.\n",
      "  warnings.warn('Using categorical_feature in Dataset.')\n",
      "/Users/m000732/opt/anaconda3/lib/python3.8/site-packages/lightgbm/basic.py:1286: UserWarning: Overriding the parameters from Reference Dataset.\n",
      "  warnings.warn('Overriding the parameters from Reference Dataset.')\n",
      "/Users/m000732/opt/anaconda3/lib/python3.8/site-packages/lightgbm/basic.py:1098: UserWarning: categorical_column in param dict is overridden.\n",
      "  warnings.warn('{} in param dict is overridden.'.format(cat_alias))\n",
      "\u001b[32m[I 2021-04-20 00:04:51,811]\u001b[0m Trial 25 finished with value: 0.47724023356704565 and parameters: {'max_bin': 395, 'num_leaves': 74}. Best is trial 0 with value: 0.47724023356704565.\u001b[0m\n",
      "/Users/m000732/opt/anaconda3/lib/python3.8/site-packages/lightgbm/basic.py:1551: UserWarning: Using categorical_feature in Dataset.\n",
      "  warnings.warn('Using categorical_feature in Dataset.')\n",
      "/Users/m000732/opt/anaconda3/lib/python3.8/site-packages/lightgbm/basic.py:1286: UserWarning: Overriding the parameters from Reference Dataset.\n",
      "  warnings.warn('Overriding the parameters from Reference Dataset.')\n",
      "/Users/m000732/opt/anaconda3/lib/python3.8/site-packages/lightgbm/basic.py:1098: UserWarning: categorical_column in param dict is overridden.\n",
      "  warnings.warn('{} in param dict is overridden.'.format(cat_alias))\n",
      "\u001b[32m[I 2021-04-20 00:04:51,877]\u001b[0m Trial 26 finished with value: 0.47724023356704565 and parameters: {'max_bin': 498, 'num_leaves': 41}. Best is trial 0 with value: 0.47724023356704565.\u001b[0m\n",
      "/Users/m000732/opt/anaconda3/lib/python3.8/site-packages/lightgbm/basic.py:1551: UserWarning: Using categorical_feature in Dataset.\n",
      "  warnings.warn('Using categorical_feature in Dataset.')\n",
      "/Users/m000732/opt/anaconda3/lib/python3.8/site-packages/lightgbm/basic.py:1286: UserWarning: Overriding the parameters from Reference Dataset.\n",
      "  warnings.warn('Overriding the parameters from Reference Dataset.')\n",
      "/Users/m000732/opt/anaconda3/lib/python3.8/site-packages/lightgbm/basic.py:1098: UserWarning: categorical_column in param dict is overridden.\n",
      "  warnings.warn('{} in param dict is overridden.'.format(cat_alias))\n"
     ]
    },
    {
     "name": "stdout",
     "output_type": "stream",
     "text": [
      "Training until validation scores don't improve for 10 rounds\n",
      "[10]\ttraining's binary_logloss: 0.494743\tvalid_1's binary_logloss: 0.557074\n",
      "[20]\ttraining's binary_logloss: 0.415693\tvalid_1's binary_logloss: 0.511373\n",
      "[30]\ttraining's binary_logloss: 0.365135\tvalid_1's binary_logloss: 0.485715\n",
      "[40]\ttraining's binary_logloss: 0.332246\tvalid_1's binary_logloss: 0.47724\n",
      "[50]\ttraining's binary_logloss: 0.309433\tvalid_1's binary_logloss: 0.480312\n",
      "Early stopping, best iteration is:\n",
      "[40]\ttraining's binary_logloss: 0.332246\tvalid_1's binary_logloss: 0.47724\n",
      "Training until validation scores don't improve for 10 rounds\n",
      "[10]\ttraining's binary_logloss: 0.494743\tvalid_1's binary_logloss: 0.557074\n",
      "[20]\ttraining's binary_logloss: 0.415693\tvalid_1's binary_logloss: 0.511373\n",
      "[30]\ttraining's binary_logloss: 0.365135\tvalid_1's binary_logloss: 0.485715\n",
      "[40]\ttraining's binary_logloss: 0.332246\tvalid_1's binary_logloss: 0.47724\n",
      "[50]\ttraining's binary_logloss: 0.309433\tvalid_1's binary_logloss: 0.480312\n",
      "Early stopping, best iteration is:\n",
      "[40]\ttraining's binary_logloss: 0.332246\tvalid_1's binary_logloss: 0.47724\n",
      "Training until validation scores don't improve for 10 rounds\n",
      "[10]\ttraining's binary_logloss: 0.494743\tvalid_1's binary_logloss: 0.557074\n",
      "[20]\ttraining's binary_logloss: 0.415693\tvalid_1's binary_logloss: 0.511373\n",
      "[30]\ttraining's binary_logloss: 0.365135\tvalid_1's binary_logloss: 0.485715\n",
      "[40]\ttraining's binary_logloss: 0.332246\tvalid_1's binary_logloss: 0.47724\n",
      "[50]\ttraining's binary_logloss: 0.309433\tvalid_1's binary_logloss: 0.480312\n",
      "Early stopping, best iteration is:\n",
      "[40]\ttraining's binary_logloss: 0.332246\tvalid_1's binary_logloss: 0.47724\n",
      "Training until validation scores don't improve for 10 rounds\n"
     ]
    },
    {
     "name": "stderr",
     "output_type": "stream",
     "text": [
      "\u001b[32m[I 2021-04-20 00:04:51,970]\u001b[0m Trial 27 finished with value: 0.47724023356704565 and parameters: {'max_bin': 306, 'num_leaves': 47}. Best is trial 0 with value: 0.47724023356704565.\u001b[0m\n",
      "/Users/m000732/opt/anaconda3/lib/python3.8/site-packages/lightgbm/basic.py:1551: UserWarning: Using categorical_feature in Dataset.\n",
      "  warnings.warn('Using categorical_feature in Dataset.')\n",
      "/Users/m000732/opt/anaconda3/lib/python3.8/site-packages/lightgbm/basic.py:1286: UserWarning: Overriding the parameters from Reference Dataset.\n",
      "  warnings.warn('Overriding the parameters from Reference Dataset.')\n",
      "/Users/m000732/opt/anaconda3/lib/python3.8/site-packages/lightgbm/basic.py:1098: UserWarning: categorical_column in param dict is overridden.\n",
      "  warnings.warn('{} in param dict is overridden.'.format(cat_alias))\n",
      "\u001b[32m[I 2021-04-20 00:04:52,066]\u001b[0m Trial 28 finished with value: 0.47724023356704565 and parameters: {'max_bin': 415, 'num_leaves': 56}. Best is trial 0 with value: 0.47724023356704565.\u001b[0m\n",
      "/Users/m000732/opt/anaconda3/lib/python3.8/site-packages/lightgbm/basic.py:1551: UserWarning: Using categorical_feature in Dataset.\n",
      "  warnings.warn('Using categorical_feature in Dataset.')\n",
      "/Users/m000732/opt/anaconda3/lib/python3.8/site-packages/lightgbm/basic.py:1286: UserWarning: Overriding the parameters from Reference Dataset.\n",
      "  warnings.warn('Overriding the parameters from Reference Dataset.')\n",
      "/Users/m000732/opt/anaconda3/lib/python3.8/site-packages/lightgbm/basic.py:1098: UserWarning: categorical_column in param dict is overridden.\n",
      "  warnings.warn('{} in param dict is overridden.'.format(cat_alias))\n"
     ]
    },
    {
     "name": "stdout",
     "output_type": "stream",
     "text": [
      "[10]\ttraining's binary_logloss: 0.494743\tvalid_1's binary_logloss: 0.557074\n",
      "[20]\ttraining's binary_logloss: 0.415693\tvalid_1's binary_logloss: 0.511373\n",
      "[30]\ttraining's binary_logloss: 0.365135\tvalid_1's binary_logloss: 0.485715\n",
      "[40]\ttraining's binary_logloss: 0.332246\tvalid_1's binary_logloss: 0.47724\n",
      "[50]\ttraining's binary_logloss: 0.309433\tvalid_1's binary_logloss: 0.480312\n",
      "Early stopping, best iteration is:\n",
      "[40]\ttraining's binary_logloss: 0.332246\tvalid_1's binary_logloss: 0.47724\n",
      "Training until validation scores don't improve for 10 rounds\n",
      "[10]\ttraining's binary_logloss: 0.494743\tvalid_1's binary_logloss: 0.557074\n",
      "[20]\ttraining's binary_logloss: 0.415693\tvalid_1's binary_logloss: 0.511373\n",
      "[30]\ttraining's binary_logloss: 0.365135\tvalid_1's binary_logloss: 0.485715\n",
      "[40]\ttraining's binary_logloss: 0.332246\tvalid_1's binary_logloss: 0.47724\n",
      "[50]\ttraining's binary_logloss: 0.309433\tvalid_1's binary_logloss: 0.480312\n",
      "Early stopping, best iteration is:\n",
      "[40]\ttraining's binary_logloss: 0.332246\tvalid_1's binary_logloss: 0.47724\n",
      "Training until validation scores don't improve for 10 rounds\n",
      "[10]\ttraining's binary_logloss: 0.494743\tvalid_1's binary_logloss: 0.557074\n",
      "[20]\ttraining's binary_logloss: 0.415693\tvalid_1's binary_logloss: 0.511373\n",
      "[30]\ttraining's binary_logloss: 0.365135\tvalid_1's binary_logloss: 0.485715\n"
     ]
    },
    {
     "name": "stderr",
     "output_type": "stream",
     "text": [
      "\u001b[32m[I 2021-04-20 00:04:52,141]\u001b[0m Trial 29 finished with value: 0.47724023356704565 and parameters: {'max_bin': 369, 'num_leaves': 55}. Best is trial 0 with value: 0.47724023356704565.\u001b[0m\n",
      "/Users/m000732/opt/anaconda3/lib/python3.8/site-packages/lightgbm/basic.py:1551: UserWarning: Using categorical_feature in Dataset.\n",
      "  warnings.warn('Using categorical_feature in Dataset.')\n",
      "/Users/m000732/opt/anaconda3/lib/python3.8/site-packages/lightgbm/basic.py:1286: UserWarning: Overriding the parameters from Reference Dataset.\n",
      "  warnings.warn('Overriding the parameters from Reference Dataset.')\n",
      "/Users/m000732/opt/anaconda3/lib/python3.8/site-packages/lightgbm/basic.py:1098: UserWarning: categorical_column in param dict is overridden.\n",
      "  warnings.warn('{} in param dict is overridden.'.format(cat_alias))\n",
      "\u001b[32m[I 2021-04-20 00:04:52,214]\u001b[0m Trial 30 finished with value: 0.47724023356704565 and parameters: {'max_bin': 294, 'num_leaves': 42}. Best is trial 0 with value: 0.47724023356704565.\u001b[0m\n",
      "/Users/m000732/opt/anaconda3/lib/python3.8/site-packages/lightgbm/basic.py:1551: UserWarning: Using categorical_feature in Dataset.\n",
      "  warnings.warn('Using categorical_feature in Dataset.')\n",
      "/Users/m000732/opt/anaconda3/lib/python3.8/site-packages/lightgbm/basic.py:1286: UserWarning: Overriding the parameters from Reference Dataset.\n",
      "  warnings.warn('Overriding the parameters from Reference Dataset.')\n",
      "/Users/m000732/opt/anaconda3/lib/python3.8/site-packages/lightgbm/basic.py:1098: UserWarning: categorical_column in param dict is overridden.\n",
      "  warnings.warn('{} in param dict is overridden.'.format(cat_alias))\n",
      "\u001b[32m[I 2021-04-20 00:04:52,256]\u001b[0m Trial 31 finished with value: 0.47724023356704565 and parameters: {'max_bin': 416, 'num_leaves': 45}. Best is trial 0 with value: 0.47724023356704565.\u001b[0m\n",
      "/Users/m000732/opt/anaconda3/lib/python3.8/site-packages/lightgbm/basic.py:1551: UserWarning: Using categorical_feature in Dataset.\n",
      "  warnings.warn('Using categorical_feature in Dataset.')\n",
      "/Users/m000732/opt/anaconda3/lib/python3.8/site-packages/lightgbm/basic.py:1286: UserWarning: Overriding the parameters from Reference Dataset.\n",
      "  warnings.warn('Overriding the parameters from Reference Dataset.')\n",
      "/Users/m000732/opt/anaconda3/lib/python3.8/site-packages/lightgbm/basic.py:1098: UserWarning: categorical_column in param dict is overridden.\n",
      "  warnings.warn('{} in param dict is overridden.'.format(cat_alias))\n",
      "\u001b[32m[I 2021-04-20 00:04:52,308]\u001b[0m Trial 32 finished with value: 0.47724023356704565 and parameters: {'max_bin': 303, 'num_leaves': 67}. Best is trial 0 with value: 0.47724023356704565.\u001b[0m\n"
     ]
    },
    {
     "name": "stdout",
     "output_type": "stream",
     "text": [
      "[40]\ttraining's binary_logloss: 0.332246\tvalid_1's binary_logloss: 0.47724\n",
      "[50]\ttraining's binary_logloss: 0.309433\tvalid_1's binary_logloss: 0.480312\n",
      "Early stopping, best iteration is:\n",
      "[40]\ttraining's binary_logloss: 0.332246\tvalid_1's binary_logloss: 0.47724\n",
      "Training until validation scores don't improve for 10 rounds\n",
      "[10]\ttraining's binary_logloss: 0.494743\tvalid_1's binary_logloss: 0.557074\n",
      "[20]\ttraining's binary_logloss: 0.415693\tvalid_1's binary_logloss: 0.511373\n",
      "[30]\ttraining's binary_logloss: 0.365135\tvalid_1's binary_logloss: 0.485715\n",
      "[40]\ttraining's binary_logloss: 0.332246\tvalid_1's binary_logloss: 0.47724\n",
      "[50]\ttraining's binary_logloss: 0.309433\tvalid_1's binary_logloss: 0.480312\n",
      "Early stopping, best iteration is:\n",
      "[40]\ttraining's binary_logloss: 0.332246\tvalid_1's binary_logloss: 0.47724\n",
      "Training until validation scores don't improve for 10 rounds\n",
      "[10]\ttraining's binary_logloss: 0.494743\tvalid_1's binary_logloss: 0.557074\n",
      "[20]\ttraining's binary_logloss: 0.415693\tvalid_1's binary_logloss: 0.511373\n",
      "[30]\ttraining's binary_logloss: 0.365135\tvalid_1's binary_logloss: 0.485715\n",
      "[40]\ttraining's binary_logloss: 0.332246\tvalid_1's binary_logloss: 0.47724\n",
      "[50]\ttraining's binary_logloss: 0.309433\tvalid_1's binary_logloss: 0.480312\n",
      "Early stopping, best iteration is:\n",
      "[40]\ttraining's binary_logloss: 0.332246\tvalid_1's binary_logloss: 0.47724\n",
      "Training until validation scores don't improve for 10 rounds\n",
      "[10]\ttraining's binary_logloss: 0.494743\tvalid_1's binary_logloss: 0.557074\n",
      "[20]\ttraining's binary_logloss: 0.415693\tvalid_1's binary_logloss: 0.511373\n",
      "[30]\ttraining's binary_logloss: 0.365135\tvalid_1's binary_logloss: 0.485715\n",
      "[40]\ttraining's binary_logloss: 0.332246\tvalid_1's binary_logloss: 0.47724\n",
      "[50]\ttraining's binary_logloss: 0.309433\tvalid_1's binary_logloss: 0.480312\n",
      "Early stopping, best iteration is:\n",
      "[40]\ttraining's binary_logloss: 0.332246\tvalid_1's binary_logloss: 0.47724\n",
      "Training until validation scores don't improve for 10 rounds\n"
     ]
    },
    {
     "name": "stderr",
     "output_type": "stream",
     "text": [
      "/Users/m000732/opt/anaconda3/lib/python3.8/site-packages/lightgbm/basic.py:1551: UserWarning: Using categorical_feature in Dataset.\n",
      "  warnings.warn('Using categorical_feature in Dataset.')\n",
      "/Users/m000732/opt/anaconda3/lib/python3.8/site-packages/lightgbm/basic.py:1286: UserWarning: Overriding the parameters from Reference Dataset.\n",
      "  warnings.warn('Overriding the parameters from Reference Dataset.')\n",
      "/Users/m000732/opt/anaconda3/lib/python3.8/site-packages/lightgbm/basic.py:1098: UserWarning: categorical_column in param dict is overridden.\n",
      "  warnings.warn('{} in param dict is overridden.'.format(cat_alias))\n",
      "\u001b[32m[I 2021-04-20 00:04:52,375]\u001b[0m Trial 33 finished with value: 0.47724023356704565 and parameters: {'max_bin': 456, 'num_leaves': 41}. Best is trial 0 with value: 0.47724023356704565.\u001b[0m\n",
      "/Users/m000732/opt/anaconda3/lib/python3.8/site-packages/lightgbm/basic.py:1551: UserWarning: Using categorical_feature in Dataset.\n",
      "  warnings.warn('Using categorical_feature in Dataset.')\n",
      "/Users/m000732/opt/anaconda3/lib/python3.8/site-packages/lightgbm/basic.py:1286: UserWarning: Overriding the parameters from Reference Dataset.\n",
      "  warnings.warn('Overriding the parameters from Reference Dataset.')\n",
      "/Users/m000732/opt/anaconda3/lib/python3.8/site-packages/lightgbm/basic.py:1098: UserWarning: categorical_column in param dict is overridden.\n",
      "  warnings.warn('{} in param dict is overridden.'.format(cat_alias))\n",
      "\u001b[32m[I 2021-04-20 00:04:52,446]\u001b[0m Trial 34 finished with value: 0.47724023356704565 and parameters: {'max_bin': 461, 'num_leaves': 41}. Best is trial 0 with value: 0.47724023356704565.\u001b[0m\n",
      "/Users/m000732/opt/anaconda3/lib/python3.8/site-packages/lightgbm/basic.py:1551: UserWarning: Using categorical_feature in Dataset.\n",
      "  warnings.warn('Using categorical_feature in Dataset.')\n",
      "/Users/m000732/opt/anaconda3/lib/python3.8/site-packages/lightgbm/basic.py:1286: UserWarning: Overriding the parameters from Reference Dataset.\n",
      "  warnings.warn('Overriding the parameters from Reference Dataset.')\n",
      "/Users/m000732/opt/anaconda3/lib/python3.8/site-packages/lightgbm/basic.py:1098: UserWarning: categorical_column in param dict is overridden.\n",
      "  warnings.warn('{} in param dict is overridden.'.format(cat_alias))\n",
      "\u001b[32m[I 2021-04-20 00:04:52,522]\u001b[0m Trial 35 finished with value: 0.47724023356704565 and parameters: {'max_bin': 495, 'num_leaves': 77}. Best is trial 0 with value: 0.47724023356704565.\u001b[0m\n"
     ]
    },
    {
     "name": "stdout",
     "output_type": "stream",
     "text": [
      "[10]\ttraining's binary_logloss: 0.494743\tvalid_1's binary_logloss: 0.557074\n",
      "[20]\ttraining's binary_logloss: 0.415693\tvalid_1's binary_logloss: 0.511373\n",
      "[30]\ttraining's binary_logloss: 0.365135\tvalid_1's binary_logloss: 0.485715\n",
      "[40]\ttraining's binary_logloss: 0.332246\tvalid_1's binary_logloss: 0.47724\n",
      "[50]\ttraining's binary_logloss: 0.309433\tvalid_1's binary_logloss: 0.480312\n",
      "Early stopping, best iteration is:\n",
      "[40]\ttraining's binary_logloss: 0.332246\tvalid_1's binary_logloss: 0.47724\n",
      "Training until validation scores don't improve for 10 rounds\n",
      "[10]\ttraining's binary_logloss: 0.494743\tvalid_1's binary_logloss: 0.557074\n",
      "[20]\ttraining's binary_logloss: 0.415693\tvalid_1's binary_logloss: 0.511373\n",
      "[30]\ttraining's binary_logloss: 0.365135\tvalid_1's binary_logloss: 0.485715\n",
      "[40]\ttraining's binary_logloss: 0.332246\tvalid_1's binary_logloss: 0.47724\n",
      "[50]\ttraining's binary_logloss: 0.309433\tvalid_1's binary_logloss: 0.480312\n",
      "Early stopping, best iteration is:\n",
      "[40]\ttraining's binary_logloss: 0.332246\tvalid_1's binary_logloss: 0.47724\n",
      "Training until validation scores don't improve for 10 rounds\n",
      "[10]\ttraining's binary_logloss: 0.494743\tvalid_1's binary_logloss: 0.557074\n",
      "[20]\ttraining's binary_logloss: 0.415693\tvalid_1's binary_logloss: 0.511373\n",
      "[30]\ttraining's binary_logloss: 0.365135\tvalid_1's binary_logloss: 0.485715\n",
      "[40]\ttraining's binary_logloss: 0.332246\tvalid_1's binary_logloss: 0.47724\n",
      "[50]\ttraining's binary_logloss: 0.309433\tvalid_1's binary_logloss: 0.480312\n",
      "Early stopping, best iteration is:\n",
      "[40]\ttraining's binary_logloss: 0.332246\tvalid_1's binary_logloss: 0.47724\n",
      "Training until validation scores don't improve for 10 rounds\n"
     ]
    },
    {
     "name": "stderr",
     "output_type": "stream",
     "text": [
      "/Users/m000732/opt/anaconda3/lib/python3.8/site-packages/lightgbm/basic.py:1551: UserWarning: Using categorical_feature in Dataset.\n",
      "  warnings.warn('Using categorical_feature in Dataset.')\n",
      "/Users/m000732/opt/anaconda3/lib/python3.8/site-packages/lightgbm/basic.py:1286: UserWarning: Overriding the parameters from Reference Dataset.\n",
      "  warnings.warn('Overriding the parameters from Reference Dataset.')\n",
      "/Users/m000732/opt/anaconda3/lib/python3.8/site-packages/lightgbm/basic.py:1098: UserWarning: categorical_column in param dict is overridden.\n",
      "  warnings.warn('{} in param dict is overridden.'.format(cat_alias))\n",
      "\u001b[32m[I 2021-04-20 00:04:52,586]\u001b[0m Trial 36 finished with value: 0.47724023356704565 and parameters: {'max_bin': 495, 'num_leaves': 90}. Best is trial 0 with value: 0.47724023356704565.\u001b[0m\n",
      "/Users/m000732/opt/anaconda3/lib/python3.8/site-packages/lightgbm/basic.py:1551: UserWarning: Using categorical_feature in Dataset.\n",
      "  warnings.warn('Using categorical_feature in Dataset.')\n",
      "/Users/m000732/opt/anaconda3/lib/python3.8/site-packages/lightgbm/basic.py:1286: UserWarning: Overriding the parameters from Reference Dataset.\n",
      "  warnings.warn('Overriding the parameters from Reference Dataset.')\n",
      "/Users/m000732/opt/anaconda3/lib/python3.8/site-packages/lightgbm/basic.py:1098: UserWarning: categorical_column in param dict is overridden.\n",
      "  warnings.warn('{} in param dict is overridden.'.format(cat_alias))\n",
      "\u001b[32m[I 2021-04-20 00:04:52,651]\u001b[0m Trial 37 finished with value: 0.47724023356704565 and parameters: {'max_bin': 436, 'num_leaves': 35}. Best is trial 0 with value: 0.47724023356704565.\u001b[0m\n",
      "/Users/m000732/opt/anaconda3/lib/python3.8/site-packages/lightgbm/basic.py:1551: UserWarning: Using categorical_feature in Dataset.\n",
      "  warnings.warn('Using categorical_feature in Dataset.')\n",
      "/Users/m000732/opt/anaconda3/lib/python3.8/site-packages/lightgbm/basic.py:1286: UserWarning: Overriding the parameters from Reference Dataset.\n",
      "  warnings.warn('Overriding the parameters from Reference Dataset.')\n",
      "/Users/m000732/opt/anaconda3/lib/python3.8/site-packages/lightgbm/basic.py:1098: UserWarning: categorical_column in param dict is overridden.\n",
      "  warnings.warn('{} in param dict is overridden.'.format(cat_alias))\n",
      "\u001b[32m[I 2021-04-20 00:04:52,707]\u001b[0m Trial 38 finished with value: 0.47724023356704565 and parameters: {'max_bin': 324, 'num_leaves': 43}. Best is trial 0 with value: 0.47724023356704565.\u001b[0m\n",
      "/Users/m000732/opt/anaconda3/lib/python3.8/site-packages/lightgbm/basic.py:1551: UserWarning: Using categorical_feature in Dataset.\n",
      "  warnings.warn('Using categorical_feature in Dataset.')\n",
      "/Users/m000732/opt/anaconda3/lib/python3.8/site-packages/lightgbm/basic.py:1286: UserWarning: Overriding the parameters from Reference Dataset.\n",
      "  warnings.warn('Overriding the parameters from Reference Dataset.')\n",
      "/Users/m000732/opt/anaconda3/lib/python3.8/site-packages/lightgbm/basic.py:1098: UserWarning: categorical_column in param dict is overridden.\n",
      "  warnings.warn('{} in param dict is overridden.'.format(cat_alias))\n"
     ]
    },
    {
     "name": "stdout",
     "output_type": "stream",
     "text": [
      "[10]\ttraining's binary_logloss: 0.494743\tvalid_1's binary_logloss: 0.557074\n",
      "[20]\ttraining's binary_logloss: 0.415693\tvalid_1's binary_logloss: 0.511373\n",
      "[30]\ttraining's binary_logloss: 0.365135\tvalid_1's binary_logloss: 0.485715\n",
      "[40]\ttraining's binary_logloss: 0.332246\tvalid_1's binary_logloss: 0.47724\n",
      "[50]\ttraining's binary_logloss: 0.309433\tvalid_1's binary_logloss: 0.480312\n",
      "Early stopping, best iteration is:\n",
      "[40]\ttraining's binary_logloss: 0.332246\tvalid_1's binary_logloss: 0.47724\n",
      "Training until validation scores don't improve for 10 rounds\n",
      "[10]\ttraining's binary_logloss: 0.494743\tvalid_1's binary_logloss: 0.557074\n",
      "[20]\ttraining's binary_logloss: 0.415693\tvalid_1's binary_logloss: 0.511373\n",
      "[30]\ttraining's binary_logloss: 0.365135\tvalid_1's binary_logloss: 0.485715\n",
      "[40]\ttraining's binary_logloss: 0.332246\tvalid_1's binary_logloss: 0.47724\n",
      "[50]\ttraining's binary_logloss: 0.309433\tvalid_1's binary_logloss: 0.480312\n",
      "Early stopping, best iteration is:\n",
      "[40]\ttraining's binary_logloss: 0.332246\tvalid_1's binary_logloss: 0.47724\n",
      "Training until validation scores don't improve for 10 rounds\n",
      "[10]\ttraining's binary_logloss: 0.494743\tvalid_1's binary_logloss: 0.557074\n",
      "[20]\ttraining's binary_logloss: 0.415693\tvalid_1's binary_logloss: 0.511373\n",
      "[30]\ttraining's binary_logloss: 0.365135\tvalid_1's binary_logloss: 0.485715\n",
      "[40]\ttraining's binary_logloss: 0.332246\tvalid_1's binary_logloss: 0.47724\n",
      "[50]\ttraining's binary_logloss: 0.309433\tvalid_1's binary_logloss: 0.480312\n",
      "Early stopping, best iteration is:\n",
      "[40]\ttraining's binary_logloss: 0.332246\tvalid_1's binary_logloss: 0.47724\n",
      "Training until validation scores don't improve for 10 rounds\n",
      "[10]\ttraining's binary_logloss: 0.494743\tvalid_1's binary_logloss: 0.557074\n",
      "[20]\ttraining's binary_logloss: 0.415693\tvalid_1's binary_logloss: 0.511373\n"
     ]
    },
    {
     "name": "stderr",
     "output_type": "stream",
     "text": [
      "\u001b[32m[I 2021-04-20 00:04:52,777]\u001b[0m Trial 39 finished with value: 0.47724023356704565 and parameters: {'max_bin': 327, 'num_leaves': 43}. Best is trial 0 with value: 0.47724023356704565.\u001b[0m\n"
     ]
    },
    {
     "name": "stdout",
     "output_type": "stream",
     "text": [
      "[30]\ttraining's binary_logloss: 0.365135\tvalid_1's binary_logloss: 0.485715\n",
      "[40]\ttraining's binary_logloss: 0.332246\tvalid_1's binary_logloss: 0.47724\n",
      "[50]\ttraining's binary_logloss: 0.309433\tvalid_1's binary_logloss: 0.480312\n",
      "Early stopping, best iteration is:\n",
      "[40]\ttraining's binary_logloss: 0.332246\tvalid_1's binary_logloss: 0.47724\n"
     ]
    }
   ],
   "source": [
    "study = optuna.create_study(sampler=optuna.samplers.RandomSampler(seed=0))\n",
    "study.optimize(objective, n_trials=40)"
   ]
  },
  {
   "cell_type": "code",
   "execution_count": 94,
   "metadata": {},
   "outputs": [
    {
     "data": {
      "text/plain": [
       "{'max_bin': 390, 'num_leaves': 101}"
      ]
     },
     "execution_count": 94,
     "metadata": {},
     "output_type": "execute_result"
    }
   ],
   "source": [
    "study.best_params"
   ]
  },
  {
   "cell_type": "code",
   "execution_count": 97,
   "metadata": {
    "collapsed": true,
    "jupyter": {
     "outputs_hidden": true
    },
    "tags": []
   },
   "outputs": [
    {
     "name": "stderr",
     "output_type": "stream",
     "text": [
      "/Users/m000732/opt/anaconda3/lib/python3.8/site-packages/lightgbm/basic.py:1551: UserWarning: Using categorical_feature in Dataset.\n",
      "  warnings.warn('Using categorical_feature in Dataset.')\n",
      "/Users/m000732/opt/anaconda3/lib/python3.8/site-packages/lightgbm/basic.py:1286: UserWarning: Overriding the parameters from Reference Dataset.\n",
      "  warnings.warn('Overriding the parameters from Reference Dataset.')\n",
      "/Users/m000732/opt/anaconda3/lib/python3.8/site-packages/lightgbm/basic.py:1098: UserWarning: categorical_column in param dict is overridden.\n",
      "  warnings.warn('{} in param dict is overridden.'.format(cat_alias))\n"
     ]
    },
    {
     "name": "stdout",
     "output_type": "stream",
     "text": [
      "[LightGBM] [Info] Number of positive: 267, number of negative: 443\n",
      "[LightGBM] [Warning] Auto-choosing row-wise multi-threading, the overhead of testing was 0.001357 seconds.\n",
      "You can set `force_row_wise=true` to remove the overhead.\n",
      "And if memory is not enough, you can set `force_col_wise=true`.\n",
      "[LightGBM] [Info] Total Bins 203\n",
      "[LightGBM] [Info] Number of data points in the train set: 710, number of used features: 7\n",
      "[LightGBM] [Info] [binary:BoostFromScore]: pavg=0.376056 -> initscore=-0.506321\n",
      "[LightGBM] [Info] Start training from score -0.506321\n",
      "[LightGBM] [Warning] No further splits with positive gain, best gain: -inf\n",
      "Training until validation scores don't improve for 10 rounds\n",
      "[LightGBM] [Warning] No further splits with positive gain, best gain: -inf\n",
      "[LightGBM] [Warning] No further splits with positive gain, best gain: -inf\n",
      "[LightGBM] [Warning] No further splits with positive gain, best gain: -inf\n",
      "[LightGBM] [Warning] No further splits with positive gain, best gain: -inf\n",
      "[LightGBM] [Warning] No further splits with positive gain, best gain: -inf\n",
      "[LightGBM] [Warning] No further splits with positive gain, best gain: -inf\n",
      "[LightGBM] [Warning] No further splits with positive gain, best gain: -inf\n",
      "[LightGBM] [Warning] No further splits with positive gain, best gain: -inf\n",
      "[LightGBM] [Warning] No further splits with positive gain, best gain: -inf\n",
      "[10]\ttraining's binary_logloss: 0.494743\tvalid_1's binary_logloss: 0.557074\n",
      "[LightGBM] [Warning] No further splits with positive gain, best gain: -inf\n",
      "[LightGBM] [Warning] No further splits with positive gain, best gain: -inf\n",
      "[LightGBM] [Warning] No further splits with positive gain, best gain: -inf\n",
      "[LightGBM] [Warning] No further splits with positive gain, best gain: -inf\n",
      "[LightGBM] [Warning] No further splits with positive gain, best gain: -inf\n",
      "[LightGBM] [Warning] No further splits with positive gain, best gain: -inf\n",
      "[LightGBM] [Warning] No further splits with positive gain, best gain: -inf\n",
      "[LightGBM] [Warning] No further splits with positive gain, best gain: -inf\n",
      "[LightGBM] [Warning] No further splits with positive gain, best gain: -inf\n",
      "[LightGBM] [Warning] No further splits with positive gain, best gain: -inf\n",
      "[20]\ttraining's binary_logloss: 0.415693\tvalid_1's binary_logloss: 0.511373\n",
      "[LightGBM] [Warning] No further splits with positive gain, best gain: -inf\n",
      "[LightGBM] [Warning] No further splits with positive gain, best gain: -inf\n",
      "[LightGBM] [Warning] No further splits with positive gain, best gain: -inf\n",
      "[LightGBM] [Warning] No further splits with positive gain, best gain: -inf\n",
      "[LightGBM] [Warning] No further splits with positive gain, best gain: -inf\n",
      "[LightGBM] [Warning] No further splits with positive gain, best gain: -inf\n",
      "[LightGBM] [Warning] No further splits with positive gain, best gain: -inf\n",
      "[LightGBM] [Warning] No further splits with positive gain, best gain: -inf\n",
      "[LightGBM] [Warning] No further splits with positive gain, best gain: -inf\n",
      "[LightGBM] [Warning] No further splits with positive gain, best gain: -inf\n",
      "[30]\ttraining's binary_logloss: 0.365135\tvalid_1's binary_logloss: 0.485715\n",
      "[LightGBM] [Warning] No further splits with positive gain, best gain: -inf\n",
      "[LightGBM] [Warning] No further splits with positive gain, best gain: -inf\n",
      "[LightGBM] [Warning] No further splits with positive gain, best gain: -inf\n",
      "[LightGBM] [Warning] No further splits with positive gain, best gain: -inf\n",
      "[LightGBM] [Warning] No further splits with positive gain, best gain: -inf\n",
      "[LightGBM] [Warning] No further splits with positive gain, best gain: -inf\n",
      "[LightGBM] [Warning] No further splits with positive gain, best gain: -inf\n",
      "[LightGBM] [Warning] No further splits with positive gain, best gain: -inf\n",
      "[LightGBM] [Warning] No further splits with positive gain, best gain: -inf\n",
      "[LightGBM] [Warning] No further splits with positive gain, best gain: -inf\n",
      "[40]\ttraining's binary_logloss: 0.332246\tvalid_1's binary_logloss: 0.47724\n",
      "[LightGBM] [Warning] No further splits with positive gain, best gain: -inf\n",
      "[LightGBM] [Warning] No further splits with positive gain, best gain: -inf\n",
      "[LightGBM] [Warning] No further splits with positive gain, best gain: -inf\n",
      "[LightGBM] [Warning] No further splits with positive gain, best gain: -inf\n",
      "[LightGBM] [Warning] No further splits with positive gain, best gain: -inf\n",
      "[LightGBM] [Warning] No further splits with positive gain, best gain: -inf\n",
      "[LightGBM] [Warning] No further splits with positive gain, best gain: -inf\n",
      "[LightGBM] [Warning] No further splits with positive gain, best gain: -inf\n",
      "[LightGBM] [Warning] No further splits with positive gain, best gain: -inf\n",
      "[LightGBM] [Warning] No further splits with positive gain, best gain: -inf\n",
      "[50]\ttraining's binary_logloss: 0.309433\tvalid_1's binary_logloss: 0.480312\n",
      "Early stopping, best iteration is:\n",
      "[40]\ttraining's binary_logloss: 0.332246\tvalid_1's binary_logloss: 0.47724\n"
     ]
    },
    {
     "data": {
      "text/plain": [
       "0.7821229050279329"
      ]
     },
     "execution_count": 97,
     "metadata": {},
     "output_type": "execute_result"
    }
   ],
   "source": [
    "params = {\n",
    "    'objective': 'binary',\n",
    "    'max_bin': 390,\n",
    "    'learning_rate': 0.05,\n",
    "    'num_leaves': 101\n",
    "}\n",
    "\n",
    "\n",
    "lgb_train = lgb.Dataset(X_train, y_train, categorical_feature=categorical_features)\n",
    "lgb_eval = lgb.Dataset(X_test, y_test,reference=lgb_train,categorical_feature=categorical_features)\n",
    "\n",
    "model = lgb.train(params, lgb_train,\n",
    "                  valid_sets=[lgb_train, lgb_eval],\n",
    "                  verbose_eval=10,\n",
    "                  num_boost_round=1000,\n",
    "                  early_stopping_rounds=10)\n",
    "\n",
    "y_pred = model.predict(X_test, num_iteration=model.best_iteration)\n",
    "y_pred = (y_pred > 0.5).astype(int)\n",
    "accuracy_score(y_test, y_pred)"
   ]
  },
  {
   "cell_type": "code",
   "execution_count": 113,
   "metadata": {},
   "outputs": [],
   "source": [
    "lgb_accuracies = []\n",
    "RMSEs = []\n",
    "gbm_max_acc_depth = 0\n",
    "gbm_max_acc = 0\n",
    "for i in range(20):\n",
    "    gbm = lgb.LGBMClassifier(\n",
    "        objective='binary',\n",
    "        max_depth= i + 1,\n",
    "        max_bin=390,\n",
    "        learning_rate=0.05,\n",
    "        num_leaves=101\n",
    "    )\n",
    "    gbm.fit(\n",
    "        X_train,\n",
    "        y_train,\n",
    "        eval_set = [(X_test, y_test)],\n",
    "        early_stopping_rounds=50,\n",
    "        verbose=False,\n",
    "    )\n",
    "    lgb_predicted = gbm.predict(X_test, num_iteration=gbm.best_iteration_)\n",
    "    gbm_acc = accuracy_score(y_test, lgb_predicted)\n",
    "    RMSE = np.sqrt(mean_squared_error(lgb_predicted, y_test))\n",
    "    RMSEs.append((i + 1, RMSE))\n",
    "    if gbm_max_acc < gbm_acc:\n",
    "        gbm_max_acc_depth = i + 1\n",
    "        gbm_max_acc = gbm_acc"
   ]
  },
  {
   "cell_type": "code",
   "execution_count": 114,
   "metadata": {},
   "outputs": [
    {
     "name": "stdout",
     "output_type": "stream",
     "text": [
      "Depth: 2, Accuracy: 0.7877094972067039\n"
     ]
    }
   ],
   "source": [
    "print('Depth: {}, Accuracy: {}'.format(gbm_max_acc_depth, gbm_max_acc))"
   ]
  },
  {
   "cell_type": "code",
   "execution_count": null,
   "metadata": {},
   "outputs": [],
   "source": []
  }
 ],
 "metadata": {
  "kernelspec": {
   "display_name": "Python 3",
   "language": "python",
   "name": "python3"
  },
  "language_info": {
   "codemirror_mode": {
    "name": "ipython",
    "version": 3
   },
   "file_extension": ".py",
   "mimetype": "text/x-python",
   "name": "python",
   "nbconvert_exporter": "python",
   "pygments_lexer": "ipython3",
   "version": "3.8.8"
  }
 },
 "nbformat": 4,
 "nbformat_minor": 4
}
