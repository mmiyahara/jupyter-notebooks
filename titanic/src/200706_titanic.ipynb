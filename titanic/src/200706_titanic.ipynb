{
 "cells": [
  {
   "cell_type": "code",
   "execution_count": 17,
   "metadata": {},
   "outputs": [],
   "source": [
    "import pandas as pd\n",
    "df = pd.read_csv('../data/train.csv')"
   ]
  },
  {
   "cell_type": "code",
   "execution_count": 3,
   "metadata": {},
   "outputs": [
    {
     "output_type": "execute_result",
     "data": {
      "text/plain": "       PassengerId    Survived      Pclass         Age       SibSp  \\\ncount   891.000000  891.000000  891.000000  714.000000  891.000000   \nmean    446.000000    0.383838    2.308642   29.699118    0.523008   \nstd     257.353842    0.486592    0.836071   14.526497    1.102743   \nmin       1.000000    0.000000    1.000000    0.420000    0.000000   \n25%     223.500000    0.000000    2.000000   20.125000    0.000000   \n50%     446.000000    0.000000    3.000000   28.000000    0.000000   \n75%     668.500000    1.000000    3.000000   38.000000    1.000000   \nmax     891.000000    1.000000    3.000000   80.000000    8.000000   \n\n            Parch        Fare  \ncount  891.000000  891.000000  \nmean     0.381594   32.204208  \nstd      0.806057   49.693429  \nmin      0.000000    0.000000  \n25%      0.000000    7.910400  \n50%      0.000000   14.454200  \n75%      0.000000   31.000000  \nmax      6.000000  512.329200  ",
      "text/html": "<div>\n<style scoped>\n    .dataframe tbody tr th:only-of-type {\n        vertical-align: middle;\n    }\n\n    .dataframe tbody tr th {\n        vertical-align: top;\n    }\n\n    .dataframe thead th {\n        text-align: right;\n    }\n</style>\n<table border=\"1\" class=\"dataframe\">\n  <thead>\n    <tr style=\"text-align: right;\">\n      <th></th>\n      <th>PassengerId</th>\n      <th>Survived</th>\n      <th>Pclass</th>\n      <th>Age</th>\n      <th>SibSp</th>\n      <th>Parch</th>\n      <th>Fare</th>\n    </tr>\n  </thead>\n  <tbody>\n    <tr>\n      <th>count</th>\n      <td>891.000000</td>\n      <td>891.000000</td>\n      <td>891.000000</td>\n      <td>714.000000</td>\n      <td>891.000000</td>\n      <td>891.000000</td>\n      <td>891.000000</td>\n    </tr>\n    <tr>\n      <th>mean</th>\n      <td>446.000000</td>\n      <td>0.383838</td>\n      <td>2.308642</td>\n      <td>29.699118</td>\n      <td>0.523008</td>\n      <td>0.381594</td>\n      <td>32.204208</td>\n    </tr>\n    <tr>\n      <th>std</th>\n      <td>257.353842</td>\n      <td>0.486592</td>\n      <td>0.836071</td>\n      <td>14.526497</td>\n      <td>1.102743</td>\n      <td>0.806057</td>\n      <td>49.693429</td>\n    </tr>\n    <tr>\n      <th>min</th>\n      <td>1.000000</td>\n      <td>0.000000</td>\n      <td>1.000000</td>\n      <td>0.420000</td>\n      <td>0.000000</td>\n      <td>0.000000</td>\n      <td>0.000000</td>\n    </tr>\n    <tr>\n      <th>25%</th>\n      <td>223.500000</td>\n      <td>0.000000</td>\n      <td>2.000000</td>\n      <td>20.125000</td>\n      <td>0.000000</td>\n      <td>0.000000</td>\n      <td>7.910400</td>\n    </tr>\n    <tr>\n      <th>50%</th>\n      <td>446.000000</td>\n      <td>0.000000</td>\n      <td>3.000000</td>\n      <td>28.000000</td>\n      <td>0.000000</td>\n      <td>0.000000</td>\n      <td>14.454200</td>\n    </tr>\n    <tr>\n      <th>75%</th>\n      <td>668.500000</td>\n      <td>1.000000</td>\n      <td>3.000000</td>\n      <td>38.000000</td>\n      <td>1.000000</td>\n      <td>0.000000</td>\n      <td>31.000000</td>\n    </tr>\n    <tr>\n      <th>max</th>\n      <td>891.000000</td>\n      <td>1.000000</td>\n      <td>3.000000</td>\n      <td>80.000000</td>\n      <td>8.000000</td>\n      <td>6.000000</td>\n      <td>512.329200</td>\n    </tr>\n  </tbody>\n</table>\n</div>"
     },
     "metadata": {},
     "execution_count": 3
    }
   ],
   "source": [
    "df.describe()"
   ]
  },
  {
   "cell_type": "code",
   "execution_count": 6,
   "metadata": {},
   "outputs": [
    {
     "output_type": "execute_result",
     "data": {
      "text/plain": "count    714.000000\nmean      29.699118\nstd       14.526497\nmin        0.420000\n25%       20.125000\n50%       28.000000\n75%       38.000000\nmax       80.000000\nName: Age, dtype: float64"
     },
     "metadata": {},
     "execution_count": 6
    }
   ],
   "source": [
    "df['Age'].describe()"
   ]
  },
  {
   "cell_type": "code",
   "execution_count": 8,
   "metadata": {},
   "outputs": [
    {
     "output_type": "execute_result",
     "data": {
      "text/plain": "714"
     },
     "metadata": {},
     "execution_count": 8
    }
   ],
   "source": [
    "df['Age'].count()"
   ]
  },
  {
   "cell_type": "code",
   "execution_count": 16,
   "metadata": {},
   "outputs": [
    {
     "output_type": "execute_result",
     "data": {
      "text/plain": "   PassengerId  Survived  Pclass  \\\n0            1         0       3   \n1            2         1       1   \n2            3         1       3   \n3            4         1       1   \n4            5         0       3   \n\n                                                Name     Sex   Age  SibSp  \\\n0                            Braund, Mr. Owen Harris    male  22.0      1   \n1  Cumings, Mrs. John Bradley (Florence Briggs Th...  female  38.0      1   \n2                             Heikkinen, Miss. Laina  female  26.0      0   \n3       Futrelle, Mrs. Jacques Heath (Lily May Peel)  female  35.0      1   \n4                           Allen, Mr. William Henry    male  35.0      0   \n\n   Parch            Ticket     Fare Cabin  Embarked  \n0      0         A/5 21171   7.2500   NaN       NaN  \n1      0          PC 17599  71.2833   C85       NaN  \n2      0  STON/O2. 3101282   7.9250   NaN       NaN  \n3      0            113803  53.1000  C123       NaN  \n4      0            373450   8.0500   NaN       NaN  ",
      "text/html": "<div>\n<style scoped>\n    .dataframe tbody tr th:only-of-type {\n        vertical-align: middle;\n    }\n\n    .dataframe tbody tr th {\n        vertical-align: top;\n    }\n\n    .dataframe thead th {\n        text-align: right;\n    }\n</style>\n<table border=\"1\" class=\"dataframe\">\n  <thead>\n    <tr style=\"text-align: right;\">\n      <th></th>\n      <th>PassengerId</th>\n      <th>Survived</th>\n      <th>Pclass</th>\n      <th>Name</th>\n      <th>Sex</th>\n      <th>Age</th>\n      <th>SibSp</th>\n      <th>Parch</th>\n      <th>Ticket</th>\n      <th>Fare</th>\n      <th>Cabin</th>\n      <th>Embarked</th>\n    </tr>\n  </thead>\n  <tbody>\n    <tr>\n      <th>0</th>\n      <td>1</td>\n      <td>0</td>\n      <td>3</td>\n      <td>Braund, Mr. Owen Harris</td>\n      <td>male</td>\n      <td>22.0</td>\n      <td>1</td>\n      <td>0</td>\n      <td>A/5 21171</td>\n      <td>7.2500</td>\n      <td>NaN</td>\n      <td>NaN</td>\n    </tr>\n    <tr>\n      <th>1</th>\n      <td>2</td>\n      <td>1</td>\n      <td>1</td>\n      <td>Cumings, Mrs. John Bradley (Florence Briggs Th...</td>\n      <td>female</td>\n      <td>38.0</td>\n      <td>1</td>\n      <td>0</td>\n      <td>PC 17599</td>\n      <td>71.2833</td>\n      <td>C85</td>\n      <td>NaN</td>\n    </tr>\n    <tr>\n      <th>2</th>\n      <td>3</td>\n      <td>1</td>\n      <td>3</td>\n      <td>Heikkinen, Miss. Laina</td>\n      <td>female</td>\n      <td>26.0</td>\n      <td>0</td>\n      <td>0</td>\n      <td>STON/O2. 3101282</td>\n      <td>7.9250</td>\n      <td>NaN</td>\n      <td>NaN</td>\n    </tr>\n    <tr>\n      <th>3</th>\n      <td>4</td>\n      <td>1</td>\n      <td>1</td>\n      <td>Futrelle, Mrs. Jacques Heath (Lily May Peel)</td>\n      <td>female</td>\n      <td>35.0</td>\n      <td>1</td>\n      <td>0</td>\n      <td>113803</td>\n      <td>53.1000</td>\n      <td>C123</td>\n      <td>NaN</td>\n    </tr>\n    <tr>\n      <th>4</th>\n      <td>5</td>\n      <td>0</td>\n      <td>3</td>\n      <td>Allen, Mr. William Henry</td>\n      <td>male</td>\n      <td>35.0</td>\n      <td>0</td>\n      <td>0</td>\n      <td>373450</td>\n      <td>8.0500</td>\n      <td>NaN</td>\n      <td>NaN</td>\n    </tr>\n  </tbody>\n</table>\n</div>"
     },
     "metadata": {},
     "execution_count": 16
    }
   ],
   "source": [
    "df[(20 < df['Age']) & (df['Age'] < 40)].head()"
   ]
  },
  {
   "cell_type": "code",
   "execution_count": 18,
   "metadata": {},
   "outputs": [
    {
     "output_type": "execute_result",
     "data": {
      "text/plain": "   PassengerId  Survived  Pclass  \\\n0            1         0       3   \n1            2         1       1   \n2            3         1       3   \n3            4         1       1   \n4            5         0       3   \n\n                                                Name     Sex   Age  SibSp  \\\n0                            Braund, Mr. Owen Harris    male  22.0      1   \n1  Cumings, Mrs. John Bradley (Florence Briggs Th...  female  38.0      1   \n2                             Heikkinen, Miss. Laina  female  26.0      0   \n3       Futrelle, Mrs. Jacques Heath (Lily May Peel)  female  35.0      1   \n4                           Allen, Mr. William Henry    male  35.0      0   \n\n   Parch            Ticket     Fare Cabin  Embarked  \n0      0         A/5 21171   7.2500   NaN       3.0  \n1      0          PC 17599  71.2833   C85       1.0  \n2      0  STON/O2. 3101282   7.9250   NaN       3.0  \n3      0            113803  53.1000  C123       3.0  \n4      0            373450   8.0500   NaN       3.0  ",
      "text/html": "<div>\n<style scoped>\n    .dataframe tbody tr th:only-of-type {\n        vertical-align: middle;\n    }\n\n    .dataframe tbody tr th {\n        vertical-align: top;\n    }\n\n    .dataframe thead th {\n        text-align: right;\n    }\n</style>\n<table border=\"1\" class=\"dataframe\">\n  <thead>\n    <tr style=\"text-align: right;\">\n      <th></th>\n      <th>PassengerId</th>\n      <th>Survived</th>\n      <th>Pclass</th>\n      <th>Name</th>\n      <th>Sex</th>\n      <th>Age</th>\n      <th>SibSp</th>\n      <th>Parch</th>\n      <th>Ticket</th>\n      <th>Fare</th>\n      <th>Cabin</th>\n      <th>Embarked</th>\n    </tr>\n  </thead>\n  <tbody>\n    <tr>\n      <th>0</th>\n      <td>1</td>\n      <td>0</td>\n      <td>3</td>\n      <td>Braund, Mr. Owen Harris</td>\n      <td>male</td>\n      <td>22.0</td>\n      <td>1</td>\n      <td>0</td>\n      <td>A/5 21171</td>\n      <td>7.2500</td>\n      <td>NaN</td>\n      <td>3.0</td>\n    </tr>\n    <tr>\n      <th>1</th>\n      <td>2</td>\n      <td>1</td>\n      <td>1</td>\n      <td>Cumings, Mrs. John Bradley (Florence Briggs Th...</td>\n      <td>female</td>\n      <td>38.0</td>\n      <td>1</td>\n      <td>0</td>\n      <td>PC 17599</td>\n      <td>71.2833</td>\n      <td>C85</td>\n      <td>1.0</td>\n    </tr>\n    <tr>\n      <th>2</th>\n      <td>3</td>\n      <td>1</td>\n      <td>3</td>\n      <td>Heikkinen, Miss. Laina</td>\n      <td>female</td>\n      <td>26.0</td>\n      <td>0</td>\n      <td>0</td>\n      <td>STON/O2. 3101282</td>\n      <td>7.9250</td>\n      <td>NaN</td>\n      <td>3.0</td>\n    </tr>\n    <tr>\n      <th>3</th>\n      <td>4</td>\n      <td>1</td>\n      <td>1</td>\n      <td>Futrelle, Mrs. Jacques Heath (Lily May Peel)</td>\n      <td>female</td>\n      <td>35.0</td>\n      <td>1</td>\n      <td>0</td>\n      <td>113803</td>\n      <td>53.1000</td>\n      <td>C123</td>\n      <td>3.0</td>\n    </tr>\n    <tr>\n      <th>4</th>\n      <td>5</td>\n      <td>0</td>\n      <td>3</td>\n      <td>Allen, Mr. William Henry</td>\n      <td>male</td>\n      <td>35.0</td>\n      <td>0</td>\n      <td>0</td>\n      <td>373450</td>\n      <td>8.0500</td>\n      <td>NaN</td>\n      <td>3.0</td>\n    </tr>\n  </tbody>\n</table>\n</div>"
     },
     "metadata": {},
     "execution_count": 18
    }
   ],
   "source": [
    "df['Embarked'] = df['Embarked'].map({'C': 1, 'Q': 2, 'S': 3})\n",
    "df.head()"
   ]
  },
  {
   "cell_type": "code",
   "execution_count": 19,
   "metadata": {},
   "outputs": [],
   "source": [
    "df['Sex'] = df['Sex'].map({'female': 0, 'male': 1})\n",
    "df = df.rename(columns={'Sex': 'Male'})"
   ]
  },
  {
   "cell_type": "code",
   "execution_count": 21,
   "metadata": {},
   "outputs": [
    {
     "output_type": "execute_result",
     "data": {
      "text/plain": "   PassengerId  Survived  Pclass  \\\n0            1         0       3   \n1            2         1       1   \n2            3         1       3   \n3            4         1       1   \n4            5         0       3   \n\n                                                Name  Male   Age  SibSp  \\\n0                            Braund, Mr. Owen Harris     1  22.0      1   \n1  Cumings, Mrs. John Bradley (Florence Briggs Th...     0  38.0      1   \n2                             Heikkinen, Miss. Laina     0  26.0      0   \n3       Futrelle, Mrs. Jacques Heath (Lily May Peel)     0  35.0      1   \n4                           Allen, Mr. William Henry     1  35.0      0   \n\n   Parch            Ticket     Fare Cabin  Embarked  \n0      0         A/5 21171   7.2500   NaN       3.0  \n1      0          PC 17599  71.2833   C85       1.0  \n2      0  STON/O2. 3101282   7.9250   NaN       3.0  \n3      0            113803  53.1000  C123       3.0  \n4      0            373450   8.0500   NaN       3.0  ",
      "text/html": "<div>\n<style scoped>\n    .dataframe tbody tr th:only-of-type {\n        vertical-align: middle;\n    }\n\n    .dataframe tbody tr th {\n        vertical-align: top;\n    }\n\n    .dataframe thead th {\n        text-align: right;\n    }\n</style>\n<table border=\"1\" class=\"dataframe\">\n  <thead>\n    <tr style=\"text-align: right;\">\n      <th></th>\n      <th>PassengerId</th>\n      <th>Survived</th>\n      <th>Pclass</th>\n      <th>Name</th>\n      <th>Male</th>\n      <th>Age</th>\n      <th>SibSp</th>\n      <th>Parch</th>\n      <th>Ticket</th>\n      <th>Fare</th>\n      <th>Cabin</th>\n      <th>Embarked</th>\n    </tr>\n  </thead>\n  <tbody>\n    <tr>\n      <th>0</th>\n      <td>1</td>\n      <td>0</td>\n      <td>3</td>\n      <td>Braund, Mr. Owen Harris</td>\n      <td>1</td>\n      <td>22.0</td>\n      <td>1</td>\n      <td>0</td>\n      <td>A/5 21171</td>\n      <td>7.2500</td>\n      <td>NaN</td>\n      <td>3.0</td>\n    </tr>\n    <tr>\n      <th>1</th>\n      <td>2</td>\n      <td>1</td>\n      <td>1</td>\n      <td>Cumings, Mrs. John Bradley (Florence Briggs Th...</td>\n      <td>0</td>\n      <td>38.0</td>\n      <td>1</td>\n      <td>0</td>\n      <td>PC 17599</td>\n      <td>71.2833</td>\n      <td>C85</td>\n      <td>1.0</td>\n    </tr>\n    <tr>\n      <th>2</th>\n      <td>3</td>\n      <td>1</td>\n      <td>3</td>\n      <td>Heikkinen, Miss. Laina</td>\n      <td>0</td>\n      <td>26.0</td>\n      <td>0</td>\n      <td>0</td>\n      <td>STON/O2. 3101282</td>\n      <td>7.9250</td>\n      <td>NaN</td>\n      <td>3.0</td>\n    </tr>\n    <tr>\n      <th>3</th>\n      <td>4</td>\n      <td>1</td>\n      <td>1</td>\n      <td>Futrelle, Mrs. Jacques Heath (Lily May Peel)</td>\n      <td>0</td>\n      <td>35.0</td>\n      <td>1</td>\n      <td>0</td>\n      <td>113803</td>\n      <td>53.1000</td>\n      <td>C123</td>\n      <td>3.0</td>\n    </tr>\n    <tr>\n      <th>4</th>\n      <td>5</td>\n      <td>0</td>\n      <td>3</td>\n      <td>Allen, Mr. William Henry</td>\n      <td>1</td>\n      <td>35.0</td>\n      <td>0</td>\n      <td>0</td>\n      <td>373450</td>\n      <td>8.0500</td>\n      <td>NaN</td>\n      <td>3.0</td>\n    </tr>\n  </tbody>\n</table>\n</div>"
     },
     "metadata": {},
     "execution_count": 21
    }
   ],
   "source": [
    "df.head()"
   ]
  },
  {
   "cell_type": "code",
   "execution_count": 23,
   "metadata": {},
   "outputs": [
    {
     "output_type": "execute_result",
     "data": {
      "text/plain": "PassengerId      0\nSurvived         0\nPclass           0\nName             0\nMale             0\nAge            177\nSibSp            0\nParch            0\nTicket           0\nFare             0\nCabin          687\nEmbarked         2\ndtype: int64"
     },
     "metadata": {},
     "execution_count": 23
    }
   ],
   "source": [
    "df.isnull().sum()"
   ]
  },
  {
   "cell_type": "code",
   "execution_count": 26,
   "metadata": {},
   "outputs": [
    {
     "output_type": "execute_result",
     "data": {
      "text/plain": "PassengerId    183\nSurvived       183\nPclass         183\nName           183\nMale           183\nAge            183\nSibSp          183\nParch          183\nTicket         183\nFare           183\nCabin          183\nEmbarked       183\ndtype: int64"
     },
     "metadata": {},
     "execution_count": 26
    }
   ],
   "source": [
    "df_dn = df.dropna()\n",
    "df_dn.count()"
   ]
  },
  {
   "cell_type": "code",
   "execution_count": 38,
   "metadata": {},
   "outputs": [
    {
     "output_type": "execute_result",
     "data": {
      "text/plain": "   Survived   Age\n0         0  22.0\n1         1  38.0\n2         1  26.0\n3         1  35.0\n4         0  35.0",
      "text/html": "<div>\n<style scoped>\n    .dataframe tbody tr th:only-of-type {\n        vertical-align: middle;\n    }\n\n    .dataframe tbody tr th {\n        vertical-align: top;\n    }\n\n    .dataframe thead th {\n        text-align: right;\n    }\n</style>\n<table border=\"1\" class=\"dataframe\">\n  <thead>\n    <tr style=\"text-align: right;\">\n      <th></th>\n      <th>Survived</th>\n      <th>Age</th>\n    </tr>\n  </thead>\n  <tbody>\n    <tr>\n      <th>0</th>\n      <td>0</td>\n      <td>22.0</td>\n    </tr>\n    <tr>\n      <th>1</th>\n      <td>1</td>\n      <td>38.0</td>\n    </tr>\n    <tr>\n      <th>2</th>\n      <td>1</td>\n      <td>26.0</td>\n    </tr>\n    <tr>\n      <th>3</th>\n      <td>1</td>\n      <td>35.0</td>\n    </tr>\n    <tr>\n      <th>4</th>\n      <td>0</td>\n      <td>35.0</td>\n    </tr>\n  </tbody>\n</table>\n</div>"
     },
     "metadata": {},
     "execution_count": 38
    }
   ],
   "source": [
    "df[['Survived', 'Age']].head()"
   ]
  },
  {
   "cell_type": "code",
   "execution_count": 40,
   "metadata": {},
   "outputs": [
    {
     "output_type": "execute_result",
     "data": {
      "text/plain": "   PassengerId  Survived  Pclass  \\\n0            1         0       3   \n1            2         1       1   \n2            3         1       3   \n3            4         1       1   \n4            5         0       3   \n\n                                                Name  Male   Age  SibSp  \\\n0                            Braund, Mr. Owen Harris     1  22.0      1   \n1  Cumings, Mrs. John Bradley (Florence Briggs Th...     0  38.0      1   \n2                             Heikkinen, Miss. Laina     0  26.0      0   \n3       Futrelle, Mrs. Jacques Heath (Lily May Peel)     0  35.0      1   \n4                           Allen, Mr. William Henry     1  35.0      0   \n\n   Parch            Ticket     Fare  Embarked  \n0      0         A/5 21171   7.2500       3.0  \n1      0          PC 17599  71.2833       1.0  \n2      0  STON/O2. 3101282   7.9250       3.0  \n3      0            113803  53.1000       3.0  \n4      0            373450   8.0500       3.0  ",
      "text/html": "<div>\n<style scoped>\n    .dataframe tbody tr th:only-of-type {\n        vertical-align: middle;\n    }\n\n    .dataframe tbody tr th {\n        vertical-align: top;\n    }\n\n    .dataframe thead th {\n        text-align: right;\n    }\n</style>\n<table border=\"1\" class=\"dataframe\">\n  <thead>\n    <tr style=\"text-align: right;\">\n      <th></th>\n      <th>PassengerId</th>\n      <th>Survived</th>\n      <th>Pclass</th>\n      <th>Name</th>\n      <th>Male</th>\n      <th>Age</th>\n      <th>SibSp</th>\n      <th>Parch</th>\n      <th>Ticket</th>\n      <th>Fare</th>\n      <th>Embarked</th>\n    </tr>\n  </thead>\n  <tbody>\n    <tr>\n      <th>0</th>\n      <td>1</td>\n      <td>0</td>\n      <td>3</td>\n      <td>Braund, Mr. Owen Harris</td>\n      <td>1</td>\n      <td>22.0</td>\n      <td>1</td>\n      <td>0</td>\n      <td>A/5 21171</td>\n      <td>7.2500</td>\n      <td>3.0</td>\n    </tr>\n    <tr>\n      <th>1</th>\n      <td>2</td>\n      <td>1</td>\n      <td>1</td>\n      <td>Cumings, Mrs. John Bradley (Florence Briggs Th...</td>\n      <td>0</td>\n      <td>38.0</td>\n      <td>1</td>\n      <td>0</td>\n      <td>PC 17599</td>\n      <td>71.2833</td>\n      <td>1.0</td>\n    </tr>\n    <tr>\n      <th>2</th>\n      <td>3</td>\n      <td>1</td>\n      <td>3</td>\n      <td>Heikkinen, Miss. Laina</td>\n      <td>0</td>\n      <td>26.0</td>\n      <td>0</td>\n      <td>0</td>\n      <td>STON/O2. 3101282</td>\n      <td>7.9250</td>\n      <td>3.0</td>\n    </tr>\n    <tr>\n      <th>3</th>\n      <td>4</td>\n      <td>1</td>\n      <td>1</td>\n      <td>Futrelle, Mrs. Jacques Heath (Lily May Peel)</td>\n      <td>0</td>\n      <td>35.0</td>\n      <td>1</td>\n      <td>0</td>\n      <td>113803</td>\n      <td>53.1000</td>\n      <td>3.0</td>\n    </tr>\n    <tr>\n      <th>4</th>\n      <td>5</td>\n      <td>0</td>\n      <td>3</td>\n      <td>Allen, Mr. William Henry</td>\n      <td>1</td>\n      <td>35.0</td>\n      <td>0</td>\n      <td>0</td>\n      <td>373450</td>\n      <td>8.0500</td>\n      <td>3.0</td>\n    </tr>\n  </tbody>\n</table>\n</div>"
     },
     "metadata": {},
     "execution_count": 40
    }
   ],
   "source": [
    "df_dn = df.drop('Cabin', axis='columns')\n",
    "df_dn.head()"
   ]
  },
  {
   "cell_type": "code",
   "execution_count": 54,
   "metadata": {},
   "outputs": [
    {
     "output_type": "execute_result",
     "data": {
      "text/plain": "   PassengerId  Survived  Pclass  \\\n0            1         0       3   \n1            2         1       1   \n2            3         1       3   \n3            4         1       1   \n4            5         0       3   \n\n                                                Name  Male   Age  SibSp  \\\n0                            Braund, Mr. Owen Harris     1  22.0      1   \n1  Cumings, Mrs. John Bradley (Florence Briggs Th...     0  38.0      1   \n2                             Heikkinen, Miss. Laina     0  26.0      0   \n3       Futrelle, Mrs. Jacques Heath (Lily May Peel)     0  35.0      1   \n4                           Allen, Mr. William Henry     1  35.0      0   \n\n   Parch            Ticket     Fare Cabin  Embarked Title  AgeMean  \n0      0         A/5 21171   7.2500   NaN       3.0    Mr      NaN  \n1      0          PC 17599  71.2833   C85       1.0   Mrs      NaN  \n2      0  STON/O2. 3101282   7.9250   NaN       3.0  Miss      NaN  \n3      0            113803  53.1000  C123       3.0   Mrs      NaN  \n4      0            373450   8.0500   NaN       3.0    Mr      NaN  ",
      "text/html": "<div>\n<style scoped>\n    .dataframe tbody tr th:only-of-type {\n        vertical-align: middle;\n    }\n\n    .dataframe tbody tr th {\n        vertical-align: top;\n    }\n\n    .dataframe thead th {\n        text-align: right;\n    }\n</style>\n<table border=\"1\" class=\"dataframe\">\n  <thead>\n    <tr style=\"text-align: right;\">\n      <th></th>\n      <th>PassengerId</th>\n      <th>Survived</th>\n      <th>Pclass</th>\n      <th>Name</th>\n      <th>Male</th>\n      <th>Age</th>\n      <th>SibSp</th>\n      <th>Parch</th>\n      <th>Ticket</th>\n      <th>Fare</th>\n      <th>Cabin</th>\n      <th>Embarked</th>\n      <th>Title</th>\n      <th>AgeMean</th>\n    </tr>\n  </thead>\n  <tbody>\n    <tr>\n      <th>0</th>\n      <td>1</td>\n      <td>0</td>\n      <td>3</td>\n      <td>Braund, Mr. Owen Harris</td>\n      <td>1</td>\n      <td>22.0</td>\n      <td>1</td>\n      <td>0</td>\n      <td>A/5 21171</td>\n      <td>7.2500</td>\n      <td>NaN</td>\n      <td>3.0</td>\n      <td>Mr</td>\n      <td>NaN</td>\n    </tr>\n    <tr>\n      <th>1</th>\n      <td>2</td>\n      <td>1</td>\n      <td>1</td>\n      <td>Cumings, Mrs. John Bradley (Florence Briggs Th...</td>\n      <td>0</td>\n      <td>38.0</td>\n      <td>1</td>\n      <td>0</td>\n      <td>PC 17599</td>\n      <td>71.2833</td>\n      <td>C85</td>\n      <td>1.0</td>\n      <td>Mrs</td>\n      <td>NaN</td>\n    </tr>\n    <tr>\n      <th>2</th>\n      <td>3</td>\n      <td>1</td>\n      <td>3</td>\n      <td>Heikkinen, Miss. Laina</td>\n      <td>0</td>\n      <td>26.0</td>\n      <td>0</td>\n      <td>0</td>\n      <td>STON/O2. 3101282</td>\n      <td>7.9250</td>\n      <td>NaN</td>\n      <td>3.0</td>\n      <td>Miss</td>\n      <td>NaN</td>\n    </tr>\n    <tr>\n      <th>3</th>\n      <td>4</td>\n      <td>1</td>\n      <td>1</td>\n      <td>Futrelle, Mrs. Jacques Heath (Lily May Peel)</td>\n      <td>0</td>\n      <td>35.0</td>\n      <td>1</td>\n      <td>0</td>\n      <td>113803</td>\n      <td>53.1000</td>\n      <td>C123</td>\n      <td>3.0</td>\n      <td>Mrs</td>\n      <td>NaN</td>\n    </tr>\n    <tr>\n      <th>4</th>\n      <td>5</td>\n      <td>0</td>\n      <td>3</td>\n      <td>Allen, Mr. William Henry</td>\n      <td>1</td>\n      <td>35.0</td>\n      <td>0</td>\n      <td>0</td>\n      <td>373450</td>\n      <td>8.0500</td>\n      <td>NaN</td>\n      <td>3.0</td>\n      <td>Mr</td>\n      <td>NaN</td>\n    </tr>\n  </tbody>\n</table>\n</div>"
     },
     "metadata": {},
     "execution_count": 54
    }
   ],
   "source": [
    "import re\n",
    "\n",
    "# 敬称を抽出する関数\n",
    "def getTitle(row):\n",
    "    name = row['Name']\n",
    "    p = re.compile('.*\\ (.*)\\.\\ .*')\n",
    "    surname = p.search(name)\n",
    "    return surname.group(1)\n",
    "\n",
    "df['Title'] = df.apply(getTitle, axis='columns')\n",
    "df.head()"
   ]
  },
  {
   "cell_type": "code",
   "execution_count": 57,
   "metadata": {},
   "outputs": [
    {
     "output_type": "execute_result",
     "data": {
      "text/plain": "Title\nCapt        70.000000\nCol         58.000000\nCountess    33.000000\nDon         40.000000\nDr          42.000000\nJonkheer    38.000000\nL           54.000000\nLady        48.000000\nMajor       48.500000\nMaster       4.574167\nMiss        21.773973\nMlle        24.000000\nMme         24.000000\nMr          32.368090\nMrs         35.728972\nMs          28.000000\nRev         43.166667\nSir         49.000000\nName: Age, dtype: float64"
     },
     "metadata": {},
     "execution_count": 57
    }
   ],
   "source": [
    "# 敬称ごとの平均年齢を求める\n",
    "df.groupby('Title').mean()['Age']"
   ]
  },
  {
   "cell_type": "code",
   "execution_count": 59,
   "metadata": {},
   "outputs": [
    {
     "output_type": "execute_result",
     "data": {
      "text/plain": "     PassengerId  Survived  Pclass                                      Name  \\\n803          804         1       3           Thomas, Master. Assad Alexander   \n755          756         1       2                 Hamalainen, Master. Viljo   \n644          645         1       3                    Baclini, Miss. Eugenie   \n469          470         1       3             Baclini, Miss. Helene Barbara   \n78            79         1       2             Caldwell, Master. Alden Gates   \n..           ...       ...     ...                                       ...   \n859          860         0       3                          Razi, Mr. Raihed   \n863          864         0       3         Sage, Miss. Dorothy Edith \"Dolly\"   \n868          869         0       3               van Melkebeke, Mr. Philemon   \n878          879         0       3                        Laleff, Mr. Kristo   \n888          889         0       3  Johnston, Miss. Catherine Helen \"Carrie\"   \n\n     Male   Age  SibSp  Parch      Ticket     Fare Cabin  Embarked   Title  \\\n803     1  0.42      0      1        2625   8.5167   NaN       1.0  Master   \n755     1  0.67      1      1      250649  14.5000   NaN       3.0  Master   \n644     0  0.75      2      1        2666  19.2583   NaN       1.0    Miss   \n469     0  0.75      2      1        2666  19.2583   NaN       1.0    Miss   \n78      1  0.83      0      2      248738  29.0000   NaN       3.0  Master   \n..    ...   ...    ...    ...         ...      ...   ...       ...     ...   \n859     1   NaN      0      0        2629   7.2292   NaN       1.0      Mr   \n863     0   NaN      8      2    CA. 2343  69.5500   NaN       3.0    Miss   \n868     1   NaN      0      0      345777   9.5000   NaN       3.0      Mr   \n878     1   NaN      0      0      349217   7.8958   NaN       3.0      Mr   \n888     0   NaN      1      2  W./C. 6607  23.4500   NaN       3.0    Miss   \n\n     AgeMean  \n803      NaN  \n755      NaN  \n644      NaN  \n469      NaN  \n78       NaN  \n..       ...  \n859      NaN  \n863      NaN  \n868      NaN  \n878      NaN  \n888      NaN  \n\n[891 rows x 14 columns]",
      "text/html": "<div>\n<style scoped>\n    .dataframe tbody tr th:only-of-type {\n        vertical-align: middle;\n    }\n\n    .dataframe tbody tr th {\n        vertical-align: top;\n    }\n\n    .dataframe thead th {\n        text-align: right;\n    }\n</style>\n<table border=\"1\" class=\"dataframe\">\n  <thead>\n    <tr style=\"text-align: right;\">\n      <th></th>\n      <th>PassengerId</th>\n      <th>Survived</th>\n      <th>Pclass</th>\n      <th>Name</th>\n      <th>Male</th>\n      <th>Age</th>\n      <th>SibSp</th>\n      <th>Parch</th>\n      <th>Ticket</th>\n      <th>Fare</th>\n      <th>Cabin</th>\n      <th>Embarked</th>\n      <th>Title</th>\n      <th>AgeMean</th>\n    </tr>\n  </thead>\n  <tbody>\n    <tr>\n      <th>803</th>\n      <td>804</td>\n      <td>1</td>\n      <td>3</td>\n      <td>Thomas, Master. Assad Alexander</td>\n      <td>1</td>\n      <td>0.42</td>\n      <td>0</td>\n      <td>1</td>\n      <td>2625</td>\n      <td>8.5167</td>\n      <td>NaN</td>\n      <td>1.0</td>\n      <td>Master</td>\n      <td>NaN</td>\n    </tr>\n    <tr>\n      <th>755</th>\n      <td>756</td>\n      <td>1</td>\n      <td>2</td>\n      <td>Hamalainen, Master. Viljo</td>\n      <td>1</td>\n      <td>0.67</td>\n      <td>1</td>\n      <td>1</td>\n      <td>250649</td>\n      <td>14.5000</td>\n      <td>NaN</td>\n      <td>3.0</td>\n      <td>Master</td>\n      <td>NaN</td>\n    </tr>\n    <tr>\n      <th>644</th>\n      <td>645</td>\n      <td>1</td>\n      <td>3</td>\n      <td>Baclini, Miss. Eugenie</td>\n      <td>0</td>\n      <td>0.75</td>\n      <td>2</td>\n      <td>1</td>\n      <td>2666</td>\n      <td>19.2583</td>\n      <td>NaN</td>\n      <td>1.0</td>\n      <td>Miss</td>\n      <td>NaN</td>\n    </tr>\n    <tr>\n      <th>469</th>\n      <td>470</td>\n      <td>1</td>\n      <td>3</td>\n      <td>Baclini, Miss. Helene Barbara</td>\n      <td>0</td>\n      <td>0.75</td>\n      <td>2</td>\n      <td>1</td>\n      <td>2666</td>\n      <td>19.2583</td>\n      <td>NaN</td>\n      <td>1.0</td>\n      <td>Miss</td>\n      <td>NaN</td>\n    </tr>\n    <tr>\n      <th>78</th>\n      <td>79</td>\n      <td>1</td>\n      <td>2</td>\n      <td>Caldwell, Master. Alden Gates</td>\n      <td>1</td>\n      <td>0.83</td>\n      <td>0</td>\n      <td>2</td>\n      <td>248738</td>\n      <td>29.0000</td>\n      <td>NaN</td>\n      <td>3.0</td>\n      <td>Master</td>\n      <td>NaN</td>\n    </tr>\n    <tr>\n      <th>...</th>\n      <td>...</td>\n      <td>...</td>\n      <td>...</td>\n      <td>...</td>\n      <td>...</td>\n      <td>...</td>\n      <td>...</td>\n      <td>...</td>\n      <td>...</td>\n      <td>...</td>\n      <td>...</td>\n      <td>...</td>\n      <td>...</td>\n      <td>...</td>\n    </tr>\n    <tr>\n      <th>859</th>\n      <td>860</td>\n      <td>0</td>\n      <td>3</td>\n      <td>Razi, Mr. Raihed</td>\n      <td>1</td>\n      <td>NaN</td>\n      <td>0</td>\n      <td>0</td>\n      <td>2629</td>\n      <td>7.2292</td>\n      <td>NaN</td>\n      <td>1.0</td>\n      <td>Mr</td>\n      <td>NaN</td>\n    </tr>\n    <tr>\n      <th>863</th>\n      <td>864</td>\n      <td>0</td>\n      <td>3</td>\n      <td>Sage, Miss. Dorothy Edith \"Dolly\"</td>\n      <td>0</td>\n      <td>NaN</td>\n      <td>8</td>\n      <td>2</td>\n      <td>CA. 2343</td>\n      <td>69.5500</td>\n      <td>NaN</td>\n      <td>3.0</td>\n      <td>Miss</td>\n      <td>NaN</td>\n    </tr>\n    <tr>\n      <th>868</th>\n      <td>869</td>\n      <td>0</td>\n      <td>3</td>\n      <td>van Melkebeke, Mr. Philemon</td>\n      <td>1</td>\n      <td>NaN</td>\n      <td>0</td>\n      <td>0</td>\n      <td>345777</td>\n      <td>9.5000</td>\n      <td>NaN</td>\n      <td>3.0</td>\n      <td>Mr</td>\n      <td>NaN</td>\n    </tr>\n    <tr>\n      <th>878</th>\n      <td>879</td>\n      <td>0</td>\n      <td>3</td>\n      <td>Laleff, Mr. Kristo</td>\n      <td>1</td>\n      <td>NaN</td>\n      <td>0</td>\n      <td>0</td>\n      <td>349217</td>\n      <td>7.8958</td>\n      <td>NaN</td>\n      <td>3.0</td>\n      <td>Mr</td>\n      <td>NaN</td>\n    </tr>\n    <tr>\n      <th>888</th>\n      <td>889</td>\n      <td>0</td>\n      <td>3</td>\n      <td>Johnston, Miss. Catherine Helen \"Carrie\"</td>\n      <td>0</td>\n      <td>NaN</td>\n      <td>1</td>\n      <td>2</td>\n      <td>W./C. 6607</td>\n      <td>23.4500</td>\n      <td>NaN</td>\n      <td>3.0</td>\n      <td>Miss</td>\n      <td>NaN</td>\n    </tr>\n  </tbody>\n</table>\n<p>891 rows × 14 columns</p>\n</div>"
     },
     "metadata": {},
     "execution_count": 59
    }
   ],
   "source": [
    "df.sort_values(by='Age')"
   ]
  },
  {
   "cell_type": "code",
   "execution_count": 61,
   "metadata": {},
   "outputs": [
    {
     "output_type": "execute_result",
     "data": {
      "text/plain": "array([0, 1], dtype=int64)"
     },
     "metadata": {},
     "execution_count": 61
    }
   ],
   "source": [
    "df['Survived'].unique()"
   ]
  },
  {
   "cell_type": "code",
   "execution_count": 64,
   "metadata": {},
   "outputs": [
    {
     "output_type": "execute_result",
     "data": {
      "text/plain": "     PassengerId  Survived  Pclass  \\\n149          150         0       2   \n151          152         1       1   \n159          160         0       3   \n186          187         1       3   \n252          253         0       1   \n260          261         0       3   \n336          337         0       1   \n347          348         1       3   \n364          365         0       3   \n372          373         0       3   \n415          416         0       3   \n560          561         0       3   \n670          671         1       2   \n679          680         1       1   \n684          685         0       2   \n758          759         0       3   \n778          779         0       3   \n803          804         1       3   \n806          807         0       1   \n828          829         1       3   \n841          842         0       2   \n879          880         1       1   \n\n                                                  Name  Male    Age  SibSp  \\\n149                  Byles, Rev. Thomas Roussel Davids     1  42.00      0   \n151                  Pears, Mrs. Thomas (Edith Wearne)     0  22.00      1   \n159                         Sage, Master. Thomas Henry     1    NaN      8   \n186    O'Brien, Mrs. Thomas (Johanna \"Hannah\" Godfrey)     0    NaN      1   \n252                          Stead, Mr. William Thomas     1  62.00      0   \n260                                  Smith, Mr. Thomas     1    NaN      0   \n336                          Pears, Mr. Thomas Clinton     1  29.00      1   \n347          Davison, Mrs. Thomas Henry (Mary E Finck)     0    NaN      1   \n364                                O'Brien, Mr. Thomas     1    NaN      1   \n372                         Beavan, Mr. William Thomas     1  19.00      0   \n415            Meek, Mrs. Thomas (Annie Louise Rowley)     0    NaN      0   \n560                           Morrow, Mr. Thomas Rowan     1    NaN      0   \n670  Brown, Mrs. Thomas William Solomon (Elizabeth ...     0  40.00      1   \n679                 Cardeza, Mr. Thomas Drake Martinez     1  36.00      0   \n684                  Brown, Mr. Thomas William Solomon     1  60.00      1   \n758                       Theobald, Mr. Thomas Leonard     1  34.00      0   \n778                            Kilgannon, Mr. Thomas J     1    NaN      0   \n803                    Thomas, Master. Assad Alexander     1   0.42      0   \n806                             Andrews, Mr. Thomas Jr     1  39.00      0   \n828                       McCormack, Mr. Thomas Joseph     1    NaN      0   \n841                           Mudd, Mr. Thomas Charles     1  16.00      0   \n879      Potter, Mrs. Thomas Jr (Lily Alexenia Wilson)     0  56.00      0   \n\n     Parch       Ticket      Fare        Cabin  Embarked   Title  AgeMean  \n149      0       244310   13.0000          NaN       3.0     Rev      NaN  \n151      0       113776   66.6000           C2       3.0     Mrs      NaN  \n159      2     CA. 2343   69.5500          NaN       3.0  Master      NaN  \n186      0       370365   15.5000          NaN       2.0     Mrs      NaN  \n252      0       113514   26.5500          C87       3.0      Mr      NaN  \n260      0       384461    7.7500          NaN       2.0      Mr      NaN  \n336      0       113776   66.6000           C2       3.0      Mr      NaN  \n347      0       386525   16.1000          NaN       3.0     Mrs      NaN  \n364      0       370365   15.5000          NaN       2.0      Mr      NaN  \n372      0       323951    8.0500          NaN       3.0      Mr      NaN  \n415      0       343095    8.0500          NaN       3.0     Mrs      NaN  \n560      0       372622    7.7500          NaN       2.0      Mr      NaN  \n670      1        29750   39.0000          NaN       3.0     Mrs      NaN  \n679      1     PC 17755  512.3292  B51 B53 B55       1.0      Mr      NaN  \n684      1        29750   39.0000          NaN       3.0      Mr      NaN  \n758      0       363294    8.0500          NaN       3.0      Mr      NaN  \n778      0        36865    7.7375          NaN       2.0      Mr      NaN  \n803      1         2625    8.5167          NaN       1.0  Master      NaN  \n806      0       112050    0.0000          A36       3.0      Mr      NaN  \n828      0       367228    7.7500          NaN       2.0      Mr      NaN  \n841      0  S.O./P.P. 3   10.5000          NaN       3.0      Mr      NaN  \n879      1        11767   83.1583          C50       1.0     Mrs      NaN  ",
      "text/html": "<div>\n<style scoped>\n    .dataframe tbody tr th:only-of-type {\n        vertical-align: middle;\n    }\n\n    .dataframe tbody tr th {\n        vertical-align: top;\n    }\n\n    .dataframe thead th {\n        text-align: right;\n    }\n</style>\n<table border=\"1\" class=\"dataframe\">\n  <thead>\n    <tr style=\"text-align: right;\">\n      <th></th>\n      <th>PassengerId</th>\n      <th>Survived</th>\n      <th>Pclass</th>\n      <th>Name</th>\n      <th>Male</th>\n      <th>Age</th>\n      <th>SibSp</th>\n      <th>Parch</th>\n      <th>Ticket</th>\n      <th>Fare</th>\n      <th>Cabin</th>\n      <th>Embarked</th>\n      <th>Title</th>\n      <th>AgeMean</th>\n    </tr>\n  </thead>\n  <tbody>\n    <tr>\n      <th>149</th>\n      <td>150</td>\n      <td>0</td>\n      <td>2</td>\n      <td>Byles, Rev. Thomas Roussel Davids</td>\n      <td>1</td>\n      <td>42.00</td>\n      <td>0</td>\n      <td>0</td>\n      <td>244310</td>\n      <td>13.0000</td>\n      <td>NaN</td>\n      <td>3.0</td>\n      <td>Rev</td>\n      <td>NaN</td>\n    </tr>\n    <tr>\n      <th>151</th>\n      <td>152</td>\n      <td>1</td>\n      <td>1</td>\n      <td>Pears, Mrs. Thomas (Edith Wearne)</td>\n      <td>0</td>\n      <td>22.00</td>\n      <td>1</td>\n      <td>0</td>\n      <td>113776</td>\n      <td>66.6000</td>\n      <td>C2</td>\n      <td>3.0</td>\n      <td>Mrs</td>\n      <td>NaN</td>\n    </tr>\n    <tr>\n      <th>159</th>\n      <td>160</td>\n      <td>0</td>\n      <td>3</td>\n      <td>Sage, Master. Thomas Henry</td>\n      <td>1</td>\n      <td>NaN</td>\n      <td>8</td>\n      <td>2</td>\n      <td>CA. 2343</td>\n      <td>69.5500</td>\n      <td>NaN</td>\n      <td>3.0</td>\n      <td>Master</td>\n      <td>NaN</td>\n    </tr>\n    <tr>\n      <th>186</th>\n      <td>187</td>\n      <td>1</td>\n      <td>3</td>\n      <td>O'Brien, Mrs. Thomas (Johanna \"Hannah\" Godfrey)</td>\n      <td>0</td>\n      <td>NaN</td>\n      <td>1</td>\n      <td>0</td>\n      <td>370365</td>\n      <td>15.5000</td>\n      <td>NaN</td>\n      <td>2.0</td>\n      <td>Mrs</td>\n      <td>NaN</td>\n    </tr>\n    <tr>\n      <th>252</th>\n      <td>253</td>\n      <td>0</td>\n      <td>1</td>\n      <td>Stead, Mr. William Thomas</td>\n      <td>1</td>\n      <td>62.00</td>\n      <td>0</td>\n      <td>0</td>\n      <td>113514</td>\n      <td>26.5500</td>\n      <td>C87</td>\n      <td>3.0</td>\n      <td>Mr</td>\n      <td>NaN</td>\n    </tr>\n    <tr>\n      <th>260</th>\n      <td>261</td>\n      <td>0</td>\n      <td>3</td>\n      <td>Smith, Mr. Thomas</td>\n      <td>1</td>\n      <td>NaN</td>\n      <td>0</td>\n      <td>0</td>\n      <td>384461</td>\n      <td>7.7500</td>\n      <td>NaN</td>\n      <td>2.0</td>\n      <td>Mr</td>\n      <td>NaN</td>\n    </tr>\n    <tr>\n      <th>336</th>\n      <td>337</td>\n      <td>0</td>\n      <td>1</td>\n      <td>Pears, Mr. Thomas Clinton</td>\n      <td>1</td>\n      <td>29.00</td>\n      <td>1</td>\n      <td>0</td>\n      <td>113776</td>\n      <td>66.6000</td>\n      <td>C2</td>\n      <td>3.0</td>\n      <td>Mr</td>\n      <td>NaN</td>\n    </tr>\n    <tr>\n      <th>347</th>\n      <td>348</td>\n      <td>1</td>\n      <td>3</td>\n      <td>Davison, Mrs. Thomas Henry (Mary E Finck)</td>\n      <td>0</td>\n      <td>NaN</td>\n      <td>1</td>\n      <td>0</td>\n      <td>386525</td>\n      <td>16.1000</td>\n      <td>NaN</td>\n      <td>3.0</td>\n      <td>Mrs</td>\n      <td>NaN</td>\n    </tr>\n    <tr>\n      <th>364</th>\n      <td>365</td>\n      <td>0</td>\n      <td>3</td>\n      <td>O'Brien, Mr. Thomas</td>\n      <td>1</td>\n      <td>NaN</td>\n      <td>1</td>\n      <td>0</td>\n      <td>370365</td>\n      <td>15.5000</td>\n      <td>NaN</td>\n      <td>2.0</td>\n      <td>Mr</td>\n      <td>NaN</td>\n    </tr>\n    <tr>\n      <th>372</th>\n      <td>373</td>\n      <td>0</td>\n      <td>3</td>\n      <td>Beavan, Mr. William Thomas</td>\n      <td>1</td>\n      <td>19.00</td>\n      <td>0</td>\n      <td>0</td>\n      <td>323951</td>\n      <td>8.0500</td>\n      <td>NaN</td>\n      <td>3.0</td>\n      <td>Mr</td>\n      <td>NaN</td>\n    </tr>\n    <tr>\n      <th>415</th>\n      <td>416</td>\n      <td>0</td>\n      <td>3</td>\n      <td>Meek, Mrs. Thomas (Annie Louise Rowley)</td>\n      <td>0</td>\n      <td>NaN</td>\n      <td>0</td>\n      <td>0</td>\n      <td>343095</td>\n      <td>8.0500</td>\n      <td>NaN</td>\n      <td>3.0</td>\n      <td>Mrs</td>\n      <td>NaN</td>\n    </tr>\n    <tr>\n      <th>560</th>\n      <td>561</td>\n      <td>0</td>\n      <td>3</td>\n      <td>Morrow, Mr. Thomas Rowan</td>\n      <td>1</td>\n      <td>NaN</td>\n      <td>0</td>\n      <td>0</td>\n      <td>372622</td>\n      <td>7.7500</td>\n      <td>NaN</td>\n      <td>2.0</td>\n      <td>Mr</td>\n      <td>NaN</td>\n    </tr>\n    <tr>\n      <th>670</th>\n      <td>671</td>\n      <td>1</td>\n      <td>2</td>\n      <td>Brown, Mrs. Thomas William Solomon (Elizabeth ...</td>\n      <td>0</td>\n      <td>40.00</td>\n      <td>1</td>\n      <td>1</td>\n      <td>29750</td>\n      <td>39.0000</td>\n      <td>NaN</td>\n      <td>3.0</td>\n      <td>Mrs</td>\n      <td>NaN</td>\n    </tr>\n    <tr>\n      <th>679</th>\n      <td>680</td>\n      <td>1</td>\n      <td>1</td>\n      <td>Cardeza, Mr. Thomas Drake Martinez</td>\n      <td>1</td>\n      <td>36.00</td>\n      <td>0</td>\n      <td>1</td>\n      <td>PC 17755</td>\n      <td>512.3292</td>\n      <td>B51 B53 B55</td>\n      <td>1.0</td>\n      <td>Mr</td>\n      <td>NaN</td>\n    </tr>\n    <tr>\n      <th>684</th>\n      <td>685</td>\n      <td>0</td>\n      <td>2</td>\n      <td>Brown, Mr. Thomas William Solomon</td>\n      <td>1</td>\n      <td>60.00</td>\n      <td>1</td>\n      <td>1</td>\n      <td>29750</td>\n      <td>39.0000</td>\n      <td>NaN</td>\n      <td>3.0</td>\n      <td>Mr</td>\n      <td>NaN</td>\n    </tr>\n    <tr>\n      <th>758</th>\n      <td>759</td>\n      <td>0</td>\n      <td>3</td>\n      <td>Theobald, Mr. Thomas Leonard</td>\n      <td>1</td>\n      <td>34.00</td>\n      <td>0</td>\n      <td>0</td>\n      <td>363294</td>\n      <td>8.0500</td>\n      <td>NaN</td>\n      <td>3.0</td>\n      <td>Mr</td>\n      <td>NaN</td>\n    </tr>\n    <tr>\n      <th>778</th>\n      <td>779</td>\n      <td>0</td>\n      <td>3</td>\n      <td>Kilgannon, Mr. Thomas J</td>\n      <td>1</td>\n      <td>NaN</td>\n      <td>0</td>\n      <td>0</td>\n      <td>36865</td>\n      <td>7.7375</td>\n      <td>NaN</td>\n      <td>2.0</td>\n      <td>Mr</td>\n      <td>NaN</td>\n    </tr>\n    <tr>\n      <th>803</th>\n      <td>804</td>\n      <td>1</td>\n      <td>3</td>\n      <td>Thomas, Master. Assad Alexander</td>\n      <td>1</td>\n      <td>0.42</td>\n      <td>0</td>\n      <td>1</td>\n      <td>2625</td>\n      <td>8.5167</td>\n      <td>NaN</td>\n      <td>1.0</td>\n      <td>Master</td>\n      <td>NaN</td>\n    </tr>\n    <tr>\n      <th>806</th>\n      <td>807</td>\n      <td>0</td>\n      <td>1</td>\n      <td>Andrews, Mr. Thomas Jr</td>\n      <td>1</td>\n      <td>39.00</td>\n      <td>0</td>\n      <td>0</td>\n      <td>112050</td>\n      <td>0.0000</td>\n      <td>A36</td>\n      <td>3.0</td>\n      <td>Mr</td>\n      <td>NaN</td>\n    </tr>\n    <tr>\n      <th>828</th>\n      <td>829</td>\n      <td>1</td>\n      <td>3</td>\n      <td>McCormack, Mr. Thomas Joseph</td>\n      <td>1</td>\n      <td>NaN</td>\n      <td>0</td>\n      <td>0</td>\n      <td>367228</td>\n      <td>7.7500</td>\n      <td>NaN</td>\n      <td>2.0</td>\n      <td>Mr</td>\n      <td>NaN</td>\n    </tr>\n    <tr>\n      <th>841</th>\n      <td>842</td>\n      <td>0</td>\n      <td>2</td>\n      <td>Mudd, Mr. Thomas Charles</td>\n      <td>1</td>\n      <td>16.00</td>\n      <td>0</td>\n      <td>0</td>\n      <td>S.O./P.P. 3</td>\n      <td>10.5000</td>\n      <td>NaN</td>\n      <td>3.0</td>\n      <td>Mr</td>\n      <td>NaN</td>\n    </tr>\n    <tr>\n      <th>879</th>\n      <td>880</td>\n      <td>1</td>\n      <td>1</td>\n      <td>Potter, Mrs. Thomas Jr (Lily Alexenia Wilson)</td>\n      <td>0</td>\n      <td>56.00</td>\n      <td>0</td>\n      <td>1</td>\n      <td>11767</td>\n      <td>83.1583</td>\n      <td>C50</td>\n      <td>1.0</td>\n      <td>Mrs</td>\n      <td>NaN</td>\n    </tr>\n  </tbody>\n</table>\n</div>"
     },
     "metadata": {},
     "execution_count": 64
    }
   ],
   "source": [
    "df[df['Name'].str.contains('Thomas')]"
   ]
  },
  {
   "cell_type": "code",
   "execution_count": 66,
   "metadata": {},
   "outputs": [
    {
     "output_type": "execute_result",
     "data": {
      "text/plain": "     PassengerId  Survived  Pclass  \\\n0              1         0       3   \n1              2         1       1   \n2              3         1       3   \n3              4         1       1   \n4              5         0       3   \n..           ...       ...     ...   \n886          887         0       2   \n887          888         1       1   \n888          889         0       3   \n889          890         1       1   \n890          891         0       3   \n\n                                                  Name  Male   Age  SibSp  \\\n0                              Braund, Mr. Owen Harris     1  22.0      1   \n1    Cumings, Mrs. John Bradley (Florence Briggs Th...     0  38.0      1   \n2                               Heikkinen, Miss. Laina     0  26.0      0   \n3         Futrelle, Mrs. Jacques Heath (Lily May Peel)     0  35.0      1   \n4                             Allen, Mr. William Henry     1  35.0      0   \n..                                                 ...   ...   ...    ...   \n886                              Montvila, Rev. Juozas     1  27.0      0   \n887                       Graham, Miss. Margaret Edith     0  19.0      0   \n888           Johnston, Miss. Catherine Helen \"Carrie\"     0   NaN      1   \n889                              Behr, Mr. Karl Howell     1  26.0      0   \n890                                Dooley, Mr. Patrick     1  32.0      0   \n\n     Parch            Ticket     Fare Cabin  Embarked Title  AgeMean  \n0        0         A/5 21171   7.2500   NaN       3.0    Mr      NaN  \n1        0          PC 17599  71.2833   C85       1.0   Mrs      NaN  \n2        0  STON/O2. 3101282   7.9250   NaN       3.0  Miss      NaN  \n3        0            113803  53.1000  C123       3.0   Mrs      NaN  \n4        0            373450   8.0500   NaN       3.0    Mr      NaN  \n..     ...               ...      ...   ...       ...   ...      ...  \n886      0            211536  13.0000   NaN       3.0   Rev      NaN  \n887      0            112053  30.0000   B42       3.0  Miss      NaN  \n888      2        W./C. 6607  23.4500   NaN       3.0  Miss      NaN  \n889      0            111369  30.0000  C148       1.0    Mr      NaN  \n890      0            370376   7.7500   NaN       2.0    Mr      NaN  \n\n[869 rows x 14 columns]",
      "text/html": "<div>\n<style scoped>\n    .dataframe tbody tr th:only-of-type {\n        vertical-align: middle;\n    }\n\n    .dataframe tbody tr th {\n        vertical-align: top;\n    }\n\n    .dataframe thead th {\n        text-align: right;\n    }\n</style>\n<table border=\"1\" class=\"dataframe\">\n  <thead>\n    <tr style=\"text-align: right;\">\n      <th></th>\n      <th>PassengerId</th>\n      <th>Survived</th>\n      <th>Pclass</th>\n      <th>Name</th>\n      <th>Male</th>\n      <th>Age</th>\n      <th>SibSp</th>\n      <th>Parch</th>\n      <th>Ticket</th>\n      <th>Fare</th>\n      <th>Cabin</th>\n      <th>Embarked</th>\n      <th>Title</th>\n      <th>AgeMean</th>\n    </tr>\n  </thead>\n  <tbody>\n    <tr>\n      <th>0</th>\n      <td>1</td>\n      <td>0</td>\n      <td>3</td>\n      <td>Braund, Mr. Owen Harris</td>\n      <td>1</td>\n      <td>22.0</td>\n      <td>1</td>\n      <td>0</td>\n      <td>A/5 21171</td>\n      <td>7.2500</td>\n      <td>NaN</td>\n      <td>3.0</td>\n      <td>Mr</td>\n      <td>NaN</td>\n    </tr>\n    <tr>\n      <th>1</th>\n      <td>2</td>\n      <td>1</td>\n      <td>1</td>\n      <td>Cumings, Mrs. John Bradley (Florence Briggs Th...</td>\n      <td>0</td>\n      <td>38.0</td>\n      <td>1</td>\n      <td>0</td>\n      <td>PC 17599</td>\n      <td>71.2833</td>\n      <td>C85</td>\n      <td>1.0</td>\n      <td>Mrs</td>\n      <td>NaN</td>\n    </tr>\n    <tr>\n      <th>2</th>\n      <td>3</td>\n      <td>1</td>\n      <td>3</td>\n      <td>Heikkinen, Miss. Laina</td>\n      <td>0</td>\n      <td>26.0</td>\n      <td>0</td>\n      <td>0</td>\n      <td>STON/O2. 3101282</td>\n      <td>7.9250</td>\n      <td>NaN</td>\n      <td>3.0</td>\n      <td>Miss</td>\n      <td>NaN</td>\n    </tr>\n    <tr>\n      <th>3</th>\n      <td>4</td>\n      <td>1</td>\n      <td>1</td>\n      <td>Futrelle, Mrs. Jacques Heath (Lily May Peel)</td>\n      <td>0</td>\n      <td>35.0</td>\n      <td>1</td>\n      <td>0</td>\n      <td>113803</td>\n      <td>53.1000</td>\n      <td>C123</td>\n      <td>3.0</td>\n      <td>Mrs</td>\n      <td>NaN</td>\n    </tr>\n    <tr>\n      <th>4</th>\n      <td>5</td>\n      <td>0</td>\n      <td>3</td>\n      <td>Allen, Mr. William Henry</td>\n      <td>1</td>\n      <td>35.0</td>\n      <td>0</td>\n      <td>0</td>\n      <td>373450</td>\n      <td>8.0500</td>\n      <td>NaN</td>\n      <td>3.0</td>\n      <td>Mr</td>\n      <td>NaN</td>\n    </tr>\n    <tr>\n      <th>...</th>\n      <td>...</td>\n      <td>...</td>\n      <td>...</td>\n      <td>...</td>\n      <td>...</td>\n      <td>...</td>\n      <td>...</td>\n      <td>...</td>\n      <td>...</td>\n      <td>...</td>\n      <td>...</td>\n      <td>...</td>\n      <td>...</td>\n      <td>...</td>\n    </tr>\n    <tr>\n      <th>886</th>\n      <td>887</td>\n      <td>0</td>\n      <td>2</td>\n      <td>Montvila, Rev. Juozas</td>\n      <td>1</td>\n      <td>27.0</td>\n      <td>0</td>\n      <td>0</td>\n      <td>211536</td>\n      <td>13.0000</td>\n      <td>NaN</td>\n      <td>3.0</td>\n      <td>Rev</td>\n      <td>NaN</td>\n    </tr>\n    <tr>\n      <th>887</th>\n      <td>888</td>\n      <td>1</td>\n      <td>1</td>\n      <td>Graham, Miss. Margaret Edith</td>\n      <td>0</td>\n      <td>19.0</td>\n      <td>0</td>\n      <td>0</td>\n      <td>112053</td>\n      <td>30.0000</td>\n      <td>B42</td>\n      <td>3.0</td>\n      <td>Miss</td>\n      <td>NaN</td>\n    </tr>\n    <tr>\n      <th>888</th>\n      <td>889</td>\n      <td>0</td>\n      <td>3</td>\n      <td>Johnston, Miss. Catherine Helen \"Carrie\"</td>\n      <td>0</td>\n      <td>NaN</td>\n      <td>1</td>\n      <td>2</td>\n      <td>W./C. 6607</td>\n      <td>23.4500</td>\n      <td>NaN</td>\n      <td>3.0</td>\n      <td>Miss</td>\n      <td>NaN</td>\n    </tr>\n    <tr>\n      <th>889</th>\n      <td>890</td>\n      <td>1</td>\n      <td>1</td>\n      <td>Behr, Mr. Karl Howell</td>\n      <td>1</td>\n      <td>26.0</td>\n      <td>0</td>\n      <td>0</td>\n      <td>111369</td>\n      <td>30.0000</td>\n      <td>C148</td>\n      <td>1.0</td>\n      <td>Mr</td>\n      <td>NaN</td>\n    </tr>\n    <tr>\n      <th>890</th>\n      <td>891</td>\n      <td>0</td>\n      <td>3</td>\n      <td>Dooley, Mr. Patrick</td>\n      <td>1</td>\n      <td>32.0</td>\n      <td>0</td>\n      <td>0</td>\n      <td>370376</td>\n      <td>7.7500</td>\n      <td>NaN</td>\n      <td>2.0</td>\n      <td>Mr</td>\n      <td>NaN</td>\n    </tr>\n  </tbody>\n</table>\n<p>869 rows × 14 columns</p>\n</div>"
     },
     "metadata": {},
     "execution_count": 66
    }
   ],
   "source": [
    "df[~df['Name'].str.contains('Thomas')]"
   ]
  },
  {
   "cell_type": "code",
   "execution_count": 71,
   "metadata": {},
   "outputs": [],
   "source": [
    "# df.style.apply(lambda x: ['background-color: yellow' if v == 'Mr' else '' for v in x])"
   ]
  }
 ],
 "metadata": {
  "language_info": {
   "codemirror_mode": {
    "name": "ipython",
    "version": 3
   },
   "file_extension": ".py",
   "mimetype": "text/x-python",
   "name": "python",
   "nbconvert_exporter": "python",
   "pygments_lexer": "ipython3",
   "version": "3.7.6-final"
  },
  "orig_nbformat": 2,
  "kernelspec": {
   "name": "python3",
   "display_name": "Python 3"
  }
 },
 "nbformat": 4,
 "nbformat_minor": 2
}