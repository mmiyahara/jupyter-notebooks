{
 "cells": [
  {
   "cell_type": "markdown",
   "id": "2b75b448-da37-444b-ac1f-695388cf2a8f",
   "metadata": {},
   "source": [
    "# Series"
   ]
  },
  {
   "cell_type": "code",
   "execution_count": 1,
   "id": "e1f0e824-3ed6-4378-b6e5-b3234253e286",
   "metadata": {},
   "outputs": [],
   "source": [
    "# https://pandas.pydata.org/docs/user_guide/dsintro.html\n",
    "import numpy as np\n",
    "import pandas as pd"
   ]
  },
  {
   "cell_type": "code",
   "execution_count": 31,
   "id": "cc5a2e74-45fa-4744-a718-8f09b36d3f78",
   "metadata": {},
   "outputs": [
    {
     "data": {
      "text/plain": [
       "a    0.042384\n",
       "b    0.658399\n",
       "c   -0.873720\n",
       "d    0.443077\n",
       "e    0.285106\n",
       "dtype: float64"
      ]
     },
     "execution_count": 31,
     "metadata": {},
     "output_type": "execute_result"
    }
   ],
   "source": [
    "# s = pd.Series(data, index=index)\n",
    "\n",
    "# From ndarray\n",
    "s = pd.Series(np.random.randn(5), index=[\"a\", \"b\", \"c\", \"d\", \"e\"])\n",
    "s"
   ]
  },
  {
   "cell_type": "code",
   "execution_count": 4,
   "id": "d9eadb33-61ac-4ba2-8aa6-565b67ffd6cb",
   "metadata": {},
   "outputs": [
    {
     "data": {
      "text/plain": [
       "Index(['a', 'b', 'c', 'd', 'e'], dtype='object')"
      ]
     },
     "execution_count": 4,
     "metadata": {},
     "output_type": "execute_result"
    }
   ],
   "source": [
    "s.index"
   ]
  },
  {
   "cell_type": "code",
   "execution_count": 5,
   "id": "e635aed4-7dce-4d72-95de-2f4ea42ad14b",
   "metadata": {},
   "outputs": [
    {
     "data": {
      "text/plain": [
       "0   -1.574890\n",
       "1   -1.250886\n",
       "2    0.145265\n",
       "3    2.083180\n",
       "4    0.096555\n",
       "dtype: float64"
      ]
     },
     "execution_count": 5,
     "metadata": {},
     "output_type": "execute_result"
    }
   ],
   "source": [
    "pd.Series(np.random.randn(5))"
   ]
  },
  {
   "cell_type": "code",
   "execution_count": 6,
   "id": "57b1f477-cc5e-4580-b2ed-13508d608316",
   "metadata": {},
   "outputs": [
    {
     "data": {
      "text/plain": [
       "b    1\n",
       "a    0\n",
       "c    2\n",
       "dtype: int64"
      ]
     },
     "execution_count": 6,
     "metadata": {},
     "output_type": "execute_result"
    }
   ],
   "source": [
    "# From dict\n",
    "d = {\"b\": 1, \"a\": 0, \"c\": 2}\n",
    "pd.Series(d)"
   ]
  },
  {
   "cell_type": "code",
   "execution_count": 7,
   "id": "c9c82c04-3189-4508-9d52-4532b035706a",
   "metadata": {},
   "outputs": [
    {
     "data": {
      "text/plain": [
       "a    0.0\n",
       "b    1.0\n",
       "c    2.0\n",
       "dtype: float64"
      ]
     },
     "execution_count": 7,
     "metadata": {},
     "output_type": "execute_result"
    }
   ],
   "source": [
    "d = {\"a\": 0.0, \"b\": 1.0, \"c\": 2.0}\n",
    "pd.Series(d)"
   ]
  },
  {
   "cell_type": "code",
   "execution_count": 8,
   "id": "3beb8355-b271-46a8-a9c4-b7d0cf0c15fc",
   "metadata": {},
   "outputs": [
    {
     "data": {
      "text/plain": [
       "b    1.0\n",
       "c    2.0\n",
       "d    NaN\n",
       "a    0.0\n",
       "dtype: float64"
      ]
     },
     "execution_count": 8,
     "metadata": {},
     "output_type": "execute_result"
    }
   ],
   "source": [
    "pd.Series(d, index=[\"b\", \"c\", \"d\", \"a\"])"
   ]
  },
  {
   "cell_type": "code",
   "execution_count": 11,
   "id": "35b72ac3-c338-4977-80a0-c783be870a2b",
   "metadata": {},
   "outputs": [
    {
     "data": {
      "text/plain": [
       "a    5.0\n",
       "b    5.0\n",
       "c    5.0\n",
       "d    5.0\n",
       "e    5.0\n",
       "dtype: float64"
      ]
     },
     "execution_count": 11,
     "metadata": {},
     "output_type": "execute_result"
    }
   ],
   "source": [
    "# From scalar value\n",
    "pd.Series(5.0, index=[\"a\", \"b\", \"c\", \"d\", \"e\"])"
   ]
  },
  {
   "cell_type": "markdown",
   "id": "6dfd616e-82c7-4998-b5ec-641491423983",
   "metadata": {},
   "source": [
    "## Series is ndarray-like"
   ]
  },
  {
   "cell_type": "code",
   "execution_count": 13,
   "id": "a20442cb-90a4-441e-b4ae-848152f489bf",
   "metadata": {},
   "outputs": [
    {
     "data": {
      "text/plain": [
       "0.273560768989229"
      ]
     },
     "execution_count": 13,
     "metadata": {},
     "output_type": "execute_result"
    }
   ],
   "source": [
    "s[0]"
   ]
  },
  {
   "cell_type": "code",
   "execution_count": 14,
   "id": "df3923b8-20f8-4278-b392-58876b6f8d95",
   "metadata": {},
   "outputs": [
    {
     "data": {
      "text/plain": [
       "a    0.273561\n",
       "b   -0.238279\n",
       "c   -0.231734\n",
       "dtype: float64"
      ]
     },
     "execution_count": 14,
     "metadata": {},
     "output_type": "execute_result"
    }
   ],
   "source": [
    "s[:3]"
   ]
  },
  {
   "cell_type": "code",
   "execution_count": 15,
   "id": "638c503e-3782-4b0b-a723-be65d33641cc",
   "metadata": {},
   "outputs": [
    {
     "data": {
      "text/plain": [
       "a    0.273561\n",
       "d    0.331374\n",
       "dtype: float64"
      ]
     },
     "execution_count": 15,
     "metadata": {},
     "output_type": "execute_result"
    }
   ],
   "source": [
    "s[s > s.median()]"
   ]
  },
  {
   "cell_type": "code",
   "execution_count": 16,
   "id": "d2bf744d-0b03-4ab2-b91e-a3e369fc88d2",
   "metadata": {},
   "outputs": [
    {
     "data": {
      "text/plain": [
       "e   -1.496005\n",
       "d    0.331374\n",
       "b   -0.238279\n",
       "dtype: float64"
      ]
     },
     "execution_count": 16,
     "metadata": {},
     "output_type": "execute_result"
    }
   ],
   "source": [
    "s[[4, 3, 1]]"
   ]
  },
  {
   "cell_type": "code",
   "execution_count": 17,
   "id": "e221217d-e30a-47a6-97bc-b4e7d2520172",
   "metadata": {},
   "outputs": [
    {
     "data": {
      "text/plain": [
       "a    1.314637\n",
       "b    0.787983\n",
       "c    0.793157\n",
       "d    1.392880\n",
       "e    0.224023\n",
       "dtype: float64"
      ]
     },
     "execution_count": 17,
     "metadata": {},
     "output_type": "execute_result"
    }
   ],
   "source": [
    "np.exp(s)"
   ]
  },
  {
   "cell_type": "code",
   "execution_count": 20,
   "id": "3720328a-c240-496d-8ae5-5d04eeece5f4",
   "metadata": {},
   "outputs": [
    {
     "data": {
      "text/plain": [
       "dtype('float64')"
      ]
     },
     "execution_count": 20,
     "metadata": {},
     "output_type": "execute_result"
    }
   ],
   "source": [
    "s.dtype"
   ]
  },
  {
   "cell_type": "code",
   "execution_count": 21,
   "id": "9cf4d392-3f67-4f47-b75a-b096a6c0edab",
   "metadata": {},
   "outputs": [
    {
     "data": {
      "text/plain": [
       "<PandasArray>\n",
       "[   0.273560768989229, -0.23827893361956956, -0.23173424141480334,\n",
       "   0.3313737160318406,  -1.4960048660199265]\n",
       "Length: 5, dtype: float64"
      ]
     },
     "execution_count": 21,
     "metadata": {},
     "output_type": "execute_result"
    }
   ],
   "source": [
    "s.array"
   ]
  },
  {
   "cell_type": "code",
   "execution_count": 24,
   "id": "d43912aa-ef15-4943-8408-49f7c91f7155",
   "metadata": {},
   "outputs": [
    {
     "data": {
      "text/plain": [
       "array([ 0.27356077, -0.23827893, -0.23173424,  0.33137372, -1.49600487])"
      ]
     },
     "execution_count": 24,
     "metadata": {},
     "output_type": "execute_result"
    }
   ],
   "source": [
    "s.to_numpy()"
   ]
  },
  {
   "cell_type": "markdown",
   "id": "98cf3c8b-1f01-41b2-b328-1037816d3261",
   "metadata": {},
   "source": [
    "## Series is dict-like"
   ]
  },
  {
   "cell_type": "code",
   "execution_count": 25,
   "id": "45092b3e-9b9b-4cf0-a5a4-61838a30d027",
   "metadata": {},
   "outputs": [
    {
     "data": {
      "text/plain": [
       "0.273560768989229"
      ]
     },
     "execution_count": 25,
     "metadata": {},
     "output_type": "execute_result"
    }
   ],
   "source": [
    "s[\"a\"]"
   ]
  },
  {
   "cell_type": "code",
   "execution_count": 26,
   "id": "6c82ab59-5f9b-4cba-86b0-24a77da0d0fc",
   "metadata": {},
   "outputs": [
    {
     "data": {
      "text/plain": [
       "a     0.273561\n",
       "b    -0.238279\n",
       "c    -0.231734\n",
       "d     0.331374\n",
       "e    12.000000\n",
       "dtype: float64"
      ]
     },
     "execution_count": 26,
     "metadata": {},
     "output_type": "execute_result"
    }
   ],
   "source": [
    "s[\"e\"] = 12.0\n",
    "s"
   ]
  },
  {
   "cell_type": "code",
   "execution_count": 27,
   "id": "31ab6121-78cb-44e3-8382-3f4d39106775",
   "metadata": {},
   "outputs": [
    {
     "data": {
      "text/plain": [
       "True"
      ]
     },
     "execution_count": 27,
     "metadata": {},
     "output_type": "execute_result"
    }
   ],
   "source": [
    "\"e\" in s"
   ]
  },
  {
   "cell_type": "code",
   "execution_count": 32,
   "id": "4a9c98de-0d62-4435-928a-71268a2ee4cc",
   "metadata": {},
   "outputs": [
    {
     "data": {
      "text/plain": [
       "False"
      ]
     },
     "execution_count": 32,
     "metadata": {},
     "output_type": "execute_result"
    }
   ],
   "source": [
    "\"f\" in s"
   ]
  },
  {
   "cell_type": "code",
   "execution_count": 36,
   "id": "4e236926-1851-4b5c-a80d-ae9d1919d6f1",
   "metadata": {},
   "outputs": [
    {
     "data": {
      "text/plain": [
       "True"
      ]
     },
     "execution_count": 36,
     "metadata": {},
     "output_type": "execute_result"
    }
   ],
   "source": [
    "# s[\"f\"]\n",
    "# KeyError: 'f'\n",
    "\n",
    "s.get(\"f\") == None"
   ]
  },
  {
   "cell_type": "code",
   "execution_count": 37,
   "id": "cc841818-cbb4-4e59-a207-05d9781cb4df",
   "metadata": {},
   "outputs": [
    {
     "data": {
      "text/plain": [
       "nan"
      ]
     },
     "execution_count": 37,
     "metadata": {},
     "output_type": "execute_result"
    }
   ],
   "source": [
    "s.get(\"f\", np.nan)"
   ]
  },
  {
   "cell_type": "markdown",
   "id": "88ceb3c5-80fd-4e1e-9230-ad5bcc74627d",
   "metadata": {},
   "source": [
    "## Vectorized operations and label alignment with Series"
   ]
  },
  {
   "cell_type": "code",
   "execution_count": 38,
   "id": "f11d0eab-362b-4d73-83d7-e00387e0b1ac",
   "metadata": {},
   "outputs": [
    {
     "data": {
      "text/plain": [
       "a    0.084768\n",
       "b    1.316798\n",
       "c   -1.747440\n",
       "d    0.886155\n",
       "e    0.570211\n",
       "dtype: float64"
      ]
     },
     "execution_count": 38,
     "metadata": {},
     "output_type": "execute_result"
    }
   ],
   "source": [
    "s + s"
   ]
  },
  {
   "cell_type": "code",
   "execution_count": 39,
   "id": "2cb5a439-6f46-48e3-88c7-2e0a39552937",
   "metadata": {},
   "outputs": [
    {
     "data": {
      "text/plain": [
       "a    0.084768\n",
       "b    1.316798\n",
       "c   -1.747440\n",
       "d    0.886155\n",
       "e    0.570211\n",
       "dtype: float64"
      ]
     },
     "execution_count": 39,
     "metadata": {},
     "output_type": "execute_result"
    }
   ],
   "source": [
    "s * 2"
   ]
  },
  {
   "cell_type": "code",
   "execution_count": 40,
   "id": "47d869b2-70dc-4ab3-83f4-eab789402e63",
   "metadata": {},
   "outputs": [
    {
     "data": {
      "text/plain": [
       "a    1.043295\n",
       "b    1.931698\n",
       "c    0.417396\n",
       "d    1.557493\n",
       "e    1.329902\n",
       "dtype: float64"
      ]
     },
     "execution_count": 40,
     "metadata": {},
     "output_type": "execute_result"
    }
   ],
   "source": [
    "np.exp(s)"
   ]
  },
  {
   "cell_type": "code",
   "execution_count": 41,
   "id": "43d75d28-17e8-42f1-9af8-c9b41d64d247",
   "metadata": {},
   "outputs": [
    {
     "data": {
      "text/plain": [
       "b    0.658399\n",
       "c   -0.873720\n",
       "d    0.443077\n",
       "e    0.285106\n",
       "dtype: float64"
      ]
     },
     "execution_count": 41,
     "metadata": {},
     "output_type": "execute_result"
    }
   ],
   "source": [
    "s[1:]"
   ]
  },
  {
   "cell_type": "code",
   "execution_count": 42,
   "id": "e2520fb6-d3ab-44c6-8903-eac817045926",
   "metadata": {},
   "outputs": [
    {
     "data": {
      "text/plain": [
       "a    0.042384\n",
       "b    0.658399\n",
       "c   -0.873720\n",
       "d    0.443077\n",
       "dtype: float64"
      ]
     },
     "execution_count": 42,
     "metadata": {},
     "output_type": "execute_result"
    }
   ],
   "source": [
    "s[:-1]"
   ]
  },
  {
   "cell_type": "code",
   "execution_count": 43,
   "id": "8b655eff-8d9b-4db4-9a86-57410111aabf",
   "metadata": {},
   "outputs": [
    {
     "data": {
      "text/plain": [
       "a         NaN\n",
       "b    1.316798\n",
       "c   -1.747440\n",
       "d    0.886155\n",
       "e         NaN\n",
       "dtype: float64"
      ]
     },
     "execution_count": 43,
     "metadata": {},
     "output_type": "execute_result"
    }
   ],
   "source": [
    "s[1:] + s[:-1]"
   ]
  },
  {
   "cell_type": "markdown",
   "id": "75557b34-31a6-4fe5-9af6-1b1093250910",
   "metadata": {},
   "source": [
    "## Name attribute"
   ]
  },
  {
   "cell_type": "code",
   "execution_count": 44,
   "id": "e04b3bb3-ea6a-4a4d-b76b-3580d022cb10",
   "metadata": {},
   "outputs": [
    {
     "data": {
      "text/plain": [
       "0   -0.649186\n",
       "1    0.097585\n",
       "2    0.444821\n",
       "3    0.081942\n",
       "4   -1.029642\n",
       "Name: something, dtype: float64"
      ]
     },
     "execution_count": 44,
     "metadata": {},
     "output_type": "execute_result"
    }
   ],
   "source": [
    "s = pd.Series(np.random.randn(5), name=\"something\")\n",
    "s"
   ]
  },
  {
   "cell_type": "code",
   "execution_count": 45,
   "id": "6b3f6ba0-7ffe-4b17-bb0f-6f9036e94a06",
   "metadata": {},
   "outputs": [
    {
     "data": {
      "text/plain": [
       "'something'"
      ]
     },
     "execution_count": 45,
     "metadata": {},
     "output_type": "execute_result"
    }
   ],
   "source": [
    "s.name"
   ]
  },
  {
   "cell_type": "code",
   "execution_count": 46,
   "id": "4ef1501b-0754-4361-bea8-e7c73cba3bf2",
   "metadata": {},
   "outputs": [
    {
     "data": {
      "text/plain": [
       "'different'"
      ]
     },
     "execution_count": 46,
     "metadata": {},
     "output_type": "execute_result"
    }
   ],
   "source": [
    "s2 = s.rename(\"different\")\n",
    "s2.name"
   ]
  },
  {
   "cell_type": "markdown",
   "id": "cfb1b9a8-bb0c-46a0-bec4-72b44eefd6da",
   "metadata": {},
   "source": [
    "# DataFrame"
   ]
  },
  {
   "cell_type": "code",
   "execution_count": null,
   "id": "707af09a-0b33-4b33-bb28-75d7b29f418a",
   "metadata": {},
   "outputs": [],
   "source": []
  }
 ],
 "metadata": {
  "kernelspec": {
   "display_name": "Python 3",
   "language": "python",
   "name": "python3"
  },
  "language_info": {
   "codemirror_mode": {
    "name": "ipython",
    "version": 3
   },
   "file_extension": ".py",
   "mimetype": "text/x-python",
   "name": "python",
   "nbconvert_exporter": "python",
   "pygments_lexer": "ipython3",
   "version": "3.8.8"
  }
 },
 "nbformat": 4,
 "nbformat_minor": 5
}
