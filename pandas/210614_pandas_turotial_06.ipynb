{
 "cells": [
  {
   "cell_type": "code",
   "execution_count": 11,
   "id": "7f8fd13e-9070-40f8-9987-304b1bcecbea",
   "metadata": {},
   "outputs": [],
   "source": [
    "import pandas as pd\n",
    "import matplotlib.pyplot as plt"
   ]
  },
  {
   "cell_type": "code",
   "execution_count": 2,
   "id": "e498fe9f-344a-48d9-9857-ecb320f805a2",
   "metadata": {},
   "outputs": [
    {
     "data": {
      "text/html": [
       "<div>\n",
       "<style scoped>\n",
       "    .dataframe tbody tr th:only-of-type {\n",
       "        vertical-align: middle;\n",
       "    }\n",
       "\n",
       "    .dataframe tbody tr th {\n",
       "        vertical-align: top;\n",
       "    }\n",
       "\n",
       "    .dataframe thead th {\n",
       "        text-align: right;\n",
       "    }\n",
       "</style>\n",
       "<table border=\"1\" class=\"dataframe\">\n",
       "  <thead>\n",
       "    <tr style=\"text-align: right;\">\n",
       "      <th></th>\n",
       "      <th>city</th>\n",
       "      <th>country</th>\n",
       "      <th>datetime</th>\n",
       "      <th>location</th>\n",
       "      <th>parameter</th>\n",
       "      <th>value</th>\n",
       "      <th>unit</th>\n",
       "    </tr>\n",
       "  </thead>\n",
       "  <tbody>\n",
       "    <tr>\n",
       "      <th>0</th>\n",
       "      <td>Paris</td>\n",
       "      <td>FR</td>\n",
       "      <td>2019-06-21 00:00:00+00:00</td>\n",
       "      <td>FR04014</td>\n",
       "      <td>no2</td>\n",
       "      <td>20.0</td>\n",
       "      <td>µg/m³</td>\n",
       "    </tr>\n",
       "    <tr>\n",
       "      <th>1</th>\n",
       "      <td>Paris</td>\n",
       "      <td>FR</td>\n",
       "      <td>2019-06-20 23:00:00+00:00</td>\n",
       "      <td>FR04014</td>\n",
       "      <td>no2</td>\n",
       "      <td>21.8</td>\n",
       "      <td>µg/m³</td>\n",
       "    </tr>\n",
       "    <tr>\n",
       "      <th>2</th>\n",
       "      <td>Paris</td>\n",
       "      <td>FR</td>\n",
       "      <td>2019-06-20 22:00:00+00:00</td>\n",
       "      <td>FR04014</td>\n",
       "      <td>no2</td>\n",
       "      <td>26.5</td>\n",
       "      <td>µg/m³</td>\n",
       "    </tr>\n",
       "    <tr>\n",
       "      <th>3</th>\n",
       "      <td>Paris</td>\n",
       "      <td>FR</td>\n",
       "      <td>2019-06-20 21:00:00+00:00</td>\n",
       "      <td>FR04014</td>\n",
       "      <td>no2</td>\n",
       "      <td>24.9</td>\n",
       "      <td>µg/m³</td>\n",
       "    </tr>\n",
       "    <tr>\n",
       "      <th>4</th>\n",
       "      <td>Paris</td>\n",
       "      <td>FR</td>\n",
       "      <td>2019-06-20 20:00:00+00:00</td>\n",
       "      <td>FR04014</td>\n",
       "      <td>no2</td>\n",
       "      <td>21.4</td>\n",
       "      <td>µg/m³</td>\n",
       "    </tr>\n",
       "  </tbody>\n",
       "</table>\n",
       "</div>"
      ],
      "text/plain": [
       "    city country                   datetime location parameter  value   unit\n",
       "0  Paris      FR  2019-06-21 00:00:00+00:00  FR04014       no2   20.0  µg/m³\n",
       "1  Paris      FR  2019-06-20 23:00:00+00:00  FR04014       no2   21.8  µg/m³\n",
       "2  Paris      FR  2019-06-20 22:00:00+00:00  FR04014       no2   26.5  µg/m³\n",
       "3  Paris      FR  2019-06-20 21:00:00+00:00  FR04014       no2   24.9  µg/m³\n",
       "4  Paris      FR  2019-06-20 20:00:00+00:00  FR04014       no2   21.4  µg/m³"
      ]
     },
     "execution_count": 2,
     "metadata": {},
     "output_type": "execute_result"
    }
   ],
   "source": [
    "air_quality = pd.read_csv(\"data/air_quality_no2_long.csv\")\n",
    "air_quality = air_quality.rename(columns={\"date.utc\": \"datetime\"})\n",
    "air_quality.head()"
   ]
  },
  {
   "cell_type": "code",
   "execution_count": 3,
   "id": "85277a36-0328-4da3-8a95-6eae1f6c7dab",
   "metadata": {},
   "outputs": [
    {
     "data": {
      "text/plain": [
       "array(['Paris', 'Antwerpen', 'London'], dtype=object)"
      ]
     },
     "execution_count": 3,
     "metadata": {},
     "output_type": "execute_result"
    }
   ],
   "source": [
    "air_quality.city.unique()"
   ]
  },
  {
   "cell_type": "code",
   "execution_count": 4,
   "id": "a1ffbb70-b8f4-4ac2-93d9-ac097a9fc1f1",
   "metadata": {},
   "outputs": [
    {
     "name": "stdout",
     "output_type": "stream",
     "text": [
      "<class 'pandas.core.frame.DataFrame'>\n",
      "RangeIndex: 2068 entries, 0 to 2067\n",
      "Data columns (total 7 columns):\n",
      " #   Column     Non-Null Count  Dtype  \n",
      "---  ------     --------------  -----  \n",
      " 0   city       2068 non-null   object \n",
      " 1   country    2068 non-null   object \n",
      " 2   datetime   2068 non-null   object \n",
      " 3   location   2068 non-null   object \n",
      " 4   parameter  2068 non-null   object \n",
      " 5   value      2068 non-null   float64\n",
      " 6   unit       2068 non-null   object \n",
      "dtypes: float64(1), object(6)\n",
      "memory usage: 113.2+ KB\n"
     ]
    }
   ],
   "source": [
    "air_quality.info()"
   ]
  },
  {
   "cell_type": "code",
   "execution_count": 5,
   "id": "0ca18c9e-89aa-4932-b78a-890102669c86",
   "metadata": {},
   "outputs": [
    {
     "data": {
      "text/plain": [
       "0      2019-06-21 00:00:00+00:00\n",
       "1      2019-06-20 23:00:00+00:00\n",
       "2      2019-06-20 22:00:00+00:00\n",
       "3      2019-06-20 21:00:00+00:00\n",
       "4      2019-06-20 20:00:00+00:00\n",
       "                  ...           \n",
       "2063   2019-05-07 06:00:00+00:00\n",
       "2064   2019-05-07 04:00:00+00:00\n",
       "2065   2019-05-07 03:00:00+00:00\n",
       "2066   2019-05-07 02:00:00+00:00\n",
       "2067   2019-05-07 01:00:00+00:00\n",
       "Name: datetime, Length: 2068, dtype: datetime64[ns, UTC]"
      ]
     },
     "execution_count": 5,
     "metadata": {},
     "output_type": "execute_result"
    }
   ],
   "source": [
    "air_quality[\"datetime\"] = pd.to_datetime(air_quality[\"datetime\"])\n",
    "air_quality[\"datetime\"]"
   ]
  },
  {
   "cell_type": "code",
   "execution_count": 6,
   "id": "dce75ec5-593c-4315-afb6-f3d7dd9634bb",
   "metadata": {},
   "outputs": [
    {
     "data": {
      "text/plain": [
       "(Timestamp('2019-05-07 01:00:00+0000', tz='UTC'),\n",
       " Timestamp('2019-06-21 00:00:00+0000', tz='UTC'))"
      ]
     },
     "execution_count": 6,
     "metadata": {},
     "output_type": "execute_result"
    }
   ],
   "source": [
    "air_quality[\"datetime\"].min(), air_quality[\"datetime\"].max()"
   ]
  },
  {
   "cell_type": "code",
   "execution_count": 7,
   "id": "a7fd3edc-6f48-49e8-8bc5-630a7a8a3896",
   "metadata": {},
   "outputs": [
    {
     "data": {
      "text/plain": [
       "Timedelta('44 days 23:00:00')"
      ]
     },
     "execution_count": 7,
     "metadata": {},
     "output_type": "execute_result"
    }
   ],
   "source": [
    "air_quality[\"datetime\"].max() - air_quality[\"datetime\"].min()"
   ]
  },
  {
   "cell_type": "code",
   "execution_count": 9,
   "id": "99d57373-2264-44b0-b60a-667831b56740",
   "metadata": {},
   "outputs": [
    {
     "data": {
      "text/html": [
       "<div>\n",
       "<style scoped>\n",
       "    .dataframe tbody tr th:only-of-type {\n",
       "        vertical-align: middle;\n",
       "    }\n",
       "\n",
       "    .dataframe tbody tr th {\n",
       "        vertical-align: top;\n",
       "    }\n",
       "\n",
       "    .dataframe thead th {\n",
       "        text-align: right;\n",
       "    }\n",
       "</style>\n",
       "<table border=\"1\" class=\"dataframe\">\n",
       "  <thead>\n",
       "    <tr style=\"text-align: right;\">\n",
       "      <th></th>\n",
       "      <th>city</th>\n",
       "      <th>country</th>\n",
       "      <th>datetime</th>\n",
       "      <th>location</th>\n",
       "      <th>parameter</th>\n",
       "      <th>value</th>\n",
       "      <th>unit</th>\n",
       "      <th>month</th>\n",
       "    </tr>\n",
       "  </thead>\n",
       "  <tbody>\n",
       "    <tr>\n",
       "      <th>0</th>\n",
       "      <td>Paris</td>\n",
       "      <td>FR</td>\n",
       "      <td>2019-06-21 00:00:00+00:00</td>\n",
       "      <td>FR04014</td>\n",
       "      <td>no2</td>\n",
       "      <td>20.0</td>\n",
       "      <td>µg/m³</td>\n",
       "      <td>6</td>\n",
       "    </tr>\n",
       "    <tr>\n",
       "      <th>1</th>\n",
       "      <td>Paris</td>\n",
       "      <td>FR</td>\n",
       "      <td>2019-06-20 23:00:00+00:00</td>\n",
       "      <td>FR04014</td>\n",
       "      <td>no2</td>\n",
       "      <td>21.8</td>\n",
       "      <td>µg/m³</td>\n",
       "      <td>6</td>\n",
       "    </tr>\n",
       "    <tr>\n",
       "      <th>2</th>\n",
       "      <td>Paris</td>\n",
       "      <td>FR</td>\n",
       "      <td>2019-06-20 22:00:00+00:00</td>\n",
       "      <td>FR04014</td>\n",
       "      <td>no2</td>\n",
       "      <td>26.5</td>\n",
       "      <td>µg/m³</td>\n",
       "      <td>6</td>\n",
       "    </tr>\n",
       "    <tr>\n",
       "      <th>3</th>\n",
       "      <td>Paris</td>\n",
       "      <td>FR</td>\n",
       "      <td>2019-06-20 21:00:00+00:00</td>\n",
       "      <td>FR04014</td>\n",
       "      <td>no2</td>\n",
       "      <td>24.9</td>\n",
       "      <td>µg/m³</td>\n",
       "      <td>6</td>\n",
       "    </tr>\n",
       "    <tr>\n",
       "      <th>4</th>\n",
       "      <td>Paris</td>\n",
       "      <td>FR</td>\n",
       "      <td>2019-06-20 20:00:00+00:00</td>\n",
       "      <td>FR04014</td>\n",
       "      <td>no2</td>\n",
       "      <td>21.4</td>\n",
       "      <td>µg/m³</td>\n",
       "      <td>6</td>\n",
       "    </tr>\n",
       "  </tbody>\n",
       "</table>\n",
       "</div>"
      ],
      "text/plain": [
       "    city country                  datetime location parameter  value   unit  \\\n",
       "0  Paris      FR 2019-06-21 00:00:00+00:00  FR04014       no2   20.0  µg/m³   \n",
       "1  Paris      FR 2019-06-20 23:00:00+00:00  FR04014       no2   21.8  µg/m³   \n",
       "2  Paris      FR 2019-06-20 22:00:00+00:00  FR04014       no2   26.5  µg/m³   \n",
       "3  Paris      FR 2019-06-20 21:00:00+00:00  FR04014       no2   24.9  µg/m³   \n",
       "4  Paris      FR 2019-06-20 20:00:00+00:00  FR04014       no2   21.4  µg/m³   \n",
       "\n",
       "   month  \n",
       "0      6  \n",
       "1      6  \n",
       "2      6  \n",
       "3      6  \n",
       "4      6  "
      ]
     },
     "execution_count": 9,
     "metadata": {},
     "output_type": "execute_result"
    }
   ],
   "source": [
    "air_quality[\"month\"] = air_quality[\"datetime\"].dt.month\n",
    "air_quality.head()"
   ]
  },
  {
   "cell_type": "code",
   "execution_count": 10,
   "id": "fd71c3e4-1f3b-4ef9-b41b-55bfcc39f095",
   "metadata": {},
   "outputs": [
    {
     "data": {
      "text/plain": [
       "datetime  location          \n",
       "0         BETR801               27.875000\n",
       "          FR04014               24.856250\n",
       "          London Westminster    23.969697\n",
       "1         BETR801               22.214286\n",
       "          FR04014               30.999359\n",
       "          London Westminster    24.885714\n",
       "2         BETR801               21.125000\n",
       "          FR04014               29.165753\n",
       "          London Westminster    23.460432\n",
       "3         BETR801               27.500000\n",
       "          FR04014               28.600690\n",
       "          London Westminster    24.780142\n",
       "4         BETR801               28.400000\n",
       "          FR04014               31.617986\n",
       "          London Westminster    26.446809\n",
       "5         BETR801               33.500000\n",
       "          FR04014               25.266154\n",
       "          London Westminster    24.977612\n",
       "6         BETR801               21.896552\n",
       "          FR04014               23.274306\n",
       "          London Westminster    24.859155\n",
       "Name: value, dtype: float64"
      ]
     },
     "execution_count": 10,
     "metadata": {},
     "output_type": "execute_result"
    }
   ],
   "source": [
    "air_quality.groupby(\n",
    "    [air_quality[\"datetime\"].dt.weekday, \"location\"]\n",
    ")[\"value\"].mean()"
   ]
  },
  {
   "cell_type": "code",
   "execution_count": 16,
   "id": "4a16716b-26c9-43ab-8a7e-dcd932f51449",
   "metadata": {},
   "outputs": [
    {
     "data": {
      "text/plain": [
       "<AxesSubplot:xlabel='datetime'>"
      ]
     },
     "execution_count": 16,
     "metadata": {},
     "output_type": "execute_result"
    },
    {
     "data": {
      "image/png": "[encoded data removed]",
      "text/plain": [
       "<Figure size 864x288 with 1 Axes>"
      ]
     },
     "metadata": {
      "needs_background": "light"
     },
     "output_type": "display_data"
    }
   ],
   "source": [
    "fig, axs = plt.subplots(figsize=(12, 4))\n",
    "air_quality.groupby(\n",
    "    air_quality[\"datetime\"].dt.hour\n",
    ")[\"value\"].mean().plot(kind=\"bar\", rot=0, ax=axs)"
   ]
  },
  {
   "cell_type": "code",
   "execution_count": 19,
   "id": "23afe7f2-afe3-4384-a7b4-f0a87de4da28",
   "metadata": {},
   "outputs": [
    {
     "data": {
      "text/html": [
       "<div>\n",
       "<style scoped>\n",
       "    .dataframe tbody tr th:only-of-type {\n",
       "        vertical-align: middle;\n",
       "    }\n",
       "\n",
       "    .dataframe tbody tr th {\n",
       "        vertical-align: top;\n",
       "    }\n",
       "\n",
       "    .dataframe thead th {\n",
       "        text-align: right;\n",
       "    }\n",
       "</style>\n",
       "<table border=\"1\" class=\"dataframe\">\n",
       "  <thead>\n",
       "    <tr style=\"text-align: right;\">\n",
       "      <th>location</th>\n",
       "      <th>BETR801</th>\n",
       "      <th>FR04014</th>\n",
       "      <th>London Westminster</th>\n",
       "    </tr>\n",
       "    <tr>\n",
       "      <th>datetime</th>\n",
       "      <th></th>\n",
       "      <th></th>\n",
       "      <th></th>\n",
       "    </tr>\n",
       "  </thead>\n",
       "  <tbody>\n",
       "    <tr>\n",
       "      <th>2019-05-07 01:00:00+00:00</th>\n",
       "      <td>50.5</td>\n",
       "      <td>25.0</td>\n",
       "      <td>23.0</td>\n",
       "    </tr>\n",
       "    <tr>\n",
       "      <th>2019-05-07 02:00:00+00:00</th>\n",
       "      <td>45.0</td>\n",
       "      <td>27.7</td>\n",
       "      <td>19.0</td>\n",
       "    </tr>\n",
       "    <tr>\n",
       "      <th>2019-05-07 03:00:00+00:00</th>\n",
       "      <td>NaN</td>\n",
       "      <td>50.4</td>\n",
       "      <td>19.0</td>\n",
       "    </tr>\n",
       "    <tr>\n",
       "      <th>2019-05-07 04:00:00+00:00</th>\n",
       "      <td>NaN</td>\n",
       "      <td>61.9</td>\n",
       "      <td>16.0</td>\n",
       "    </tr>\n",
       "    <tr>\n",
       "      <th>2019-05-07 05:00:00+00:00</th>\n",
       "      <td>NaN</td>\n",
       "      <td>72.4</td>\n",
       "      <td>NaN</td>\n",
       "    </tr>\n",
       "  </tbody>\n",
       "</table>\n",
       "</div>"
      ],
      "text/plain": [
       "location                   BETR801  FR04014  London Westminster\n",
       "datetime                                                       \n",
       "2019-05-07 01:00:00+00:00     50.5     25.0                23.0\n",
       "2019-05-07 02:00:00+00:00     45.0     27.7                19.0\n",
       "2019-05-07 03:00:00+00:00      NaN     50.4                19.0\n",
       "2019-05-07 04:00:00+00:00      NaN     61.9                16.0\n",
       "2019-05-07 05:00:00+00:00      NaN     72.4                 NaN"
      ]
     },
     "execution_count": 19,
     "metadata": {},
     "output_type": "execute_result"
    }
   ],
   "source": [
    "no_2 = air_quality.pivot(index=\"datetime\", columns=\"location\", values=\"value\")\n",
    "no_2.head()"
   ]
  },
  {
   "cell_type": "code",
   "execution_count": 20,
   "id": "4eafc7e3-b260-4aff-89a1-773f6b2072a9",
   "metadata": {},
   "outputs": [
    {
     "data": {
      "text/plain": [
       "(Int64Index([2019, 2019, 2019, 2019, 2019, 2019, 2019, 2019, 2019, 2019,\n",
       "             ...\n",
       "             2019, 2019, 2019, 2019, 2019, 2019, 2019, 2019, 2019, 2019],\n",
       "            dtype='int64', name='datetime', length=1033),\n",
       " Int64Index([1, 1, 1, 1, 1, 1, 1, 1, 1, 1,\n",
       "             ...\n",
       "             3, 3, 3, 3, 3, 3, 3, 3, 3, 4],\n",
       "            dtype='int64', name='datetime', length=1033))"
      ]
     },
     "execution_count": 20,
     "metadata": {},
     "output_type": "execute_result"
    }
   ],
   "source": [
    "no_2.index.year, no_2.index.weekday"
   ]
  },
  {
   "cell_type": "code",
   "execution_count": 22,
   "id": "06244159-d435-400b-9ec4-4915f948c0a4",
   "metadata": {},
   "outputs": [
    {
     "data": {
      "text/plain": [
       "<AxesSubplot:xlabel='datetime'>"
      ]
     },
     "execution_count": 22,
     "metadata": {},
     "output_type": "execute_result"
    },
    {
     "data": {
      "image/png": "[encoded data removed]",
      "text/plain": [
       "<Figure size 432x288 with 1 Axes>"
      ]
     },
     "metadata": {
      "needs_background": "light"
     },
     "output_type": "display_data"
    }
   ],
   "source": [
    "no_2[\"2019-05-20\":\"2019-05-21\"].plot()"
   ]
  },
  {
   "cell_type": "code",
   "execution_count": 23,
   "id": "812e248c-d384-471f-b65b-009c03d90046",
   "metadata": {},
   "outputs": [
    {
     "data": {
      "text/html": [
       "<div>\n",
       "<style scoped>\n",
       "    .dataframe tbody tr th:only-of-type {\n",
       "        vertical-align: middle;\n",
       "    }\n",
       "\n",
       "    .dataframe tbody tr th {\n",
       "        vertical-align: top;\n",
       "    }\n",
       "\n",
       "    .dataframe thead th {\n",
       "        text-align: right;\n",
       "    }\n",
       "</style>\n",
       "<table border=\"1\" class=\"dataframe\">\n",
       "  <thead>\n",
       "    <tr style=\"text-align: right;\">\n",
       "      <th>location</th>\n",
       "      <th>BETR801</th>\n",
       "      <th>FR04014</th>\n",
       "      <th>London Westminster</th>\n",
       "    </tr>\n",
       "    <tr>\n",
       "      <th>datetime</th>\n",
       "      <th></th>\n",
       "      <th></th>\n",
       "      <th></th>\n",
       "    </tr>\n",
       "  </thead>\n",
       "  <tbody>\n",
       "    <tr>\n",
       "      <th>2019-05-31 00:00:00+00:00</th>\n",
       "      <td>74.5</td>\n",
       "      <td>97.0</td>\n",
       "      <td>97.0</td>\n",
       "    </tr>\n",
       "    <tr>\n",
       "      <th>2019-06-30 00:00:00+00:00</th>\n",
       "      <td>52.5</td>\n",
       "      <td>84.7</td>\n",
       "      <td>52.0</td>\n",
       "    </tr>\n",
       "  </tbody>\n",
       "</table>\n",
       "</div>"
      ],
      "text/plain": [
       "location                   BETR801  FR04014  London Westminster\n",
       "datetime                                                       \n",
       "2019-05-31 00:00:00+00:00     74.5     97.0                97.0\n",
       "2019-06-30 00:00:00+00:00     52.5     84.7                52.0"
      ]
     },
     "execution_count": 23,
     "metadata": {},
     "output_type": "execute_result"
    }
   ],
   "source": [
    "monthly_max = no_2.resample(\"M\").max()\n",
    "monthly_max"
   ]
  },
  {
   "cell_type": "code",
   "execution_count": null,
   "id": "e0c36d95-b3d1-4ab3-9ffd-6c442be044a9",
   "metadata": {},
   "outputs": [],
   "source": []
  }
 ],
 "metadata": {
  "kernelspec": {
   "display_name": "Python 3",
   "language": "python",
   "name": "python3"
  },
  "language_info": {
   "codemirror_mode": {
    "name": "ipython",
    "version": 3
   },
   "file_extension": ".py",
   "mimetype": "text/x-python",
   "name": "python",
   "nbconvert_exporter": "python",
   "pygments_lexer": "ipython3",
   "version": "3.8.8"
  }
 },
 "nbformat": 4,
 "nbformat_minor": 5
}
