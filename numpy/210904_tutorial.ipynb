{
 "cells": [
  {
   "cell_type": "code",
   "execution_count": 119,
   "source": [
    "# https://deepage.net/features/numpy-numpy.html\n",
    "import sys\n",
    "import numpy as np\n",
    "import matplotlib.pyplot as plt\n",
    "\n",
    "print(f\"Python version: {sys.version}\")\n",
    "print(f\"NumPy version: {np.version.version}\")"
   ],
   "outputs": [
    {
     "output_type": "stream",
     "name": "stdout",
     "text": [
      "Python version: 3.9.7 (default, Sep  3 2021, 17:59:42) \n",
      "[Clang 12.0.5 (clang-1205.0.19.34)]\n",
      "NumPy version: 1.21.2\n"
     ]
    }
   ],
   "metadata": {}
  },
  {
   "cell_type": "code",
   "execution_count": 10,
   "source": [
    "np.arange(10)"
   ],
   "outputs": [
    {
     "output_type": "execute_result",
     "data": {
      "text/plain": [
       "array([0, 1, 2, 3, 4, 5, 6, 7, 8, 9])"
      ]
     },
     "metadata": {},
     "execution_count": 10
    }
   ],
   "metadata": {}
  },
  {
   "cell_type": "code",
   "execution_count": 12,
   "source": [
    "# 始点, 終点, 間隔\n",
    "np.arange(0, 10, 2)"
   ],
   "outputs": [
    {
     "output_type": "execute_result",
     "data": {
      "text/plain": [
       "array([0, 2, 4, 6, 8])"
      ]
     },
     "metadata": {},
     "execution_count": 12
    }
   ],
   "metadata": {}
  },
  {
   "cell_type": "code",
   "execution_count": 36,
   "source": [
    "# https://deepage.net/features/numpy-arange.html\n",
    "# numpy.arange(start=0, stop, step=1, dtype=None)\n",
    "# params:\n",
    "#   start: 最初の項\n",
    "#   stop: 最後の項\n",
    "#   step: 公差\n",
    "#   dtype: 生成する数列のデータ型（指定しない場合は start や stop で入力したデータ型）\n",
    "# returns:\n",
    "#   step で指定した公差を持つ等差数列を要素とする ndarray\n",
    "\n",
    "# 0 - 5 の公差1の等差数列 (stop=5 は含まない)\n",
    "print(np.arange(5))\n",
    "print(np.linspace(0, 1))  # num は初期値 50\n",
    "# 負の値を指定すると、要素を持たない ndarray が生成される\n",
    "print(np.arange(-10))\n",
    "print(np.linspace(0, -2, 3))  # 負の値も OK\n",
    "# stop に float を指定すると float 型の要素を持つ ndarray が生成される\n",
    "print(np.arange(4.5))\n",
    "\n",
    "print(np.linspace(0, 2, num=3, endpoint=False))  # 終点(2)を含まない\n",
    "print(\"- - - 初項を指定 - - -\")\n",
    "print(np.arange(1, 8))\n",
    "print(np.arange(2, 10))\n",
    "print(np.linspace(0, 1, retstep=True))  # 公差を表示\n",
    "print(np.arange(0.55, 5.55))\n",
    "\n",
    "# 公差を指定\n",
    "print(\"- - - 公差を指定 - - -\")\n",
    "print(\n",
    "    np.linspace(0, 2, num=3, dtype=\"int\"), np.linspace(0, 2, num=3, dtype=\"int\").dtype\n",
    ")\n",
    "print(np.arange(2, 5, 0.5)) # float も OK\n",
    "print(np.arange(5, 2, -1))  # 負の値も OK\n",
    "print(np.arange(2, 5, -1))  # 範囲指定を誤ると空の ndarray が生成\n",
    "# print(np.arange(start = 3, step=1))  # stop を指定しないとエラーに\n",
    "\n",
    "# データ型を指定\n",
    "print(\"- - - データ型を指定 - - -\")\n",
    "print(np.arange(5, dtype='float64'))\n",
    "print(np.arange(5.0, dtype='int'))\n",
    "print(np.arange(0, 5, 0.5))\n",
    "print(np.arange(0, 5, 0.5, dtype='int')) # dtype に int を指定すると公差の小数点以下は切り捨て\n",
    "print(np.arange(0, 5, 1.5, dtype='int')) # ただし、生成される数列の範囲は元の公差に影響される"
   ],
   "outputs": [
    {
     "output_type": "stream",
     "name": "stdout",
     "text": [
      "[0 1 2 3 4]\n",
      "[]\n",
      "[0. 1. 2. 3. 4.]\n",
      "- - - 初項を指定 - - -\n",
      "[1 2 3 4 5 6 7]\n",
      "[2 3 4 5 6 7 8 9]\n",
      "[0.5 1.5 2.5 3.5 4.5]\n",
      "[0.55 1.55 2.55 3.55 4.55]\n",
      "- - - 公差を指定 - - -\n",
      "[ 2  4  6  8 10]\n",
      "[2.  2.5 3.  3.5 4.  4.5]\n",
      "[5 4 3]\n",
      "[]\n",
      "- - - データ型を指定 - - -\n",
      "[0. 1. 2. 3. 4.]\n",
      "[0 1 2 3 4]\n",
      "[0.  0.5 1.  1.5 2.  2.5 3.  3.5 4.  4.5]\n",
      "[0 0 0 0 0 0 0 0 0 0]\n",
      "[0 1 2 3]\n"
     ]
    }
   ],
   "metadata": {}
  },
  {
   "cell_type": "code",
   "execution_count": 53,
   "source": [
    "# https://deepage.net/features/numpy-linspace.html\n",
    "# numpy.linspace(start, stop, num=50, endpoint=True, retstep=False, dtype=None)\n",
    "# params:\n",
    "#   start: 数列の始点\n",
    "#   stop: 数列の終点\n",
    "#   num: 生成する ndarray の要素数 (初期値 50)\n",
    "#   endpoint: stop を要素に含むか (初期値 True)\n",
    "#   retstep: ndarray の後に公差を表示するかa (初期値 True)\n",
    "#   dtype: ndarray のデータ型 (指定しない場合は基本 float)\n",
    "# returns:\n",
    "#   num 等分された等差数列を要素とする ndarray\n",
    "\n",
    "print(np.linspace(0, 1))     # num は初期値 50\n",
    "print(np.linspace(0, 49))\n",
    "print(np.linspace(0, 2, 3))  # 0-2 の範囲を 3 等分 (0, 1, 2)\n",
    "print(np.linspace(0, -2, 3)) # 負の値も OK\n",
    "\n",
    "# endpoint を指定\n",
    "print(\"- - - endpoint を指定 - - -\")\n",
    "print(np.linspace(0, 2, num=3, endpoint=False)) # 終点(2)を含まない\n",
    "\n",
    "# retstep を指定\n",
    "print(\"- - - retstep を指定 - - -\")\n",
    "print(np.linspace(0, 1, retstep=True)) # 公差を表示\n",
    "\n",
    "# dtype を指定\n",
    "print(\"- - - dtype を指定 - - -\")\n",
    "print(np.linspace(0, 2, num=3), np.linspace(0, 2, num=3).dtype)\n",
    "print(np.linspace(0, 2, num=3, dtype='int'), np.linspace(0, 2, num=3, dtype='int').dtype)"
   ],
   "outputs": [
    {
     "output_type": "stream",
     "name": "stdout",
     "text": [
      "[0.         0.02040816 0.04081633 0.06122449 0.08163265 0.10204082\n",
      " 0.12244898 0.14285714 0.16326531 0.18367347 0.20408163 0.2244898\n",
      " 0.24489796 0.26530612 0.28571429 0.30612245 0.32653061 0.34693878\n",
      " 0.36734694 0.3877551  0.40816327 0.42857143 0.44897959 0.46938776\n",
      " 0.48979592 0.51020408 0.53061224 0.55102041 0.57142857 0.59183673\n",
      " 0.6122449  0.63265306 0.65306122 0.67346939 0.69387755 0.71428571\n",
      " 0.73469388 0.75510204 0.7755102  0.79591837 0.81632653 0.83673469\n",
      " 0.85714286 0.87755102 0.89795918 0.91836735 0.93877551 0.95918367\n",
      " 0.97959184 1.        ]\n",
      "[ 0.  1.  2.  3.  4.  5.  6.  7.  8.  9. 10. 11. 12. 13. 14. 15. 16. 17.\n",
      " 18. 19. 20. 21. 22. 23. 24. 25. 26. 27. 28. 29. 30. 31. 32. 33. 34. 35.\n",
      " 36. 37. 38. 39. 40. 41. 42. 43. 44. 45. 46. 47. 48. 49.]\n",
      "[0. 1. 2.]\n",
      "[ 0. -1. -2.]\n",
      "- - - endpoint を指定 - - -\n",
      "[0.         0.66666667 1.33333333]\n",
      "- - - retstep を指定 - - -\n",
      "(array([0.        , 0.02040816, 0.04081633, 0.06122449, 0.08163265,\n",
      "       0.10204082, 0.12244898, 0.14285714, 0.16326531, 0.18367347,\n",
      "       0.20408163, 0.2244898 , 0.24489796, 0.26530612, 0.28571429,\n",
      "       0.30612245, 0.32653061, 0.34693878, 0.36734694, 0.3877551 ,\n",
      "       0.40816327, 0.42857143, 0.44897959, 0.46938776, 0.48979592,\n",
      "       0.51020408, 0.53061224, 0.55102041, 0.57142857, 0.59183673,\n",
      "       0.6122449 , 0.63265306, 0.65306122, 0.67346939, 0.69387755,\n",
      "       0.71428571, 0.73469388, 0.75510204, 0.7755102 , 0.79591837,\n",
      "       0.81632653, 0.83673469, 0.85714286, 0.87755102, 0.89795918,\n",
      "       0.91836735, 0.93877551, 0.95918367, 0.97959184, 1.        ]), 0.02040816326530612)\n",
      "- - - dtype を指定 - - -\n",
      "[0. 1. 2.] float64\n",
      "[0 1 2] int64\n"
     ]
    }
   ],
   "metadata": {}
  },
  {
   "cell_type": "code",
   "execution_count": 70,
   "source": [
    "# https://deepage.net/features/numpy-reshape.html\n",
    "# numpy.reshape(a, newshape, order='C')\n",
    "# params:\n",
    "#   a: 変換元の ndarray\n",
    "#   newshape: 変換後の ndarray の形状 (int または int のタプルかリスト)\n",
    "#   order: インデックスを読み込むモード ('C' または 'F' または 'A')\n",
    "# returns:\n",
    "#   形状変換後の ndarray\n",
    "\n",
    "a = np.arange(12)\n",
    "print(a)\n",
    "b = np.reshape(a, (3, 4))\n",
    "print(b)\n",
    "\n",
    "# reshape 前、reshape 後の ndarray は共有されている (メモリ上は同じデータ)\n",
    "print(\"- - - reshape 前後の ndarray は共有されている - - -\")\n",
    "b[0, 1] = 0\n",
    "print(a)\n",
    "print(b)\n",
    "\n",
    "# -1 を使用すると元の要素数に合わせて適切な値が設定される\n",
    "print(\"- - - -1 を使用すると元の要素数に合わせて適切な値が設定される - - -\")\n",
    "print(np.reshape(a, (-1, 3)))\n",
    "\n",
    "# 変換前と変換後で、要素数が一致しない場合は ValueError の例外が発生\n",
    "print(\"- - - 変換前と変換後で、要素数が一致しない場合は ValueError の例外が発生 - - -\")\n",
    "print(np.reshape(a, (3, 5)))\n"
   ],
   "outputs": [
    {
     "output_type": "stream",
     "name": "stdout",
     "text": [
      "[ 0  1  2  3  4  5  6  7  8  9 10 11]\n",
      "[[ 0  1  2  3]\n",
      " [ 4  5  6  7]\n",
      " [ 8  9 10 11]]\n",
      "- - - reshape 前後の ndarray は共有されている - - -\n",
      "[ 0  0  2  3  4  5  6  7  8  9 10 11]\n",
      "[[ 0  0  2  3]\n",
      " [ 4  5  6  7]\n",
      " [ 8  9 10 11]]\n",
      "- - - -1 を使用すると元の要素数に合わせて適切な値が設定される - - -\n",
      "[[ 0  0  2]\n",
      " [ 3  4  5]\n",
      " [ 6  7  8]\n",
      " [ 9 10 11]]\n",
      "- - - 変換前と変換後で、要素数が一致しない場合は ValueError の例外が発生 - - -\n"
     ]
    },
    {
     "output_type": "error",
     "ename": "ValueError",
     "evalue": "cannot reshape array of size 12 into shape (3,5)",
     "traceback": [
      "\u001b[0;31m---------------------------------------------------------------------------\u001b[0m",
      "\u001b[0;31mValueError\u001b[0m                                Traceback (most recent call last)",
      "\u001b[0;32m/var/folders/rl/kr4qkxgn0b37ktnfdb9_cbhh0000gn/T/ipykernel_13807/3517920166.py\u001b[0m in \u001b[0;36m<module>\u001b[0;34m\u001b[0m\n\u001b[1;32m     24\u001b[0m \u001b[0;31m# 変換前と変換後で、要素数が一致しない場合は ValueError の例外が発生\u001b[0m\u001b[0;34m\u001b[0m\u001b[0;34m\u001b[0m\u001b[0m\n\u001b[1;32m     25\u001b[0m \u001b[0mprint\u001b[0m\u001b[0;34m(\u001b[0m\u001b[0;34m\"- - - 変換前と変換後で、要素数が一致しない場合は ValueError の例外が発生 - - -\"\u001b[0m\u001b[0;34m)\u001b[0m\u001b[0;34m\u001b[0m\u001b[0;34m\u001b[0m\u001b[0m\n\u001b[0;32m---> 26\u001b[0;31m \u001b[0mprint\u001b[0m\u001b[0;34m(\u001b[0m\u001b[0mnp\u001b[0m\u001b[0;34m.\u001b[0m\u001b[0mreshape\u001b[0m\u001b[0;34m(\u001b[0m\u001b[0ma\u001b[0m\u001b[0;34m,\u001b[0m \u001b[0;34m(\u001b[0m\u001b[0;36m3\u001b[0m\u001b[0;34m,\u001b[0m \u001b[0;36m5\u001b[0m\u001b[0;34m)\u001b[0m\u001b[0;34m)\u001b[0m\u001b[0;34m)\u001b[0m\u001b[0;34m\u001b[0m\u001b[0;34m\u001b[0m\u001b[0m\n\u001b[0m",
      "\u001b[0;32m<__array_function__ internals>\u001b[0m in \u001b[0;36mreshape\u001b[0;34m(*args, **kwargs)\u001b[0m\n",
      "\u001b[0;32m~/.pyenv/versions/3.9.7/lib/python3.9/site-packages/numpy/core/fromnumeric.py\u001b[0m in \u001b[0;36mreshape\u001b[0;34m(a, newshape, order)\u001b[0m\n\u001b[1;32m    296\u001b[0m            [5, 6]])\n\u001b[1;32m    297\u001b[0m     \"\"\"\n\u001b[0;32m--> 298\u001b[0;31m     \u001b[0;32mreturn\u001b[0m \u001b[0m_wrapfunc\u001b[0m\u001b[0;34m(\u001b[0m\u001b[0ma\u001b[0m\u001b[0;34m,\u001b[0m \u001b[0;34m'reshape'\u001b[0m\u001b[0;34m,\u001b[0m \u001b[0mnewshape\u001b[0m\u001b[0;34m,\u001b[0m \u001b[0morder\u001b[0m\u001b[0;34m=\u001b[0m\u001b[0morder\u001b[0m\u001b[0;34m)\u001b[0m\u001b[0;34m\u001b[0m\u001b[0;34m\u001b[0m\u001b[0m\n\u001b[0m\u001b[1;32m    299\u001b[0m \u001b[0;34m\u001b[0m\u001b[0m\n\u001b[1;32m    300\u001b[0m \u001b[0;34m\u001b[0m\u001b[0m\n",
      "\u001b[0;32m~/.pyenv/versions/3.9.7/lib/python3.9/site-packages/numpy/core/fromnumeric.py\u001b[0m in \u001b[0;36m_wrapfunc\u001b[0;34m(obj, method, *args, **kwds)\u001b[0m\n\u001b[1;32m     55\u001b[0m \u001b[0;34m\u001b[0m\u001b[0m\n\u001b[1;32m     56\u001b[0m     \u001b[0;32mtry\u001b[0m\u001b[0;34m:\u001b[0m\u001b[0;34m\u001b[0m\u001b[0;34m\u001b[0m\u001b[0m\n\u001b[0;32m---> 57\u001b[0;31m         \u001b[0;32mreturn\u001b[0m \u001b[0mbound\u001b[0m\u001b[0;34m(\u001b[0m\u001b[0;34m*\u001b[0m\u001b[0margs\u001b[0m\u001b[0;34m,\u001b[0m \u001b[0;34m**\u001b[0m\u001b[0mkwds\u001b[0m\u001b[0;34m)\u001b[0m\u001b[0;34m\u001b[0m\u001b[0;34m\u001b[0m\u001b[0m\n\u001b[0m\u001b[1;32m     58\u001b[0m     \u001b[0;32mexcept\u001b[0m \u001b[0mTypeError\u001b[0m\u001b[0;34m:\u001b[0m\u001b[0;34m\u001b[0m\u001b[0;34m\u001b[0m\u001b[0m\n\u001b[1;32m     59\u001b[0m         \u001b[0;31m# A TypeError occurs if the object does have such a method in its\u001b[0m\u001b[0;34m\u001b[0m\u001b[0;34m\u001b[0m\u001b[0m\n",
      "\u001b[0;31mValueError\u001b[0m: cannot reshape array of size 12 into shape (3,5)"
     ]
    }
   ],
   "metadata": {}
  },
  {
   "cell_type": "code",
   "execution_count": 85,
   "source": [
    "# https://deepage.net/features/numpy-transpose.html\n",
    "# numpy.ndarray.transpose(axes)\n",
    "# params:\n",
    "#   axes: 転置を行った後の軸(axis)の入れ替え型を指定 (int のタプルまたは n 個の並んだ int)\n",
    "#         指定しない場合は軸の順番を逆にした ndarray を返す\n",
    "# returns:\n",
    "#   指定された軸の入れ替え(転置)を行った ndarray\n",
    "\n",
    "print(\"- - - 2次元配列 - - -\")\n",
    "a = np.arange(12).reshape(3, 4)\n",
    "print(\"- - - a - - -\")\n",
    "print(a)\n",
    "print(\"- - - a.transpose() - - -\")\n",
    "print(a.transpose())\n",
    "print(\"- - - a.transpose(1, 0) - - -\")\n",
    "print(a.transpose(1, 0))\n",
    "print(\"- - - a.transpose((1, 0)) - - -\")\n",
    "print(a.transpose((1, 0)))\n",
    "print(\"- - - 3次元配列 - - -\")\n",
    "c = np.arange(24).reshape(4, 3, 2)\n",
    "print(\"- - - c - - -\")\n",
    "print(c)\n",
    "print(\"- - - c.transpose() - - -\")\n",
    "print(c.transpose())\n",
    "print(\"- - - c.transpose(1, 0, 2) - - -\")\n",
    "print(c.transpose(1, 0, 2))\n",
    "print(\"- - - c.T == c.transpose() - - -\")\n",
    "print(c.T == c.transpose())"
   ],
   "outputs": [
    {
     "output_type": "stream",
     "name": "stdout",
     "text": [
      "- - - 2次元配列 - - -\n",
      "- - - a - - -\n",
      "[[ 0  1  2  3]\n",
      " [ 4  5  6  7]\n",
      " [ 8  9 10 11]]\n",
      "- - - a.transpose() - - -\n",
      "[[ 0  4  8]\n",
      " [ 1  5  9]\n",
      " [ 2  6 10]\n",
      " [ 3  7 11]]\n",
      "- - - a.transpose(1, 0) - - -\n",
      "[[ 0  4  8]\n",
      " [ 1  5  9]\n",
      " [ 2  6 10]\n",
      " [ 3  7 11]]\n",
      "- - - a.transpose((1, 0)) - - -\n",
      "[[ 0  4  8]\n",
      " [ 1  5  9]\n",
      " [ 2  6 10]\n",
      " [ 3  7 11]]\n",
      "- - - 3次元配列 - - -\n",
      "- - - c - - -\n",
      "[[[ 0  1]\n",
      "  [ 2  3]\n",
      "  [ 4  5]]\n",
      "\n",
      " [[ 6  7]\n",
      "  [ 8  9]\n",
      "  [10 11]]\n",
      "\n",
      " [[12 13]\n",
      "  [14 15]\n",
      "  [16 17]]\n",
      "\n",
      " [[18 19]\n",
      "  [20 21]\n",
      "  [22 23]]]\n",
      "- - - c.transpose() - - -\n",
      "[[[ 0  6 12 18]\n",
      "  [ 2  8 14 20]\n",
      "  [ 4 10 16 22]]\n",
      "\n",
      " [[ 1  7 13 19]\n",
      "  [ 3  9 15 21]\n",
      "  [ 5 11 17 23]]]\n",
      "- - - c.transpose(1, 0, 2) - - -\n",
      "[[[ 0  1]\n",
      "  [ 6  7]\n",
      "  [12 13]\n",
      "  [18 19]]\n",
      "\n",
      " [[ 2  3]\n",
      "  [ 8  9]\n",
      "  [14 15]\n",
      "  [20 21]]\n",
      "\n",
      " [[ 4  5]\n",
      "  [10 11]\n",
      "  [16 17]\n",
      "  [22 23]]]\n",
      "- - - c.T == c.transpose() - - -\n",
      "[[[ True  True  True  True]\n",
      "  [ True  True  True  True]\n",
      "  [ True  True  True  True]]\n",
      "\n",
      " [[ True  True  True  True]\n",
      "  [ True  True  True  True]\n",
      "  [ True  True  True  True]]]\n"
     ]
    }
   ],
   "metadata": {}
  },
  {
   "cell_type": "code",
   "execution_count": 105,
   "source": [
    "# https://deepage.net/features/numpy-random.html\n",
    "# numpy.random.xxx を使った配列操作・乱数生成\n",
    "\n",
    "np.random.seed(42) # 乱数を固定\n",
    "print(np.random.rand())      # 標準正規分布に従った値を返す (引数を指定しない場合は1つ値を返す)\n",
    "print(np.random.rand(2, 3))  # 2x3 の乱数配列\n",
    "print(np.random.randint(10)) # 0-9 のランダムな整数を返す\n",
    "print(np.random.randint(10, size=(2, 3))) # size に返す ndarray の形状を代入\n",
    "print(np.random.randint(5, 10, size=10))  # 5以上10未満のランダムな整数を 10 個要素を持つ1次元の ndarray で返す\n",
    "print((10 - 5) * np.random.rand(3) + 5)   # (b-a)*np.random.rand(n)+a でa以上b未満の範囲でn個要素を持つ ndarray を返す"
   ],
   "outputs": [
    {
     "output_type": "stream",
     "name": "stdout",
     "text": [
      "0.3745401188473625\n",
      "[[0.95071431 0.73199394 0.59865848]\n",
      " [0.15601864 0.15599452 0.05808361]]\n",
      "7\n",
      "[[4 3 7]\n",
      " [7 2 5]]\n",
      "[9 6 8 6 8 9 5 8 6 9]\n",
      "[7.15972509 6.4561457  8.05926447]\n"
     ]
    }
   ],
   "metadata": {}
  },
  {
   "cell_type": "code",
   "execution_count": 112,
   "source": [
    "# リストからのランダムな抽出\n",
    "a = ['Python', 'Ruby', 'Java', 'JavaScript', 'PHP']\n",
    "print(np.random.choice(a, 3)) # a から 3 つの要素をランダムに取り出す\n",
    "print(np.random.choice(a, 3, replace=False)) # 重複なしで取り出す\n",
    "print(np.random.choice(a, 10, p = [0.8, 0.05, 0.05, 0.05, 0.05])) # 取り出す値の頻度を変える (pの合計は1でないとValueError) \n",
    "print(np.random.choice(5, 10)) # 第1引数に整数を渡すと np.arange(n) で生成されるリストが渡される"
   ],
   "outputs": [
    {
     "output_type": "stream",
     "name": "stdout",
     "text": [
      "['Ruby' 'Java' 'Python']\n",
      "['JavaScript' 'Java' 'Python']\n",
      "['Python' 'Python' 'Python' 'Python' 'JavaScript' 'Python' 'Python'\n",
      " 'Python' 'Python' 'Python']\n",
      "[2 2 3 1 1 4 0 4 3 3]\n"
     ]
    }
   ],
   "metadata": {}
  },
  {
   "cell_type": "code",
   "execution_count": 117,
   "source": [
    "# リストのシャッフル\n",
    "a = np.arange(10)\n",
    "print(a)\n",
    "np.random.shuffle(a) # 新しいリストを作成するのではなく、リストの中身が変更される\n",
    "print(a)"
   ],
   "outputs": [
    {
     "output_type": "stream",
     "name": "stdout",
     "text": [
      "[0 1 2 3 4 5 6 7 8 9]\n",
      "[9 6 4 3 5 1 8 2 0 7]\n"
     ]
    }
   ],
   "metadata": {}
  },
  {
   "cell_type": "code",
   "execution_count": 126,
   "source": [
    "# 正規分布に従った乱数の生成\n",
    "\n",
    "n = 100000\n",
    "\n",
    "# 標準正規分布\n",
    "plt.hist(np.random.randn(n))\n",
    "\n",
    "# 平均 1、標準偏差 0.4 の正規分布\n",
    "plt.hist(np.random.normal(loc=1, scale=0.4, size=n))"
   ],
   "outputs": [
    {
     "output_type": "execute_result",
     "data": {
      "text/plain": [
       "(array([1.5000e+01, 3.1500e+02, 2.8580e+03, 1.3390e+04, 2.9908e+04,\n",
       "        3.1978e+04, 1.6703e+04, 4.2740e+03, 5.2100e+02, 3.8000e+01]),\n",
       " array([-0.78911231, -0.43826994, -0.08742757,  0.2634148 ,  0.61425717,\n",
       "         0.96509954,  1.31594191,  1.66678428,  2.01762665,  2.36846902,\n",
       "         2.71931139]),\n",
       " <BarContainer object of 10 artists>)"
      ]
     },
     "metadata": {},
     "execution_count": 126
    },
    {
     "output_type": "display_data",
     "data": {
      "image/png": "[encoded data removed]",
      "text/plain": [
       "<Figure size 432x288 with 1 Axes>"
      ]
     },
     "metadata": {
      "needs_background": "light"
     }
    }
   ],
   "metadata": {}
  }
 ],
 "metadata": {
  "orig_nbformat": 4,
  "language_info": {
   "name": "python",
   "version": "3.9.7",
   "mimetype": "text/x-python",
   "codemirror_mode": {
    "name": "ipython",
    "version": 3
   },
   "pygments_lexer": "ipython3",
   "nbconvert_exporter": "python",
   "file_extension": ".py"
  },
  "kernelspec": {
   "name": "python3",
   "display_name": "Python 3.9.7 64-bit ('3.9.7': pyenv)"
  },
  "interpreter": {
   "hash": "547c98e2d128f0d954a25014c53f40094ed93b4078667c378730fcf6748ca4ce"
  }
 },
 "nbformat": 4,
 "nbformat_minor": 2
}