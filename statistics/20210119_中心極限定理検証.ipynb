{
 "cells": [
  {
   "cell_type": "code",
   "execution_count": null,
   "metadata": {},
   "outputs": [],
   "source": [
    "import random\n",
    "import numpy as np\n",
    "import pandas as pd\n",
    "import matplotlib.pyplot as plt"
   ]
  },
  {
   "cell_type": "markdown",
   "metadata": {},
   "source": [
    "## 標準偏差\n",
    "\n",
    "- 母集団の標準偏差 $\\sigma = \\sqrt{\\frac{1}{n}\\sum_{i = 1}^n {(x_i - \\overline{x})^2}}$\n",
    "- 標本の標準偏差  $s = \\sqrt{\\frac{1}{n}\\sum_{i = 1}^n {(x_i - \\overline{x})^2}}$\n",
    "\n",
    "## 中心極限定理\n",
    "\n",
    "- $n$ 個の標本平均の確率分布は、$n$ が十分に大きければ平均$μ$、分散$\\frac{\\sigma^2}{n}$の正規分布に近似できる。\n"
   ]
  },
  {
   "cell_type": "code",
   "execution_count": 38,
   "metadata": {},
   "outputs": [
    {
     "name": "stdout",
     "output_type": "stream",
     "text": [
      "平均x: 3.526, 標本の標準偏差s: 1.1888330412635746\n"
     ]
    },
    {
     "data": {
      "image/png": "[encoded data removed]",
      "text/plain": [
       "<Figure size 432x288 with 1 Axes>"
      ]
     },
     "metadata": {
      "needs_background": "light"
     },
     "output_type": "display_data"
    }
   ],
   "source": [
    "# n回さいころを振った時の平均値を計算する\n",
    "def calcNTimesMean(n):\n",
    "\n",
    "    # さいころの値をランダムに取得する\n",
    "    def getDiceNumber():\n",
    "        return random.randint(1, 6)\n",
    "    \n",
    "    dices = [getDiceNumber() for _ in range(n)]\n",
    "    return np.mean(dices)\n",
    "\n",
    "# 2個のさいころを振ったときの平均値を1000回計算\n",
    "data_1 = [calcNTimesMean(2) for _ in range(1000)]\n",
    "plt.hist(data_1, bins=11)\n",
    "\n",
    "print(f'平均x: {np.mean(data_1)}, 標本の標準偏差s: {np.std(data_1)}')"
   ]
  },
  {
   "cell_type": "code",
   "execution_count": 51,
   "metadata": {},
   "outputs": [
    {
     "name": "stdout",
     "output_type": "stream",
     "text": [
      "平均x: 3.5397, 標本の標準偏差s: 0.5333797052757069\n"
     ]
    },
    {
     "data": {
      "image/png": "[encoded data removed]",
      "text/plain": [
       "<Figure size 432x288 with 1 Axes>"
      ]
     },
     "metadata": {
      "needs_background": "light"
     },
     "output_type": "display_data"
    }
   ],
   "source": [
    "# 10個のさいころを振ったときの平均値を1000回計算\n",
    "data_2 = [calcNTimesMean(10) for _ in range(1000)]\n",
    "plt.hist(data_2, bins=20)\n",
    "print(f'平均x: {np.mean(data_2)}, 標本の標準偏差s: {np.std(data_2)}')"
   ]
  },
  {
   "cell_type": "code",
   "execution_count": 48,
   "metadata": {},
   "outputs": [
    {
     "name": "stdout",
     "output_type": "stream",
     "text": [
      "平均x: 3.4939, 標本の標準偏差s: 0.16898044265535583\n"
     ]
    },
    {
     "data": {
      "image/png": "[encoded data removed]",
      "text/plain": [
       "<Figure size 432x288 with 1 Axes>"
      ]
     },
     "metadata": {
      "needs_background": "light"
     },
     "output_type": "display_data"
    }
   ],
   "source": [
    "# 100個のさいころを振ったときの平均値を1000回計算\n",
    "data_3 = [calcNTimesMean(100) for _ in range(1000)]\n",
    "plt.hist(data_3, bins=20)\n",
    "print(f'平均x: {np.mean(data_3)}, 標本の標準偏差s: {np.std(data_3)}')"
   ]
  },
  {
   "cell_type": "code",
   "execution_count": 49,
   "metadata": {},
   "outputs": [
    {
     "name": "stdout",
     "output_type": "stream",
     "text": [
      "平均x: 3.4979129999999996, 標本の標準偏差s: 0.052607617613801894\n"
     ]
    },
    {
     "data": {
      "image/png": "[encoded data removed]",
      "text/plain": [
       "<Figure size 432x288 with 1 Axes>"
      ]
     },
     "metadata": {
      "needs_background": "light"
     },
     "output_type": "display_data"
    }
   ],
   "source": [
    "# 1000個のさいころを振ったときの平均値を1000回計算\n",
    "data_4 = [calcNTimesMean(1000) for _ in range(1000)]\n",
    "plt.hist(data_4, bins=20)\n",
    "print(f'平均x: {np.mean(data_4)}, 標本の標準偏差s: {np.std(data_4)}')"
   ]
  },
  {
   "cell_type": "code",
   "execution_count": null,
   "metadata": {},
   "outputs": [],
   "source": []
  }
 ],
 "metadata": {
  "kernelspec": {
   "display_name": "Python 3",
   "language": "python",
   "name": "python3"
  },
  "language_info": {
   "codemirror_mode": {
    "name": "ipython",
    "version": 3
   },
   "file_extension": ".py",
   "mimetype": "text/x-python",
   "name": "python",
   "nbconvert_exporter": "python",
   "pygments_lexer": "ipython3",
   "version": "3.8.8"
  }
 },
 "nbformat": 4,
 "nbformat_minor": 4
}
