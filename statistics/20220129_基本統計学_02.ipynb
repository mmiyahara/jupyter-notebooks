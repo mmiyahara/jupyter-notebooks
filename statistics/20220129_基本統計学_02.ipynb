{
 "cells": [
  {
   "cell_type": "code",
   "execution_count": null,
   "metadata": {},
   "outputs": [],
   "source": [
    "import numpy as np\n",
    "import pandas as pd"
   ]
  },
  {
   "cell_type": "markdown",
   "metadata": {},
   "source": [
    "### 2.1"
   ]
  },
  {
   "cell_type": "code",
   "execution_count": 14,
   "metadata": {},
   "outputs": [
    {
     "data": {
      "text/html": [
       "<div>\n",
       "<style scoped>\n",
       "    .dataframe tbody tr th:only-of-type {\n",
       "        vertical-align: middle;\n",
       "    }\n",
       "\n",
       "    .dataframe tbody tr th {\n",
       "        vertical-align: top;\n",
       "    }\n",
       "\n",
       "    .dataframe thead th {\n",
       "        text-align: right;\n",
       "    }\n",
       "</style>\n",
       "<table border=\"1\" class=\"dataframe\">\n",
       "  <thead>\n",
       "    <tr style=\"text-align: right;\">\n",
       "      <th></th>\n",
       "      <th>平均値</th>\n",
       "      <th>範囲</th>\n",
       "      <th>分散</th>\n",
       "      <th>標準偏差</th>\n",
       "      <th>変動係数</th>\n",
       "    </tr>\n",
       "  </thead>\n",
       "  <tbody>\n",
       "    <tr>\n",
       "      <th>E市</th>\n",
       "      <td>326.0</td>\n",
       "      <td>180 〜 510</td>\n",
       "      <td>12384.0</td>\n",
       "      <td>111.283422</td>\n",
       "      <td>0.341360</td>\n",
       "    </tr>\n",
       "    <tr>\n",
       "      <th>F市</th>\n",
       "      <td>644.0</td>\n",
       "      <td>420 〜 890</td>\n",
       "      <td>19884.0</td>\n",
       "      <td>141.010638</td>\n",
       "      <td>0.218961</td>\n",
       "    </tr>\n",
       "  </tbody>\n",
       "</table>\n",
       "</div>"
      ],
      "text/plain": [
       "      平均値         範囲       分散        標準偏差      変動係数\n",
       "E市  326.0  180 〜 510  12384.0  111.283422  0.341360\n",
       "F市  644.0  420 〜 890  19884.0  141.010638  0.218961"
      ]
     },
     "metadata": {},
     "output_type": "display_data"
    }
   ],
   "source": [
    "e = np.array([180, 190, 200, 250, 320, 350, 400, 410, 450, 510])\n",
    "f = np.array([420, 480, 530, 580, 600, 680, 700, 760, 800, 890])\n",
    "\n",
    "e_mean, e_min, e_max, e_var, e_std = (e.mean(), e.min(), e.max(), e.var(), e.std())\n",
    "f_mean, f_min, f_max, f_var, f_std = (f.mean(), f.min(), f.max(), f.var(), f.std())\n",
    "\n",
    "result = pd.DataFrame({\n",
    "    \"平均値\": [e_mean, f_mean],\n",
    "    \"範囲\": [f\"{e_max - e_min}\", f\"{f_max - f_min}\"],\n",
    "    \"分散\": [e_var, f_var],\n",
    "    \"標準偏差\": [e_std, f_std],\n",
    "    \"変動係数\": [e_std / e_mean, f_std / f_mean]\n",
    "}, index=[\"E市\", \"F市\"])\n",
    "display(result)"
   ]
  },
  {
   "cell_type": "markdown",
   "metadata": {},
   "source": [
    "変動係数から、E市で選択された家計の方が、年間所得の散らばり具合は大きいといえる。(④)  \n",
    "E市における 700 万円の所得と F 市における 1000 万円の所得の世帯では、  \n",
    "どちらのほうが相対的に上位の所得階層に属するかを調べるため、標準化する。"
   ]
  },
  {
   "cell_type": "code",
   "execution_count": 18,
   "metadata": {},
   "outputs": [
    {
     "name": "stdout",
     "output_type": "stream",
     "text": [
      "E 市における 700 万円を標準化した値: 3.3607880981738307\n",
      "F 市における 1000 万円を標準化した値: 2.5246322214434707\n"
     ]
    }
   ],
   "source": [
    "print(f\"E 市における 700 万円を標準化した値: {(700 - e_mean) / e_std}\")\n",
    "print(f\"F 市における 1000 万円を標準化した値: {(1000 - f_mean) / f_std}\")"
   ]
  },
  {
   "cell_type": "markdown",
   "metadata": {},
   "source": [
    "より平均(=0) から離れている E 市のほうが相対的に上位の所得階層に属すると考えられる。(③)"
   ]
  },
  {
   "cell_type": "markdown",
   "metadata": {},
   "source": [
    "### 2.2"
   ]
  },
  {
   "cell_type": "code",
   "execution_count": 34,
   "metadata": {},
   "outputs": [
    {
     "name": "stdout",
     "output_type": "stream",
     "text": [
      "[1.01839155 1.03693498 1.0036485 ]\n",
      "算術平均: 1.0196583445605691, 幾何平均: 1.0195675030162887\n"
     ]
    }
   ],
   "source": [
    "gdps = np.array([542249.0, 552221.8, 572618.1, 574707.3])\n",
    "\n",
    "# 対前年比\n",
    "# gdp_yoy = gdp / gdp[0]\n",
    "# gdp_yoy = gdp_yoy[1:]\n",
    "\n",
    "gdps_yoy = []\n",
    "for i in range(len(gdps)):\n",
    "    if i == 0:\n",
    "        continue\n",
    "    gdps_yoy.append(gdps[i] / gdps[i - 1])\n",
    "gdps_yoy = np.array(gdps_yoy)\n",
    "\n",
    "print(gdps_yoy)\n",
    "print(f\"算術平均: {gdps_yoy.mean()}, 幾何平均: {np.power(gdps[-1] / gdps[0], 1 / (len(gdps) - 1))}\")"
   ]
  },
  {
   "cell_type": "code",
   "execution_count": 22,
   "metadata": {},
   "outputs": [
    {
     "data": {
      "text/plain": [
       "10.0"
      ]
     },
     "execution_count": 22,
     "metadata": {},
     "output_type": "execute_result"
    }
   ],
   "source": [
    "np.power(100, 0.5)"
   ]
  },
  {
   "cell_type": "code",
   "execution_count": null,
   "metadata": {},
   "outputs": [],
   "source": []
  }
 ],
 "metadata": {
  "interpreter": {
   "hash": "6a5734c5f4a1621d3ab09ae1dbcdbd16746f565859a5cde4eb664bbbd35d618c"
  },
  "kernelspec": {
   "display_name": "Python 3.9.7 64-bit ('3.9.7': pyenv)",
   "language": "python",
   "name": "python3"
  },
  "language_info": {
   "codemirror_mode": {
    "name": "ipython",
    "version": 3
   },
   "file_extension": ".py",
   "mimetype": "text/x-python",
   "name": "python",
   "nbconvert_exporter": "python",
   "pygments_lexer": "ipython3",
   "version": "3.9.7"
  },
  "orig_nbformat": 4
 },
 "nbformat": 4,
 "nbformat_minor": 2
}
