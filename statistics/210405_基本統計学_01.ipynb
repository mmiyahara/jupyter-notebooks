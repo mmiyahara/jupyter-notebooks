{
 "cells": [
  {
   "cell_type": "markdown",
   "id": "da1425e6",
   "metadata": {},
   "source": [
    "## 学んだこと / 所感\n",
    "\n",
    "- `ndarray > condition` で `True/False` の `array` が返ってくる。知らなかったが便利そう。\n",
    "- 0以外の値をカウントするときは[numpy.count_nonzero](https://numpy.org/doc/stable/reference/generated/numpy.count_nonzero.html)を使う。\n",
    "- `sns.histplot` の返り値は `matplotlib.axes.Axes` なので、`matplotlib.axes.Axes.set_xticks` 等で細かい調整ができる。"
   ]
  },
  {
   "cell_type": "code",
   "execution_count": 74,
   "id": "433ee240",
   "metadata": {},
   "outputs": [],
   "source": [
    "import numpy as np\n",
    "import pandas as pd\n",
    "import matplotlib as plt\n",
    "import seaborn as sns"
   ]
  },
  {
   "cell_type": "code",
   "execution_count": 75,
   "id": "b581d611",
   "metadata": {},
   "outputs": [
    {
     "data": {
      "text/html": [
       "<div>\n",
       "<style scoped>\n",
       "    .dataframe tbody tr th:only-of-type {\n",
       "        vertical-align: middle;\n",
       "    }\n",
       "\n",
       "    .dataframe tbody tr th {\n",
       "        vertical-align: top;\n",
       "    }\n",
       "\n",
       "    .dataframe thead th {\n",
       "        text-align: right;\n",
       "    }\n",
       "</style>\n",
       "<table border=\"1\" class=\"dataframe\">\n",
       "  <thead>\n",
       "    <tr style=\"text-align: right;\">\n",
       "      <th></th>\n",
       "      <th>class</th>\n",
       "      <th>class_boundaries</th>\n",
       "    </tr>\n",
       "  </thead>\n",
       "  <tbody>\n",
       "    <tr>\n",
       "      <th>0</th>\n",
       "      <td>44.5</td>\n",
       "      <td>39.5 - 49.5</td>\n",
       "    </tr>\n",
       "    <tr>\n",
       "      <th>1</th>\n",
       "      <td>55.5</td>\n",
       "      <td>49.5 - 59.5</td>\n",
       "    </tr>\n",
       "    <tr>\n",
       "      <th>2</th>\n",
       "      <td>65.5</td>\n",
       "      <td>59.5 - 69.5</td>\n",
       "    </tr>\n",
       "    <tr>\n",
       "      <th>3</th>\n",
       "      <td>75.5</td>\n",
       "      <td>69.5 - 79.5</td>\n",
       "    </tr>\n",
       "    <tr>\n",
       "      <th>4</th>\n",
       "      <td>85.5</td>\n",
       "      <td>79.5 - 89.5</td>\n",
       "    </tr>\n",
       "  </tbody>\n",
       "</table>\n",
       "</div>"
      ],
      "text/plain": [
       "   class class_boundaries\n",
       "0   44.5      39.5 - 49.5\n",
       "1   55.5      49.5 - 59.5\n",
       "2   65.5      59.5 - 69.5\n",
       "3   75.5      69.5 - 79.5\n",
       "4   85.5      79.5 - 89.5"
      ]
     },
     "execution_count": 75,
     "metadata": {},
     "output_type": "execute_result"
    }
   ],
   "source": [
    "# 1.1\n",
    "\n",
    "x = np.array([\n",
    "    47,61,77,74,60,\n",
    "    43,63,50,82,62,\n",
    "    67,58,55,86,66,\n",
    "    54,52,69,66,78\n",
    "])\n",
    "\n",
    "class_value = [44.5, 55.5, 65.5, 75.5, 85.5]\n",
    "class_boudaries = ['39.5 - 49.5','49.5 - 59.5','59.5 - 69.5', '69.5 - 79.5', '79.5 - 89.5']\n",
    "freq_table = pd.DataFrame({'class': class_value, 'class_boundaries': class_boudaries})\n",
    "freq_table"
   ]
  },
  {
   "cell_type": "code",
   "execution_count": 76,
   "id": "f5a380bc",
   "metadata": {},
   "outputs": [
    {
     "data": {
      "text/html": [
       "<div>\n",
       "<style scoped>\n",
       "    .dataframe tbody tr th:only-of-type {\n",
       "        vertical-align: middle;\n",
       "    }\n",
       "\n",
       "    .dataframe tbody tr th {\n",
       "        vertical-align: top;\n",
       "    }\n",
       "\n",
       "    .dataframe thead th {\n",
       "        text-align: right;\n",
       "    }\n",
       "</style>\n",
       "<table border=\"1\" class=\"dataframe\">\n",
       "  <thead>\n",
       "    <tr style=\"text-align: right;\">\n",
       "      <th></th>\n",
       "      <th>class</th>\n",
       "      <th>class_boundaries</th>\n",
       "      <th>freq</th>\n",
       "      <th>r_freq</th>\n",
       "      <th>c_freq</th>\n",
       "      <th>cr_freq</th>\n",
       "    </tr>\n",
       "  </thead>\n",
       "  <tbody>\n",
       "    <tr>\n",
       "      <th>0</th>\n",
       "      <td>44.5</td>\n",
       "      <td>39.5 - 49.5</td>\n",
       "      <td>2</td>\n",
       "      <td>0.10</td>\n",
       "      <td>2</td>\n",
       "      <td>0.10</td>\n",
       "    </tr>\n",
       "    <tr>\n",
       "      <th>1</th>\n",
       "      <td>55.5</td>\n",
       "      <td>49.5 - 59.5</td>\n",
       "      <td>5</td>\n",
       "      <td>0.25</td>\n",
       "      <td>7</td>\n",
       "      <td>0.35</td>\n",
       "    </tr>\n",
       "    <tr>\n",
       "      <th>2</th>\n",
       "      <td>65.5</td>\n",
       "      <td>59.5 - 69.5</td>\n",
       "      <td>8</td>\n",
       "      <td>0.40</td>\n",
       "      <td>15</td>\n",
       "      <td>0.75</td>\n",
       "    </tr>\n",
       "    <tr>\n",
       "      <th>3</th>\n",
       "      <td>75.5</td>\n",
       "      <td>69.5 - 79.5</td>\n",
       "      <td>3</td>\n",
       "      <td>0.15</td>\n",
       "      <td>18</td>\n",
       "      <td>0.90</td>\n",
       "    </tr>\n",
       "    <tr>\n",
       "      <th>4</th>\n",
       "      <td>85.5</td>\n",
       "      <td>79.5 - 89.5</td>\n",
       "      <td>2</td>\n",
       "      <td>0.10</td>\n",
       "      <td>20</td>\n",
       "      <td>1.00</td>\n",
       "    </tr>\n",
       "  </tbody>\n",
       "</table>\n",
       "</div>"
      ],
      "text/plain": [
       "   class class_boundaries  freq  r_freq  c_freq  cr_freq\n",
       "0   44.5      39.5 - 49.5     2    0.10       2     0.10\n",
       "1   55.5      49.5 - 59.5     5    0.25       7     0.35\n",
       "2   65.5      59.5 - 69.5     8    0.40      15     0.75\n",
       "3   75.5      69.5 - 79.5     3    0.15      18     0.90\n",
       "4   85.5      79.5 - 89.5     2    0.10      20     1.00"
      ]
     },
     "execution_count": 76,
     "metadata": {},
     "output_type": "execute_result"
    }
   ],
   "source": [
    "# 度数\n",
    "first_freq = np.count_nonzero((39.5 < x) & (x < 49.5))\n",
    "second_freq  = np.count_nonzero((49.5 < x) & (x < 59.5))\n",
    "third_freq  = np.count_nonzero((59.5 < x) & (x < 69.5))\n",
    "fourth_freq  = np.count_nonzero((69.5 < x) & (x < 79.5))\n",
    "fifth_freq  = np.count_nonzero((79.5 < x) & (x < 89.5))\n",
    "freq_table['freq'] = [first_freq, second_freq, third_freq, fourth_freq, fifth_freq]\n",
    "\n",
    "# 相対度数\n",
    "len_x = len(x)\n",
    "r_first_freq = first_freq / len_x\n",
    "r_second_freq = second_freq / len_x\n",
    "r_third_freq = third_freq / len_x\n",
    "r_fourth_freq = fourth_freq / len_x\n",
    "r_fifth_freq = fifth_freq/ len_x\n",
    "freq_table['r_freq'] = [r_fifth_freq, r_second_freq, r_third_freq, r_fourth_freq, r_fifth_freq]\n",
    "\n",
    "# 累積度数\n",
    "c_first_freq = first_freq\n",
    "c_second_freq = first_freq + second_freq\n",
    "c_third_freq = c_second_freq + third_freq\n",
    "c_fourth_freq = c_third_freq + fourth_freq\n",
    "c_fifth_freq = c_fourth_freq + fifth_freq\n",
    "freq_table['c_freq'] = [c_first_freq, c_second_freq, c_third_freq, c_fourth_freq, c_fifth_freq]\n",
    "\n",
    "# 累積相対度数\n",
    "cr_first_freq = r_first_freq\n",
    "cr_second_freq = r_first_freq + r_second_freq\n",
    "cr_third_freq = cr_second_freq + r_third_freq\n",
    "cr_fourth_freq = cr_third_freq + r_fourth_freq\n",
    "cr_fifth_freq = cr_fourth_freq + r_fifth_freq\n",
    "freq_table['cr_freq'] = [cr_first_freq, cr_second_freq, cr_third_freq, cr_fourth_freq, cr_fifth_freq]\n",
    "\n",
    "freq_table"
   ]
  },
  {
   "cell_type": "code",
   "execution_count": 77,
   "id": "f06c67eb",
   "metadata": {},
   "outputs": [
    {
     "data": {
      "text/plain": [
       "<AxesSubplot:xlabel='weight', ylabel='Count'>"
      ]
     },
     "execution_count": 77,
     "metadata": {},
     "output_type": "execute_result"
    },
    {
     "data": {
      "image/png": "[encoded data removed]",
      "text/plain": [
       "<Figure size 432x288 with 1 Axes>"
      ]
     },
     "metadata": {
      "needs_background": "light"
     },
     "output_type": "display_data"
    }
   ],
   "source": [
    "sns.histplot(pd.DataFrame({'weight': x}), x='weight', binwidth=10, binrange=(35, 95))"
   ]
  },
  {
   "cell_type": "code",
   "execution_count": 78,
   "id": "72576380",
   "metadata": {},
   "outputs": [],
   "source": [
    "## 1.2\n",
    "\n",
    "x = np.array([\n",
    "    2, -15, 3, 6, -1,\n",
    "    -2, 5, 8, 13, -19,\n",
    "    1, -5, -7, 18, 10,\n",
    "    14, -3, 10, 4, -9\n",
    "])"
   ]
  },
  {
   "cell_type": "code",
   "execution_count": 79,
   "id": "906e06ee",
   "metadata": {},
   "outputs": [
    {
     "data": {
      "text/html": [
       "<div>\n",
       "<style scoped>\n",
       "    .dataframe tbody tr th:only-of-type {\n",
       "        vertical-align: middle;\n",
       "    }\n",
       "\n",
       "    .dataframe tbody tr th {\n",
       "        vertical-align: top;\n",
       "    }\n",
       "\n",
       "    .dataframe thead th {\n",
       "        text-align: right;\n",
       "    }\n",
       "</style>\n",
       "<table border=\"1\" class=\"dataframe\">\n",
       "  <thead>\n",
       "    <tr style=\"text-align: right;\">\n",
       "      <th></th>\n",
       "      <th>階級値</th>\n",
       "      <th>度数</th>\n",
       "      <th>累積度数</th>\n",
       "      <th>相対度数</th>\n",
       "      <th>累積相対度数</th>\n",
       "    </tr>\n",
       "    <tr>\n",
       "      <th>階級</th>\n",
       "      <th></th>\n",
       "      <th></th>\n",
       "      <th></th>\n",
       "      <th></th>\n",
       "      <th></th>\n",
       "    </tr>\n",
       "  </thead>\n",
       "  <tbody>\n",
       "    <tr>\n",
       "      <th>-20.5以上-12.5未満</th>\n",
       "      <td>-16.5</td>\n",
       "      <td>2</td>\n",
       "      <td>2</td>\n",
       "      <td>0.10</td>\n",
       "      <td>0.10</td>\n",
       "    </tr>\n",
       "    <tr>\n",
       "      <th>-12.5以上-4.5未満</th>\n",
       "      <td>-8.5</td>\n",
       "      <td>3</td>\n",
       "      <td>5</td>\n",
       "      <td>0.15</td>\n",
       "      <td>0.25</td>\n",
       "    </tr>\n",
       "    <tr>\n",
       "      <th>-4.5以上3.5未満</th>\n",
       "      <td>-0.5</td>\n",
       "      <td>6</td>\n",
       "      <td>11</td>\n",
       "      <td>0.30</td>\n",
       "      <td>0.55</td>\n",
       "    </tr>\n",
       "    <tr>\n",
       "      <th>3.5以上11.5未満</th>\n",
       "      <td>7.5</td>\n",
       "      <td>6</td>\n",
       "      <td>17</td>\n",
       "      <td>0.30</td>\n",
       "      <td>0.85</td>\n",
       "    </tr>\n",
       "    <tr>\n",
       "      <th>11.5以上19.5未満</th>\n",
       "      <td>15.5</td>\n",
       "      <td>3</td>\n",
       "      <td>20</td>\n",
       "      <td>0.15</td>\n",
       "      <td>1.00</td>\n",
       "    </tr>\n",
       "  </tbody>\n",
       "</table>\n",
       "</div>"
      ],
      "text/plain": [
       "                 階級値  度数  累積度数  相対度数  累積相対度数\n",
       "階級                                          \n",
       "-20.5以上-12.5未満 -16.5   2     2  0.10    0.10\n",
       "-12.5以上-4.5未満   -8.5   3     5  0.15    0.25\n",
       "-4.5以上3.5未満     -0.5   6    11  0.30    0.55\n",
       "3.5以上11.5未満      7.5   6    17  0.30    0.85\n",
       "11.5以上19.5未満    15.5   3    20  0.15    1.00"
      ]
     },
     "execution_count": 79,
     "metadata": {},
     "output_type": "execute_result"
    }
   ],
   "source": [
    "# ref: https://qiita.com/TakuTaku36/items/91032625e482f2ae6e18\n",
    "def Frequency_Distribution(data, class_width=None, min_value=None):\n",
    "    data = np.asarray(data)\n",
    "    if class_width is None:\n",
    "        class_size = int(np.log2(data.size).round()) + 1\n",
    "        class_width = round((data.max() - data.min()) / class_size)\n",
    "    if min_value is None:\n",
    "        min_value = data.min()\n",
    "\n",
    "    bins = np.arange(min_value, data.max()+class_width+1, class_width)\n",
    "    hist = np.histogram(data, bins)[0]\n",
    "    cumsum = hist.cumsum()\n",
    "\n",
    "    return pd.DataFrame({\n",
    "        '階級値': (bins[1:] + bins[:-1]) / 2,\n",
    "        '度数': hist,\n",
    "        '累積度数': cumsum,\n",
    "        '相対度数': hist / cumsum[-1],\n",
    "        '累積相対度数': cumsum / cumsum[-1]},\n",
    "        index = pd.Index([f'{round(bins[i], 2)}以上{round(bins[i+1], 2)}未満' for i in range(hist.size)], name='階級')\n",
    "    )\n",
    "\n",
    "Frequency_Distribution(x, class_width=8, min_value=-20.5)"
   ]
  },
  {
   "cell_type": "code",
   "execution_count": 80,
   "id": "2b4e547f",
   "metadata": {},
   "outputs": [
    {
     "data": {
      "text/plain": [
       "[<matplotlib.axis.XTick at 0x7fc94b70fa90>,\n",
       " <matplotlib.axis.XTick at 0x7fc94b70fa60>,\n",
       " <matplotlib.axis.XTick at 0x7fc94b723d90>,\n",
       " <matplotlib.axis.XTick at 0x7fc94b69e460>,\n",
       " <matplotlib.axis.XTick at 0x7fc94b69e970>,\n",
       " <matplotlib.axis.XTick at 0x7fc94b69ee80>]"
      ]
     },
     "execution_count": 80,
     "metadata": {},
     "output_type": "execute_result"
    },
    {
     "data": {
      "image/png": "[encoded data removed]",
      "text/plain": [
       "<Figure size 432x288 with 1 Axes>"
      ]
     },
     "metadata": {
      "needs_background": "light"
     },
     "output_type": "display_data"
    }
   ],
   "source": [
    "axes = sns.histplot(pd.DataFrame({'value': x}), x='value', binrange=(-28.5, 27.5), binwidth=8)\n",
    "# ref: https://matplotlib.org/stable/api/_as_gen/matplotlib.axes.Axes.set_xticks.html#matplotlib.axes.Axes.set_xticks\n",
    "axes.set_xticks([-20.5, -12.5, -4.5, 3.5, 11.5, 19.5])"
   ]
  },
  {
   "cell_type": "code",
   "execution_count": 84,
   "id": "95eb56a6",
   "metadata": {},
   "outputs": [
    {
     "data": {
      "text/html": [
       "<div>\n",
       "<style scoped>\n",
       "    .dataframe tbody tr th:only-of-type {\n",
       "        vertical-align: middle;\n",
       "    }\n",
       "\n",
       "    .dataframe tbody tr th {\n",
       "        vertical-align: top;\n",
       "    }\n",
       "\n",
       "    .dataframe thead th {\n",
       "        text-align: right;\n",
       "    }\n",
       "</style>\n",
       "<table border=\"1\" class=\"dataframe\">\n",
       "  <thead>\n",
       "    <tr style=\"text-align: right;\">\n",
       "      <th></th>\n",
       "      <th>階級値</th>\n",
       "      <th>度数</th>\n",
       "      <th>累積度数</th>\n",
       "      <th>相対度数</th>\n",
       "      <th>累積相対度数</th>\n",
       "    </tr>\n",
       "    <tr>\n",
       "      <th>階級</th>\n",
       "      <th></th>\n",
       "      <th></th>\n",
       "      <th></th>\n",
       "      <th></th>\n",
       "      <th></th>\n",
       "    </tr>\n",
       "  </thead>\n",
       "  <tbody>\n",
       "    <tr>\n",
       "      <th>-10.05以上-8.05未満</th>\n",
       "      <td>-9.05</td>\n",
       "      <td>0</td>\n",
       "      <td>0</td>\n",
       "      <td>0.000000</td>\n",
       "      <td>0.000000</td>\n",
       "    </tr>\n",
       "    <tr>\n",
       "      <th>-8.05以上-6.05未満</th>\n",
       "      <td>-7.05</td>\n",
       "      <td>0</td>\n",
       "      <td>0</td>\n",
       "      <td>0.000000</td>\n",
       "      <td>0.000000</td>\n",
       "    </tr>\n",
       "    <tr>\n",
       "      <th>-6.05以上-4.05未満</th>\n",
       "      <td>-5.05</td>\n",
       "      <td>4</td>\n",
       "      <td>4</td>\n",
       "      <td>0.111111</td>\n",
       "      <td>0.111111</td>\n",
       "    </tr>\n",
       "    <tr>\n",
       "      <th>-4.05以上-2.05未満</th>\n",
       "      <td>-3.05</td>\n",
       "      <td>8</td>\n",
       "      <td>12</td>\n",
       "      <td>0.222222</td>\n",
       "      <td>0.333333</td>\n",
       "    </tr>\n",
       "    <tr>\n",
       "      <th>-2.05以上-0.05未満</th>\n",
       "      <td>-1.05</td>\n",
       "      <td>8</td>\n",
       "      <td>20</td>\n",
       "      <td>0.222222</td>\n",
       "      <td>0.555556</td>\n",
       "    </tr>\n",
       "    <tr>\n",
       "      <th>-0.05以上1.95未満</th>\n",
       "      <td>0.95</td>\n",
       "      <td>11</td>\n",
       "      <td>31</td>\n",
       "      <td>0.305556</td>\n",
       "      <td>0.861111</td>\n",
       "    </tr>\n",
       "    <tr>\n",
       "      <th>1.95以上3.95未満</th>\n",
       "      <td>2.95</td>\n",
       "      <td>4</td>\n",
       "      <td>35</td>\n",
       "      <td>0.111111</td>\n",
       "      <td>0.972222</td>\n",
       "    </tr>\n",
       "    <tr>\n",
       "      <th>3.95以上5.95未満</th>\n",
       "      <td>4.95</td>\n",
       "      <td>1</td>\n",
       "      <td>36</td>\n",
       "      <td>0.027778</td>\n",
       "      <td>1.000000</td>\n",
       "    </tr>\n",
       "    <tr>\n",
       "      <th>5.95以上7.95未満</th>\n",
       "      <td>6.95</td>\n",
       "      <td>0</td>\n",
       "      <td>36</td>\n",
       "      <td>0.000000</td>\n",
       "      <td>1.000000</td>\n",
       "    </tr>\n",
       "  </tbody>\n",
       "</table>\n",
       "</div>"
      ],
      "text/plain": [
       "                  階級値  度数  累積度数      相対度数    累積相対度数\n",
       "階級                                                 \n",
       "-10.05以上-8.05未満 -9.05   0     0  0.000000  0.000000\n",
       "-8.05以上-6.05未満  -7.05   0     0  0.000000  0.000000\n",
       "-6.05以上-4.05未満  -5.05   4     4  0.111111  0.111111\n",
       "-4.05以上-2.05未満  -3.05   8    12  0.222222  0.333333\n",
       "-2.05以上-0.05未満  -1.05   8    20  0.222222  0.555556\n",
       "-0.05以上1.95未満    0.95  11    31  0.305556  0.861111\n",
       "1.95以上3.95未満     2.95   4    35  0.111111  0.972222\n",
       "3.95以上5.95未満     4.95   1    36  0.027778  1.000000\n",
       "5.95以上7.95未満     6.95   0    36  0.000000  1.000000"
      ]
     },
     "execution_count": 84,
     "metadata": {},
     "output_type": "execute_result"
    }
   ],
   "source": [
    "# 1.3\n",
    "x = np.array([\n",
    "    2.8, -0.1, -2.6, 1.3, 1.6, 1.6, -0.8, -4.0, -1.5, 0.6, -3.9, 1.0,\n",
    "    -4.2, -0.5, -5.9, 1.7, 1.6, 2.7, -0.1, 2.3, -2.3, -6.0, -3.5, -5.7,\n",
    "    -1.0, 2.3, 5.8, 1.2, -2.7, 0.2, -2.1, 0.4, -3.5, -1.3, -1.2, 0.4\n",
    "])\n",
    "\n",
    "Frequency_Distribution(x, class_width=2, min_value=-10.05)"
   ]
  },
  {
   "cell_type": "code",
   "execution_count": 89,
   "id": "09f66f04",
   "metadata": {},
   "outputs": [
    {
     "data": {
      "text/plain": [
       "[<matplotlib.axis.XTick at 0x7fc94caf56a0>,\n",
       " <matplotlib.axis.XTick at 0x7fc94caf5670>,\n",
       " <matplotlib.axis.XTick at 0x7fc94cba4970>,\n",
       " <matplotlib.axis.XTick at 0x7fc94cbc1310>,\n",
       " <matplotlib.axis.XTick at 0x7fc94cbc1820>,\n",
       " <matplotlib.axis.XTick at 0x7fc94cbc1d30>,\n",
       " <matplotlib.axis.XTick at 0x7fc94cbc4280>]"
      ]
     },
     "execution_count": 89,
     "metadata": {},
     "output_type": "execute_result"
    },
    {
     "data": {
      "image/png": "[encoded data removed]",
      "text/plain": [
       "<Figure size 432x288 with 1 Axes>"
      ]
     },
     "metadata": {
      "needs_background": "light"
     },
     "output_type": "display_data"
    }
   ],
   "source": [
    "axes = sns.histplot(pd.DataFrame({'delta_exchange_rate': x}), x='delta_exchange_rate', binwidth=2, binrange=(-8, 8))\n",
    "axes.set_xticks([-6.05, -4.05, -2.05, -0.05, 1.95, 3.95, 5.95])"
   ]
  },
  {
   "cell_type": "code",
   "execution_count": 92,
   "id": "152b4e5d",
   "metadata": {},
   "outputs": [
    {
     "name": "stdout",
     "output_type": "stream",
     "text": [
      "階級値: [ 125  375  625  875 1115 1375]\n",
      "相対度数: [0.033, 0.276, 0.346, 0.213, 0.095, 0.037]\n",
      "累積度数: [137, 1280, 2715, 3599, 3991, 4144]\n",
      "累積相対度数: [0.033, 0.309, 0.655, 0.868, 0.963, 1.0]\n"
     ]
    }
   ],
   "source": [
    "# 1.4\n",
    "\n",
    "freq = np.array([\n",
    "    137, 1143, 1435, 884, 392, 153\n",
    "])\n",
    "\n",
    "freq_total = np.sum(freq)\n",
    "\n",
    "# 階級値\n",
    "\n",
    "class_values = np.array([125, 375, 625, 875, 1115, 1375])\n",
    "\n",
    "# 相対度数\n",
    "r_freq = [round(each_freq / freq_total, 3) for each_freq in freq]\n",
    "\n",
    "# 累積度数\n",
    "c_freq = freq.cumsum().tolist()\n",
    "\n",
    "# 累積相対度数\n",
    "cr_freq = [round(each_cr_freq, 3) for each_cr_freq in np.array(r_freq).cumsum()]\n",
    "\n",
    "print(f'階級値: {class_values}\\n相対度数: {r_freq}\\n累積度数: {c_freq}\\n累積相対度数: {cr_freq}')"
   ]
  },
  {
   "cell_type": "code",
   "execution_count": 104,
   "id": "fe36ae5d",
   "metadata": {},
   "outputs": [
    {
     "data": {
      "text/plain": [
       "<AxesSubplot:xlabel='salary', ylabel='freq'>"
      ]
     },
     "execution_count": 104,
     "metadata": {},
     "output_type": "execute_result"
    },
    {
     "data": {
      "image/png": "[encoded data removed]",
      "text/plain": [
       "<Figure size 432x288 with 1 Axes>"
      ]
     },
     "metadata": {
      "needs_background": "light"
     },
     "output_type": "display_data"
    }
   ],
   "source": [
    "axes = sns.barplot(x='salary', y='freq', data=pd.DataFrame({'salary': class_values, 'freq': freq}), color='blue')\n",
    "axes"
   ]
  }
 ],
 "metadata": {
  "kernelspec": {
   "display_name": "Python 3",
   "language": "python",
   "name": "python3"
  },
  "language_info": {
   "codemirror_mode": {
    "name": "ipython",
    "version": 3
   },
   "file_extension": ".py",
   "mimetype": "text/x-python",
   "name": "python",
   "nbconvert_exporter": "python",
   "pygments_lexer": "ipython3",
   "version": "3.8.8"
  }
 },
 "nbformat": 4,
 "nbformat_minor": 5
}
